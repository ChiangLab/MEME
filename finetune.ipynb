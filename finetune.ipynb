{
 "cells": [
  {
   "cell_type": "markdown",
   "id": "e6cdfe9b-3248-4257-8777-320411a5083e",
   "metadata": {},
   "source": [
    "# Notebook that handles fine-tuning from start to finish"
   ]
  },
  {
   "cell_type": "code",
   "execution_count": 3,
   "id": "bf2d0d69-8883-460f-9d43-ed584c3b8628",
   "metadata": {
    "tags": []
   },
   "outputs": [],
   "source": [
    "# # !pip install \"sagemaker>=2.140.0\" \"transformers==4.26.1\" \"datasets[s3]==2.10.1\" --upgrade\n",
    "# # !pip install git+https://github.com/huggingface/transformers.git\n",
    "\n",
    "# !pip install transformers datasets[s3] sagemaker --upgrade\n",
    "# !pip install scikit-learn\n",
    "# !pip install accelerate==0.20.3"
   ]
  },
  {
   "cell_type": "code",
   "execution_count": 2,
   "id": "f73ef536-b378-41a3-81ae-322c59b7057c",
   "metadata": {
    "tags": []
   },
   "outputs": [
    {
     "name": "stdout",
     "output_type": "stream",
     "text": [
      "sagemaker.config INFO - Not applying SDK defaults from location: /etc/xdg/sagemaker/config.yaml\n",
      "sagemaker.config INFO - Not applying SDK defaults from location: /root/.config/sagemaker/config.yaml\n"
     ]
    },
    {
     "name": "stderr",
     "output_type": "stream",
     "text": [
      "/opt/conda/lib/python3.9/site-packages/tqdm/auto.py:22: TqdmWarning: IProgress not found. Please update jupyter and ipywidgets. See https://ipywidgets.readthedocs.io/en/stable/user_install.html\n",
      "  from .autonotebook import tqdm as notebook_tqdm\n"
     ]
    }
   ],
   "source": [
    "import numpy as np\n",
    "from sagemaker import get_execution_role\n",
    "import boto3\n",
    "import pandas as pd\n",
    "from io import StringIO # Python 3.\n",
    "from datasets import load_dataset,Dataset,DatasetDict,concatenate_datasets\n",
    "\n",
    "from transformers import DataCollatorWithPadding,AutoModelForSequenceClassification, Trainer, TrainingArguments,AutoTokenizer,AutoModel,AutoConfig\n",
    "from transformers.modeling_outputs import TokenClassifierOutput\n",
    "import torch\n",
    "import torch.nn as nn\n",
    "import pandas as pd\n",
    "import json"
   ]
  },
  {
   "cell_type": "markdown",
   "id": "552fe514-9801-427b-a41c-a1147cf11d8d",
   "metadata": {
    "tags": []
   },
   "source": [
    "### Data we will be working with"
   ]
  },
  {
   "cell_type": "code",
   "execution_count": 3,
   "id": "93ea2dc7-0f30-4c0e-8bf1-164023eff1b8",
   "metadata": {},
   "outputs": [
    {
     "name": "stdout",
     "output_type": "stream",
     "text": [
      "length of dataframe: 400019\n"
     ]
    },
    {
     "data": {
      "text/html": [
       "<div>\n",
       "<style scoped>\n",
       "    .dataframe tbody tr th:only-of-type {\n",
       "        vertical-align: middle;\n",
       "    }\n",
       "\n",
       "    .dataframe tbody tr th {\n",
       "        vertical-align: top;\n",
       "    }\n",
       "\n",
       "    .dataframe thead th {\n",
       "        text-align: right;\n",
       "    }\n",
       "</style>\n",
       "<table border=\"1\" class=\"dataframe\">\n",
       "  <thead>\n",
       "    <tr style=\"text-align: right;\">\n",
       "      <th></th>\n",
       "      <th>arrival</th>\n",
       "      <th>eddischarge</th>\n",
       "      <th>admission</th>\n",
       "      <th>discharge</th>\n",
       "      <th>eddischarge_category</th>\n",
       "      <th>triage</th>\n",
       "      <th>medrecon</th>\n",
       "      <th>vitals</th>\n",
       "      <th>codes</th>\n",
       "      <th>pyxis</th>\n",
       "    </tr>\n",
       "  </thead>\n",
       "  <tbody>\n",
       "    <tr>\n",
       "      <th>33258284</th>\n",
       "      <td>Patient 10000032, a 52 year old white female, ...</td>\n",
       "      <td>The ED disposition was admitted at 2180-05-06 ...</td>\n",
       "      <td>The patient was admitted at 2180-05-06 22:23:00.</td>\n",
       "      <td>The patient's discharge disposition was: home ...</td>\n",
       "      <td>a d m i t t e d</td>\n",
       "      <td>At triage: temperature was 98.4, pulse was 70....</td>\n",
       "      <td>The patient was previously taking the followin...</td>\n",
       "      <td>The patient had the following vitals: At 2180-...</td>\n",
       "      <td>The patient received the following diagnostic ...</td>\n",
       "      <td>NaN</td>\n",
       "    </tr>\n",
       "    <tr>\n",
       "      <th>38112554</th>\n",
       "      <td>Patient 10000032, a 52 year old white female, ...</td>\n",
       "      <td>The ED disposition was admitted at 2180-06-26 ...</td>\n",
       "      <td>The patient was admitted at 2180-06-26 18:27:00.</td>\n",
       "      <td>The patient's discharge disposition was: home ...</td>\n",
       "      <td>a d m i t t e d</td>\n",
       "      <td>At triage: temperature was 98.9, pulse was 88....</td>\n",
       "      <td>The patient was previously taking the followin...</td>\n",
       "      <td>The patient had the following vitals: At 2180-...</td>\n",
       "      <td>The patient received the following diagnostic ...</td>\n",
       "      <td>The patient received the following medications...</td>\n",
       "    </tr>\n",
       "    <tr>\n",
       "      <th>35968195</th>\n",
       "      <td>Patient 10000032, a 52 year old white female, ...</td>\n",
       "      <td>The ED disposition was admitted at 2180-08-06 ...</td>\n",
       "      <td>The patient was admitted at 2180-08-05 23:44:00.</td>\n",
       "      <td>The patient's discharge disposition was: hospi...</td>\n",
       "      <td>a d m i t t e d</td>\n",
       "      <td>At triage: temperature was 99.4, pulse was 105...</td>\n",
       "      <td>The patient was previously taking the followin...</td>\n",
       "      <td>The patient had the following vitals: At 2180-...</td>\n",
       "      <td>The patient received the following diagnostic ...</td>\n",
       "      <td>The patient received the following medications...</td>\n",
       "    </tr>\n",
       "    <tr>\n",
       "      <th>32952584</th>\n",
       "      <td>Patient 10000032, a 52 year old white female, ...</td>\n",
       "      <td>The ED disposition was home at 2180-07-23 05:5...</td>\n",
       "      <td>The patient was admitted at 2180-07-23 12:35:00.</td>\n",
       "      <td>The patient's discharge disposition was: home ...</td>\n",
       "      <td>h o m e</td>\n",
       "      <td>At triage: temperature was 97.8, pulse was 87....</td>\n",
       "      <td>The patient was previously taking the followin...</td>\n",
       "      <td>The patient had the following vitals: At 2180-...</td>\n",
       "      <td>The patient received the following diagnostic ...</td>\n",
       "      <td>The patient received the following medications...</td>\n",
       "    </tr>\n",
       "    <tr>\n",
       "      <th>39399961</th>\n",
       "      <td>Patient 10000032, a 52 year old white female, ...</td>\n",
       "      <td>The ED disposition was admitted at 2180-07-23 ...</td>\n",
       "      <td>The patient was admitted at 2180-07-23 12:35:00.</td>\n",
       "      <td>The patient's discharge disposition was: home ...</td>\n",
       "      <td>a d m i t t e d</td>\n",
       "      <td>At triage: temperature was 98.7, pulse was 77....</td>\n",
       "      <td>The patient was previously taking the followin...</td>\n",
       "      <td>The patient had the following vitals: At 2180-...</td>\n",
       "      <td>The patient received the following diagnostic ...</td>\n",
       "      <td>The patient received the following medications...</td>\n",
       "    </tr>\n",
       "  </tbody>\n",
       "</table>\n",
       "</div>"
      ],
      "text/plain": [
       "                                                    arrival  \\\n",
       "33258284  Patient 10000032, a 52 year old white female, ...   \n",
       "38112554  Patient 10000032, a 52 year old white female, ...   \n",
       "35968195  Patient 10000032, a 52 year old white female, ...   \n",
       "32952584  Patient 10000032, a 52 year old white female, ...   \n",
       "39399961  Patient 10000032, a 52 year old white female, ...   \n",
       "\n",
       "                                                eddischarge  \\\n",
       "33258284  The ED disposition was admitted at 2180-05-06 ...   \n",
       "38112554  The ED disposition was admitted at 2180-06-26 ...   \n",
       "35968195  The ED disposition was admitted at 2180-08-06 ...   \n",
       "32952584  The ED disposition was home at 2180-07-23 05:5...   \n",
       "39399961  The ED disposition was admitted at 2180-07-23 ...   \n",
       "\n",
       "                                                 admission  \\\n",
       "33258284  The patient was admitted at 2180-05-06 22:23:00.   \n",
       "38112554  The patient was admitted at 2180-06-26 18:27:00.   \n",
       "35968195  The patient was admitted at 2180-08-05 23:44:00.   \n",
       "32952584  The patient was admitted at 2180-07-23 12:35:00.   \n",
       "39399961  The patient was admitted at 2180-07-23 12:35:00.   \n",
       "\n",
       "                                                  discharge  \\\n",
       "33258284  The patient's discharge disposition was: home ...   \n",
       "38112554  The patient's discharge disposition was: home ...   \n",
       "35968195  The patient's discharge disposition was: hospi...   \n",
       "32952584  The patient's discharge disposition was: home ...   \n",
       "39399961  The patient's discharge disposition was: home ...   \n",
       "\n",
       "         eddischarge_category  \\\n",
       "33258284      a d m i t t e d   \n",
       "38112554      a d m i t t e d   \n",
       "35968195      a d m i t t e d   \n",
       "32952584              h o m e   \n",
       "39399961      a d m i t t e d   \n",
       "\n",
       "                                                     triage  \\\n",
       "33258284  At triage: temperature was 98.4, pulse was 70....   \n",
       "38112554  At triage: temperature was 98.9, pulse was 88....   \n",
       "35968195  At triage: temperature was 99.4, pulse was 105...   \n",
       "32952584  At triage: temperature was 97.8, pulse was 87....   \n",
       "39399961  At triage: temperature was 98.7, pulse was 77....   \n",
       "\n",
       "                                                   medrecon  \\\n",
       "33258284  The patient was previously taking the followin...   \n",
       "38112554  The patient was previously taking the followin...   \n",
       "35968195  The patient was previously taking the followin...   \n",
       "32952584  The patient was previously taking the followin...   \n",
       "39399961  The patient was previously taking the followin...   \n",
       "\n",
       "                                                     vitals  \\\n",
       "33258284  The patient had the following vitals: At 2180-...   \n",
       "38112554  The patient had the following vitals: At 2180-...   \n",
       "35968195  The patient had the following vitals: At 2180-...   \n",
       "32952584  The patient had the following vitals: At 2180-...   \n",
       "39399961  The patient had the following vitals: At 2180-...   \n",
       "\n",
       "                                                      codes  \\\n",
       "33258284  The patient received the following diagnostic ...   \n",
       "38112554  The patient received the following diagnostic ...   \n",
       "35968195  The patient received the following diagnostic ...   \n",
       "32952584  The patient received the following diagnostic ...   \n",
       "39399961  The patient received the following diagnostic ...   \n",
       "\n",
       "                                                      pyxis  \n",
       "33258284                                                NaN  \n",
       "38112554  The patient received the following medications...  \n",
       "35968195  The patient received the following medications...  \n",
       "32952584  The patient received the following medications...  \n",
       "39399961  The patient received the following medications...  "
      ]
     },
     "execution_count": 3,
     "metadata": {},
     "output_type": "execute_result"
    }
   ],
   "source": [
    "bucket_name = 'chianglab-dataderivatives'\n",
    "file_path = \"mimic-iv-ed-2.2/text_repr.json\"\n",
    "\n",
    "s3 = boto3.resource('s3')\n",
    "content_object = s3.Object(bucket_name, file_path)\n",
    "file_content = content_object.get()['Body'].read().decode('utf-8')\n",
    "json_content = json.loads(file_content)\n",
    "df = pd.DataFrame(json_content).T\n",
    "print(\"length of dataframe: \"+ str(len(df)))\n",
    "df.head(5)\n",
    "# df['codes_headline'] = df['ID'].map(json_content)\n"
   ]
  },
  {
   "cell_type": "code",
   "execution_count": 4,
   "id": "cc4b0f90-7596-4d53-8334-8bb0c6695f0b",
   "metadata": {
    "tags": []
   },
   "outputs": [
    {
     "data": {
      "text/html": [
       "<div>\n",
       "<style scoped>\n",
       "    .dataframe tbody tr th:only-of-type {\n",
       "        vertical-align: middle;\n",
       "    }\n",
       "\n",
       "    .dataframe tbody tr th {\n",
       "        vertical-align: top;\n",
       "    }\n",
       "\n",
       "    .dataframe thead th {\n",
       "        text-align: right;\n",
       "    }\n",
       "</style>\n",
       "<table border=\"1\" class=\"dataframe\">\n",
       "  <thead>\n",
       "    <tr style=\"text-align: right;\">\n",
       "      <th></th>\n",
       "      <th>arrival</th>\n",
       "      <th>triage</th>\n",
       "      <th>medrecon</th>\n",
       "      <th>vitals</th>\n",
       "      <th>codes</th>\n",
       "      <th>pyxis</th>\n",
       "      <th>ID</th>\n",
       "      <th>eddischarge</th>\n",
       "    </tr>\n",
       "  </thead>\n",
       "  <tbody>\n",
       "    <tr>\n",
       "      <th>33258284</th>\n",
       "      <td>Patient 10000032, a 52 year old white female, ...</td>\n",
       "      <td>At triage: temperature was 98.4, pulse was 70....</td>\n",
       "      <td>The patient was previously taking the followin...</td>\n",
       "      <td>The patient had the following vitals: At 2180-...</td>\n",
       "      <td>The patient received the following diagnostic ...</td>\n",
       "      <td>The patient did not receive any medications.</td>\n",
       "      <td>10000032</td>\n",
       "      <td>1</td>\n",
       "    </tr>\n",
       "    <tr>\n",
       "      <th>38112554</th>\n",
       "      <td>Patient 10000032, a 52 year old white female, ...</td>\n",
       "      <td>At triage: temperature was 98.9, pulse was 88....</td>\n",
       "      <td>The patient was previously taking the followin...</td>\n",
       "      <td>The patient had the following vitals: At 2180-...</td>\n",
       "      <td>The patient received the following diagnostic ...</td>\n",
       "      <td>The patient received the following medications...</td>\n",
       "      <td>10000032</td>\n",
       "      <td>1</td>\n",
       "    </tr>\n",
       "    <tr>\n",
       "      <th>35968195</th>\n",
       "      <td>Patient 10000032, a 52 year old white female, ...</td>\n",
       "      <td>At triage: temperature was 99.4, pulse was 105...</td>\n",
       "      <td>The patient was previously taking the followin...</td>\n",
       "      <td>The patient had the following vitals: At 2180-...</td>\n",
       "      <td>The patient received the following diagnostic ...</td>\n",
       "      <td>The patient received the following medications...</td>\n",
       "      <td>10000032</td>\n",
       "      <td>1</td>\n",
       "    </tr>\n",
       "    <tr>\n",
       "      <th>32952584</th>\n",
       "      <td>Patient 10000032, a 52 year old white female, ...</td>\n",
       "      <td>At triage: temperature was 97.8, pulse was 87....</td>\n",
       "      <td>The patient was previously taking the followin...</td>\n",
       "      <td>The patient had the following vitals: At 2180-...</td>\n",
       "      <td>The patient received the following diagnostic ...</td>\n",
       "      <td>The patient received the following medications...</td>\n",
       "      <td>10000032</td>\n",
       "      <td>0</td>\n",
       "    </tr>\n",
       "    <tr>\n",
       "      <th>39399961</th>\n",
       "      <td>Patient 10000032, a 52 year old white female, ...</td>\n",
       "      <td>At triage: temperature was 98.7, pulse was 77....</td>\n",
       "      <td>The patient was previously taking the followin...</td>\n",
       "      <td>The patient had the following vitals: At 2180-...</td>\n",
       "      <td>The patient received the following diagnostic ...</td>\n",
       "      <td>The patient received the following medications...</td>\n",
       "      <td>10000032</td>\n",
       "      <td>1</td>\n",
       "    </tr>\n",
       "    <tr>\n",
       "      <th>...</th>\n",
       "      <td>...</td>\n",
       "      <td>...</td>\n",
       "      <td>...</td>\n",
       "      <td>...</td>\n",
       "      <td>...</td>\n",
       "      <td>...</td>\n",
       "      <td>...</td>\n",
       "      <td>...</td>\n",
       "    </tr>\n",
       "    <tr>\n",
       "      <th>34149746</th>\n",
       "      <td>Patient 19999784, a 57 year old black/african ...</td>\n",
       "      <td>At triage: temperature was 98.8, pulse was 92....</td>\n",
       "      <td>The patient was previously taking the followin...</td>\n",
       "      <td>The patient had the following vitals: At 2119-...</td>\n",
       "      <td>The patient received the following diagnostic ...</td>\n",
       "      <td>The patient received the following medications...</td>\n",
       "      <td>19999784</td>\n",
       "      <td>1</td>\n",
       "    </tr>\n",
       "    <tr>\n",
       "      <th>35692999</th>\n",
       "      <td>Patient 19999784, a 57 year old black/african ...</td>\n",
       "      <td>At triage: temperature was 98.6, pulse was 80....</td>\n",
       "      <td>The patient was previously not taking any medi...</td>\n",
       "      <td>The patient had the following vitals: At 2119-...</td>\n",
       "      <td>The patient received the following diagnostic ...</td>\n",
       "      <td>The patient did not receive any medications.</td>\n",
       "      <td>19999784</td>\n",
       "      <td>1</td>\n",
       "    </tr>\n",
       "    <tr>\n",
       "      <th>32917002</th>\n",
       "      <td>Patient 19999828, a 46 year old white female, ...</td>\n",
       "      <td>At triage: temperature was 96.6, pulse was 112...</td>\n",
       "      <td>The patient was previously taking the followin...</td>\n",
       "      <td>The patient had the following vitals: At 2149-...</td>\n",
       "      <td>The patient received the following diagnostic ...</td>\n",
       "      <td>The patient received the following medications...</td>\n",
       "      <td>19999828</td>\n",
       "      <td>1</td>\n",
       "    </tr>\n",
       "    <tr>\n",
       "      <th>30712109</th>\n",
       "      <td>Patient 19999828, a 46 year old white female, ...</td>\n",
       "      <td>At triage: temperature was 98.1, pulse was 83....</td>\n",
       "      <td>The patient was previously taking the followin...</td>\n",
       "      <td>The patient had the following vitals: At 2147-...</td>\n",
       "      <td>The patient received the following diagnostic ...</td>\n",
       "      <td>The patient received the following medications...</td>\n",
       "      <td>19999828</td>\n",
       "      <td>1</td>\n",
       "    </tr>\n",
       "    <tr>\n",
       "      <th>34731548</th>\n",
       "      <td>Patient 19999987, a 57 year old unknown female...</td>\n",
       "      <td>At triage: temperature was not recorded, pulse...</td>\n",
       "      <td>The patient was previously not taking any medi...</td>\n",
       "      <td>The patient had the following vitals: At 2145-...</td>\n",
       "      <td>The patient received the following diagnostic ...</td>\n",
       "      <td>The patient received the following medications...</td>\n",
       "      <td>19999987</td>\n",
       "      <td>1</td>\n",
       "    </tr>\n",
       "  </tbody>\n",
       "</table>\n",
       "<p>400019 rows × 8 columns</p>\n",
       "</div>"
      ],
      "text/plain": [
       "                                                    arrival  \\\n",
       "33258284  Patient 10000032, a 52 year old white female, ...   \n",
       "38112554  Patient 10000032, a 52 year old white female, ...   \n",
       "35968195  Patient 10000032, a 52 year old white female, ...   \n",
       "32952584  Patient 10000032, a 52 year old white female, ...   \n",
       "39399961  Patient 10000032, a 52 year old white female, ...   \n",
       "...                                                     ...   \n",
       "34149746  Patient 19999784, a 57 year old black/african ...   \n",
       "35692999  Patient 19999784, a 57 year old black/african ...   \n",
       "32917002  Patient 19999828, a 46 year old white female, ...   \n",
       "30712109  Patient 19999828, a 46 year old white female, ...   \n",
       "34731548  Patient 19999987, a 57 year old unknown female...   \n",
       "\n",
       "                                                     triage  \\\n",
       "33258284  At triage: temperature was 98.4, pulse was 70....   \n",
       "38112554  At triage: temperature was 98.9, pulse was 88....   \n",
       "35968195  At triage: temperature was 99.4, pulse was 105...   \n",
       "32952584  At triage: temperature was 97.8, pulse was 87....   \n",
       "39399961  At triage: temperature was 98.7, pulse was 77....   \n",
       "...                                                     ...   \n",
       "34149746  At triage: temperature was 98.8, pulse was 92....   \n",
       "35692999  At triage: temperature was 98.6, pulse was 80....   \n",
       "32917002  At triage: temperature was 96.6, pulse was 112...   \n",
       "30712109  At triage: temperature was 98.1, pulse was 83....   \n",
       "34731548  At triage: temperature was not recorded, pulse...   \n",
       "\n",
       "                                                   medrecon  \\\n",
       "33258284  The patient was previously taking the followin...   \n",
       "38112554  The patient was previously taking the followin...   \n",
       "35968195  The patient was previously taking the followin...   \n",
       "32952584  The patient was previously taking the followin...   \n",
       "39399961  The patient was previously taking the followin...   \n",
       "...                                                     ...   \n",
       "34149746  The patient was previously taking the followin...   \n",
       "35692999  The patient was previously not taking any medi...   \n",
       "32917002  The patient was previously taking the followin...   \n",
       "30712109  The patient was previously taking the followin...   \n",
       "34731548  The patient was previously not taking any medi...   \n",
       "\n",
       "                                                     vitals  \\\n",
       "33258284  The patient had the following vitals: At 2180-...   \n",
       "38112554  The patient had the following vitals: At 2180-...   \n",
       "35968195  The patient had the following vitals: At 2180-...   \n",
       "32952584  The patient had the following vitals: At 2180-...   \n",
       "39399961  The patient had the following vitals: At 2180-...   \n",
       "...                                                     ...   \n",
       "34149746  The patient had the following vitals: At 2119-...   \n",
       "35692999  The patient had the following vitals: At 2119-...   \n",
       "32917002  The patient had the following vitals: At 2149-...   \n",
       "30712109  The patient had the following vitals: At 2147-...   \n",
       "34731548  The patient had the following vitals: At 2145-...   \n",
       "\n",
       "                                                      codes  \\\n",
       "33258284  The patient received the following diagnostic ...   \n",
       "38112554  The patient received the following diagnostic ...   \n",
       "35968195  The patient received the following diagnostic ...   \n",
       "32952584  The patient received the following diagnostic ...   \n",
       "39399961  The patient received the following diagnostic ...   \n",
       "...                                                     ...   \n",
       "34149746  The patient received the following diagnostic ...   \n",
       "35692999  The patient received the following diagnostic ...   \n",
       "32917002  The patient received the following diagnostic ...   \n",
       "30712109  The patient received the following diagnostic ...   \n",
       "34731548  The patient received the following diagnostic ...   \n",
       "\n",
       "                                                      pyxis         ID  \\\n",
       "33258284       The patient did not receive any medications.  10000032    \n",
       "38112554  The patient received the following medications...  10000032    \n",
       "35968195  The patient received the following medications...  10000032    \n",
       "32952584  The patient received the following medications...  10000032    \n",
       "39399961  The patient received the following medications...  10000032    \n",
       "...                                                     ...        ...   \n",
       "34149746  The patient received the following medications...  19999784    \n",
       "35692999       The patient did not receive any medications.  19999784    \n",
       "32917002  The patient received the following medications...  19999828    \n",
       "30712109  The patient received the following medications...  19999828    \n",
       "34731548  The patient received the following medications...  19999987    \n",
       "\n",
       "          eddischarge  \n",
       "33258284            1  \n",
       "38112554            1  \n",
       "35968195            1  \n",
       "32952584            0  \n",
       "39399961            1  \n",
       "...               ...  \n",
       "34149746            1  \n",
       "35692999            1  \n",
       "32917002            1  \n",
       "30712109            1  \n",
       "34731548            1  \n",
       "\n",
       "[400019 rows x 8 columns]"
      ]
     },
     "execution_count": 4,
     "metadata": {},
     "output_type": "execute_result"
    }
   ],
   "source": [
    "df['eddischarge'] = [1 if 'admitted' in s.lower() else 0 for s in df['eddischarge']] # admitted = 1, Home = 0\n",
    "df['medrecon'] = df['medrecon'].fillna(\"The patient was previously not taking any medications.\")\n",
    "df['pyxis'] = df['pyxis'].fillna(\"The patient did not receive any medications.\")\n",
    "df['vitals'] = df['vitals'].fillna(\"The patient had no vitals recorded\")\n",
    "df['codes'] = df['codes'].fillna(\"The patient received no diagnostic codes\")\n",
    "df = df.drop(\"admission\",axis=1)\n",
    "df = df.drop(\"discharge\",axis=1)\n",
    "df = df.drop(\"eddischarge_category\",axis=1)\n",
    "df['ID'] = df.arrival.astype(str).str.split().str[1].replace(\",\", \" \", regex=True).to_list()\n",
    "df = df[[col for col in df.columns if col != 'eddischarge'] + ['eddischarge']] # rearrange column to the end\n",
    "df\n",
    "\n",
    "# remove admission and discharge columns "
   ]
  },
  {
   "cell_type": "code",
   "execution_count": 5,
   "id": "0b390118-36e6-494b-849a-e34fb4b3d8a7",
   "metadata": {
    "tags": []
   },
   "outputs": [],
   "source": [
    "# split dataframe here\n",
    "def train_validate_test_split(df, train_percent=.7, validate_percent=.15, seed=None):\n",
    "    np.random.seed(seed)\n",
    "    df = df.reset_index()\n",
    "    perm = np.random.permutation(df.index)\n",
    "    m = len(df.index)\n",
    "    train_end = int(train_percent * m)\n",
    "    validate_end = int(validate_percent * m) + train_end\n",
    "    train = df.iloc[perm[:train_end]]\n",
    "    validate = df.iloc[perm[train_end:validate_end]]\n",
    "    test = df.iloc[perm[validate_end:]]\n",
    "    train = train.set_index('index')\n",
    "    validate = validate.set_index('index')\n",
    "    test = test.set_index('index')\n",
    "    return train, validate, test"
   ]
  },
  {
   "cell_type": "code",
   "execution_count": 7,
   "id": "5a163469-b787-4577-81f8-126e8c258769",
   "metadata": {
    "tags": []
   },
   "outputs": [
    {
     "name": "stdout",
     "output_type": "stream",
     "text": [
      "70% Train: 360017 \n",
      "30% Test: 40002\n",
      "Size of validation + test after concat:  40002\n",
      "70% Train: 28001 \n",
      "30% Test: 12001\n"
     ]
    }
   ],
   "source": [
    "t, val, t2 = train_validate_test_split(df, train_percent=.9, validate_percent=.05, seed=7)\n",
    "print(\"70% Train:\",len(t), \"\\n30% Test:\",len(val+t2))\n",
    "\n",
    "remain = pd.concat([val, t2])\n",
    "print(\"Size of validation + test after concat: \", len(remain)) # sanity check\n",
    "\n",
    "# #resplit the our testing dataframe into an additional train and test split for fine tuning \n",
    "train, validate, test =  train_validate_test_split(remain, seed=7)\n",
    "print(\"70% Train:\",len(train), \"\\n30% Test:\",len(validate+test))"
   ]
  },
  {
   "cell_type": "code",
   "execution_count": 9,
   "id": "eaafff62-cc5b-429f-8f8d-41ea8424168d",
   "metadata": {
    "tags": []
   },
   "outputs": [
    {
     "name": "stdout",
     "output_type": "stream",
     "text": [
      "################################################\n",
      "\"arrival\" Dataframe: train set has been split\n",
      "\"triage\" Dataframe: train set has been split\n",
      "\"medrecon\" Dataframe: train set has been split\n",
      "\"vitals\" Dataframe: train set has been split\n",
      "\"codes\" Dataframe: train set has been split\n",
      "\"pyxis\" Dataframe: train set has been split\n",
      "\"ID\" Dataframe: train set has been split\n",
      "################################################\n",
      "\"arrival\" Dataframe: validation set has been split\n",
      "\"triage\" Dataframe: validation set has been split\n",
      "\"medrecon\" Dataframe: validation set has been split\n",
      "\"vitals\" Dataframe: validation set has been split\n",
      "\"codes\" Dataframe: validation set has been split\n",
      "\"pyxis\" Dataframe: validation set has been split\n",
      "\"ID\" Dataframe: validation set has been split\n",
      "################################################\n",
      "\"arrival\" Dataframe: test set has been split\n",
      "\"triage\" Dataframe: test set has been split\n",
      "\"medrecon\" Dataframe: test set has been split\n",
      "\"vitals\" Dataframe: test set has been split\n",
      "\"codes\" Dataframe: test set has been split\n",
      "\"pyxis\" Dataframe: test set has been split\n",
      "\"ID\" Dataframe: test set has been split\n",
      "################################################\n"
     ]
    }
   ],
   "source": [
    "def cut(df, set_type):\n",
    "    col_names = df.columns.drop(\"eddischarge\")\n",
    "    l = []\n",
    "    for i in col_names:\n",
    "        temp = df[[i, 'eddischarge']].reset_index()\n",
    "        temp = temp.sort_values(by=['index']).reset_index() # we sort the patient ID numerically before dropping it to preserve order in encoding\n",
    "        temp = temp.drop(columns=[\"index\", \"level_0\"])\n",
    "        temp = temp.rename(columns={i: \"headline\", \"eddischarge\": \"label\"})\n",
    "        l.append(temp)\n",
    "        print(\"\\\"\"+i+ \"\\\" Dataframe:\", set_type, \"set has been split\")\n",
    "    return l\n",
    "\n",
    "print(\"################################################\")\n",
    "l1 = cut(train, \"train\")\n",
    "print(\"################################################\")\n",
    "l2 = cut(validate, \"validation\")\n",
    "print(\"################################################\")\n",
    "l3 = cut (test, \"test\")\n",
    "print(\"################################################\")"
   ]
  },
  {
   "cell_type": "code",
   "execution_count": 10,
   "id": "18be215f-7016-4d47-b2e5-79c2f79c01e4",
   "metadata": {
    "tags": []
   },
   "outputs": [
    {
     "name": "stderr",
     "output_type": "stream",
     "text": [
      "Map: 100%|██████████| 28001/28001 [00:05<00:00, 5500.70 examples/s]\n",
      "Map: 100%|██████████| 28001/28001 [00:05<00:00, 5372.35 examples/s]\n",
      "Map: 100%|██████████| 28001/28001 [00:05<00:00, 5053.23 examples/s]\n",
      "Map: 100%|██████████| 28001/28001 [00:06<00:00, 4613.83 examples/s]\n",
      "Map: 100%|██████████| 28001/28001 [00:04<00:00, 5682.62 examples/s]\n",
      "Map: 100%|██████████| 28001/28001 [00:05<00:00, 5498.39 examples/s]\n"
     ]
    },
    {
     "name": "stdout",
     "output_type": "stream",
     "text": [
      "Dataset({\n",
      "    features: ['headline', 'label', 'input_ids', 'attention_mask', 'special_tokens_mask'],\n",
      "    num_rows: 28001\n",
      "})\n"
     ]
    },
    {
     "name": "stderr",
     "output_type": "stream",
     "text": [
      "Map: 100%|██████████| 6000/6000 [00:01<00:00, 5164.90 examples/s]\n",
      "Map: 100%|██████████| 6000/6000 [00:01<00:00, 5667.66 examples/s]\n",
      "Map: 100%|██████████| 6000/6000 [00:01<00:00, 5155.66 examples/s]\n",
      "Map: 100%|██████████| 6000/6000 [00:01<00:00, 4711.82 examples/s]\n",
      "Map: 100%|██████████| 6000/6000 [00:01<00:00, 5121.34 examples/s]\n",
      "Map: 100%|██████████| 6000/6000 [00:01<00:00, 5711.45 examples/s]\n"
     ]
    },
    {
     "name": "stdout",
     "output_type": "stream",
     "text": [
      "Dataset({\n",
      "    features: ['headline', 'label', 'input_ids', 'attention_mask', 'special_tokens_mask'],\n",
      "    num_rows: 6000\n",
      "})\n"
     ]
    },
    {
     "name": "stderr",
     "output_type": "stream",
     "text": [
      "Map: 100%|██████████| 6001/6001 [00:01<00:00, 5899.88 examples/s]\n",
      "Map: 100%|██████████| 6001/6001 [00:01<00:00, 5714.24 examples/s]\n",
      "Map: 100%|██████████| 6001/6001 [00:01<00:00, 4552.96 examples/s]\n",
      "Map: 100%|██████████| 6001/6001 [00:01<00:00, 4730.22 examples/s]\n",
      "Map: 100%|██████████| 6001/6001 [00:01<00:00, 5857.59 examples/s]\n",
      "Map: 100%|██████████| 6001/6001 [00:01<00:00, 5662.27 examples/s]"
     ]
    },
    {
     "name": "stdout",
     "output_type": "stream",
     "text": [
      "Dataset({\n",
      "    features: ['headline', 'label', 'input_ids', 'attention_mask', 'special_tokens_mask'],\n",
      "    num_rows: 6001\n",
      "})\n"
     ]
    },
    {
     "name": "stderr",
     "output_type": "stream",
     "text": [
      "\n"
     ]
    }
   ],
   "source": [
    "from transformers import TextClassificationPipeline\n",
    "from transformers import AutoTokenizer, AutoModelForSequenceClassification\n",
    "# tokenize\n",
    "model = \"distilbert-base-uncased\"\n",
    "tokenizer = AutoTokenizer.from_pretrained(\"distilbert-base-uncased\")\n",
    "\n",
    "class Tokenizer():\n",
    "    def tokenize(self,examples):\n",
    "      \"\"\"Mapping function to tokenize the sentences passed with truncation\"\"\"\n",
    "      return tokenizer(examples[\"headline\"], truncation=True, padding=\"max_length\",\n",
    "                        max_length=512, return_special_tokens_mask=True)\n",
    "    def convert(self, l):\n",
    "        \"\"\"\n",
    "        Run this method\n",
    "        \"\"\"\n",
    "        arrival_hf=Dataset.from_pandas(l[0])\n",
    "        triage_hf=Dataset.from_pandas(l[1])\n",
    "        medrecon_hf=Dataset.from_pandas(l[2])\n",
    "        vitals_hf=Dataset.from_pandas(l[3])\n",
    "        codes_hf=Dataset.from_pandas(l[4])\n",
    "        pyxis_hf=Dataset.from_pandas(l[5])\n",
    "\n",
    "        arrival = arrival_hf.map(self.tokenize, batched=True)\n",
    "        triage = triage_hf.map(self.tokenize, batched=True)\n",
    "        medrecon = medrecon_hf.map(self.tokenize, batched=True)\n",
    "        vitals = vitals_hf.map(self.tokenize, batched=True)\n",
    "        codes = codes_hf.map(self.tokenize, batched=True)\n",
    "        pyxis = pyxis_hf.map(self.tokenize, batched=True)\n",
    "        \n",
    "        print(arrival)\n",
    "\n",
    "        arrival.set_format('torch', columns=[\"input_ids\", \"attention_mask\", \"label\"] )\n",
    "        triage.set_format('torch', columns=[\"input_ids\", \"attention_mask\", \"label\"] )\n",
    "        medrecon.set_format('torch', columns=[\"input_ids\", \"attention_mask\", \"label\"] )\n",
    "        vitals.set_format('torch', columns=[\"input_ids\", \"attention_mask\", \"label\"] )\n",
    "        codes.set_format('torch', columns=[\"input_ids\", \"attention_mask\", \"label\"] )\n",
    "        pyxis.set_format('torch', columns=[\"input_ids\", \"attention_mask\", \"label\"] )\n",
    "\n",
    "        return arrival, triage, medrecon, vitals, codes, pyxis\n",
    "    \n",
    "# calls methods and tokenizes text\n",
    "processor = Tokenizer()\n",
    "arrival_train_tokens, triage_train_tokens, medrecon_train_tokens, vitals_train_tokens, codes_train_tokens, pyxis_train_tokens, = processor.convert(l1)\n",
    "arrival_val_tokens, triage_val_tokens, medrecon_val_tokens, vitals_val_tokens, codes_val_tokens, pyxis_val_tokens, = processor.convert(l2)\n",
    "arrival_test_tokens, triage_test_tokens, medrecon_test_tokens, vitals_test_tokens, codes_test_tokens, pyxis_test_tokens, = processor.convert(l3)\n",
    "data_collator = DataCollatorWithPadding(tokenizer=tokenizer)"
   ]
  },
  {
   "cell_type": "code",
   "execution_count": 11,
   "id": "176b7539-896a-47b1-966a-3ca46ba2cab6",
   "metadata": {
    "tags": []
   },
   "outputs": [],
   "source": [
    "arrival_dataset_cc = DatasetDict({\n",
    "    'train': arrival_train_tokens,\n",
    "    'test': arrival_test_tokens,\n",
    "    'valid': arrival_val_tokens})\n",
    "\n",
    "triage_dataset_cc = DatasetDict({\n",
    "    'train': triage_train_tokens,\n",
    "    'test': triage_test_tokens,\n",
    "    'valid': triage_val_tokens})\n",
    "\n",
    "medrecon_dataset_cc = DatasetDict({\n",
    "    'train': medrecon_train_tokens,\n",
    "    'test': medrecon_test_tokens,\n",
    "    'valid': medrecon_val_tokens})\n",
    "\n",
    "vitals_dataset_cc = DatasetDict({\n",
    "    'train': vitals_train_tokens,\n",
    "    'test': vitals_test_tokens,\n",
    "    'valid': vitals_val_tokens})\n",
    "\n",
    "codes_dataset_cc = DatasetDict({\n",
    "    'train': codes_train_tokens,\n",
    "    'test': codes_test_tokens,\n",
    "    'valid': codes_val_tokens})\n",
    "\n",
    "pyxis_dataset_cc = DatasetDict({\n",
    "    'train': pyxis_train_tokens,\n",
    "    'test': pyxis_test_tokens,\n",
    "    'valid': pyxis_val_tokens})"
   ]
  },
  {
   "cell_type": "code",
   "execution_count": 13,
   "id": "470c8121-24d3-49e2-a73c-fd381ced0fe2",
   "metadata": {
    "tags": []
   },
   "outputs": [],
   "source": [
    "class EDdispositionClassifier(nn.Module):\n",
    "    \"\"\"\n",
    "    A task-specific custom transformer model for predicting ED Disposition. \n",
    "    This model loads a pre-trained transformer model and adds a new dropout \n",
    "    and linear layer at the end for fine-tuning and prediction on specific tasks.\n",
    "    \"\"\"\n",
    "    def __init__(self, checkpoint, num_labels):\n",
    "        \"\"\"\n",
    "        Args:\n",
    "            checkpoint (str): The name of the pre-trained model or path to the model weights.\n",
    "            num_labels (int): The number of output labels in the final classification layer.\n",
    "        \"\"\"\n",
    "        super(EDdispositionClassifier, self).__init__()\n",
    "        self.num_labels = num_labels # number of labels for classifier\n",
    "        \n",
    "        # checkpoint is the model name \n",
    "        self.model = model = AutoModel.from_pretrained(checkpoint, config = AutoConfig.from_pretrained(checkpoint, \n",
    "                                                                                                       output_attention = True, \n",
    "                                                                                                       output_hidden_state = True ) )\n",
    "        # New Layer\n",
    "        self.dropout = nn.Dropout(0.1) # to prevent overfittting\n",
    "        self.classifier = nn.Linear(768, num_labels) #FC Layer - takes in a 768 token vector and is a Linear classifier with n labels\n",
    "        \n",
    "    def forward(self, input_ids = None, attention_mask=None, labels = None ):\n",
    "        \"\"\"\n",
    "        Forward pass for the model.\n",
    "        \n",
    "        Args:\n",
    "            input_ids (torch.Tensor, optional): Tensor of input IDs. Defaults to None.\n",
    "            attention_mask (torch.Tensor, optional): Tensor for attention masks. Defaults to None.\n",
    "            labels (torch.Tensor, optional): Tensor for labels. Defaults to None.\n",
    "            \n",
    "        Returns:\n",
    "            TokenClassifierOutput: A named tuple with the following fields:\n",
    "            - loss (torch.FloatTensor of shape (1,), optional, returned when label_ids is provided) – Classification loss.\n",
    "            - logits (torch.FloatTensor of shape (batch_size, num_labels)) – Classification scores before SoftMax.\n",
    "            - hidden_states (tuple(torch.FloatTensor), optional, returned when output_hidden_states=True is passed or when config.output_hidden_states=True) – Tuple of torch.FloatTensor (one for the output of the embeddings + one for the output of each layer) of shape (batch_size, sequence_length, hidden_size).\n",
    "            - attentions (tuple(torch.FloatTensor), optional, returned when output_attentions=True is passed or when config.output_attentions=True) – Tuple of torch.FloatTensor (one for each layer) of shape (batch_size, num_heads, sequence_length, sequence_length).\n",
    "        \"\"\"\n",
    "        # calls on the Automodel to deploy correct model - in our case distilled-bert-uncased\n",
    "        outputs = self.model(input_ids = input_ids, attention_mask = attention_mask  )\n",
    "        \n",
    "        # retrieves the last hidden state\n",
    "        last_hidden_state = outputs[0]\n",
    "        \n",
    "        return last_hidden_state # The embedding\n",
    "        \n",
    "class SelfAttentionPlus(nn.Module):\n",
    "    def __init__(self, input_dim):\n",
    "        super(SelfAttentionPlus, self).__init__()\n",
    "        self.input_dim = input_dim\n",
    "        self.query = nn.Linear(input_dim, input_dim)\n",
    "        self.key = nn.Linear(input_dim, input_dim)\n",
    "        self.value = nn.Linear(input_dim, input_dim)\n",
    "        self.softmax = nn.Softmax(dim=2)\n",
    "        self.num_labels = 2 # number of labels for classifier\n",
    "        self.dropout = nn.Dropout(0.1) # to prevent overfittting\n",
    "        self.classifier = nn.Linear(768, 2) #FC Layer - takes in a 768 token vector and is a Linear classifier with n labels\n",
    "        self.dense_layer = nn.Linear(768, 768)\n",
    "        self.loss_func = nn.CrossEntropyLoss() # Change this if it becomes more than binary classification\n",
    "\n",
    "    def forward(self, x, labels = None):\n",
    "        # typical self attention workflow\n",
    "        queries = self.query(x)\n",
    "        keys = self.key(x)\n",
    "        values = self.value(x)\n",
    "        scores = torch.bmm(queries, keys.transpose(1, 2)) / (self.input_dim ** 0.5)\n",
    "        attention = self.softmax(scores)\n",
    "        weighted = torch.bmm(attention, values)\n",
    "    \n",
    "        # project brand new layers into 768 dimensions \n",
    "        new_vec = self.dense_layer(weighted)\n",
    "        \n",
    "        # begin classification\n",
    "        # self.dropout = nn.Dropout(0.1) # to prevent overfittting\n",
    "        # self.classifier = nn.Linear(768, 2) #FC Layer - takes in a 768 token vector and is a Linear classifier with n labels\n",
    "    \n",
    "        # include dropout from constructor to feed forward network\n",
    "        sequence_outputs = self.dropout(new_vec)\n",
    "        # finally add linear layer from input\n",
    "        logits = self.classifier(sequence_outputs[:, 0, : ].view(-1, 768 ))\n",
    "        \n",
    "        # calculates loss \n",
    "        loss = None\n",
    "        if labels is not None:\n",
    "            loss = self.loss_func(logits.view(-1, self.num_labels), labels.view(-1))\n",
    "            \n",
    "            # TokenClassifierOutput - returns predicted label\n",
    "            return TokenClassifierOutput(loss=loss, logits=logits)#, hidden_states=outputs.hidden_states, attentions=new_vec.attentions)\n",
    "        \n",
    "        else:\n",
    "            return logits\n",
    "        \n",
    "class EDDispositionFineTuneModel(nn.Module):\n",
    "    def __init__(self, checkpoint, num_labels=2, input_dim=768, modalities=None):\n",
    "        super(EDDispositionFineTuneModel, self).__init__()\n",
    "        self.encoder = EDdispositionClassifier(checkpoint=checkpoint, num_labels=num_labels)\n",
    "        self.predictor = SelfAttentionPlus(input_dim=input_dim)\n",
    "        assert modalities is not None, \"Number of modalities missing\"\n",
    "        self.modalities = modalities\n",
    "    \n",
    "    def forward(self, input_ids, attention_mask, label=None):\n",
    "        # input_ids: dictionary of the batch\n",
    "        # attention_mask: dictionary of the batch\n",
    "        embedding = []\n",
    "        for modality in range(self.modalities):\n",
    "            embed = self.encoder(input_ids[modality], attention_mask[modality], label)\n",
    "            embedding.append(embed)\n",
    "        unified_embedding = torch.cat((embedding[0],embedding[1],embedding[2],embedding[3],embedding[4],embedding[5]),1) # concatenates embeddings on the second dimension\n",
    "        outputs = self.predictor(unified_embedding, label)\n",
    "        return outputs"
   ]
  },
  {
   "cell_type": "code",
   "execution_count": 14,
   "id": "0e25dc61-a7ba-4cfa-8ba6-874d709f0fc5",
   "metadata": {
    "tags": []
   },
   "outputs": [],
   "source": [
    "class SingleModPredictor(nn.Module):\n",
    "    \"\"\"\n",
    "    A task-specific custom transformer model for predicting ED Disposition. \n",
    "    This model loads a pre-trained transformer model and adds a new dropout \n",
    "    and linear layer at the end for fine-tuning and prediction on specific tasks.\n",
    "    \"\"\"\n",
    "    def __init__(self, checkpoint, num_labels ):\n",
    "        \"\"\"\n",
    "        Args:\n",
    "            checkpoint (str): The name of the pre-trained model or path to the model weights.\n",
    "            num_labels (int): The number of output labels in the final classification layer.\n",
    "        \"\"\"\n",
    "        super(SingleModPredictor, self).__init__()\n",
    "        self.num_labels = num_labels # number of labels for classifier\n",
    "        \n",
    "        # checkpoint is the model name \n",
    "        self.model = model = AutoModel.from_pretrained(checkpoint, config = AutoConfig.from_pretrained(checkpoint, \n",
    "                                                                                                       output_attention = True, \n",
    "                                                                                                       output_hidden_state = True ) )\n",
    "        # New Layer\n",
    "        self.dropout = nn.Dropout(0.1)\n",
    "        self.classifier = nn.Linear(768, num_labels) #FC Layer\n",
    "        \n",
    "    def forward(self, input_ids = None, attention_mask=None, labels = None ):\n",
    "        \"\"\"\n",
    "        Forward pass for the model.\n",
    "        \n",
    "        Args:\n",
    "            input_ids (torch.Tensor, optional): Tensor of input IDs. Defaults to None.\n",
    "            attention_mask (torch.Tensor, optional): Tensor for attention masks. Defaults to None.\n",
    "            labels (torch.Tensor, optional): Tensor for labels. Defaults to None.\n",
    "            \n",
    "        Returns:\n",
    "            TokenClassifierOutput: A named tuple with the following fields:\n",
    "            - loss (torch.FloatTensor of shape (1,), optional, returned when label_ids is provided) – Classification loss.\n",
    "            - logits (torch.FloatTensor of shape (batch_size, num_labels)) – Classification scores before SoftMax.\n",
    "            - hidden_states (tuple(torch.FloatTensor), optional, returned when output_hidden_states=True is passed or when config.output_hidden_states=True) – Tuple of torch.FloatTensor (one for the output of the embeddings + one for the output of each layer) of shape (batch_size, sequence_length, hidden_size).\n",
    "            - attentions (tuple(torch.FloatTensor), optional, returned when output_attentions=True is passed or when config.output_attentions=True) – Tuple of torch.FloatTensor (one for each layer) of shape (batch_size, num_heads, sequence_length, sequence_length).\n",
    "        \"\"\"\n",
    "        outputs = self.model(input_ids = input_ids, attention_mask = attention_mask  )\n",
    "        \n",
    "        last_hidden_state = outputs[0]\n",
    "        \n",
    "        sequence_outputs = self.dropout(last_hidden_state)\n",
    "        \n",
    "        logits = self.classifier(sequence_outputs[:, 0, : ].view(-1, 768 ))\n",
    "        \n",
    "        loss = None\n",
    "        if labels is not None:\n",
    "            loss_func = nn.CrossEntropyLoss() # Change this if it becomes more than binary classification\n",
    "            loss = loss_func(logits.view(-1, self.num_labels), labels.view(-1))\n",
    "            \n",
    "            # TokenClassifierOutput\n",
    "            return TokenClassifierOutput(loss=loss, logits=logits, hidden_states=outputs.hidden_states, attentions=outputs.attentions)"
   ]
  },
  {
   "cell_type": "code",
   "execution_count": 15,
   "id": "0a905e39-f0d2-4d9c-841a-56e32ce01dca",
   "metadata": {
    "tags": []
   },
   "outputs": [
    {
     "name": "stdout",
     "output_type": "stream",
     "text": [
      "cuda:0\n"
     ]
    }
   ],
   "source": [
    "device = torch.device(\"cuda:0\" if torch.cuda.is_available() else \"cpu\")\n",
    "\n",
    "full_model = EDDispositionFineTuneModel(checkpoint=model, num_labels=2, input_dim=768, modalities=6).to(device)\n",
    "model_task_specific = SingleModPredictor(checkpoint=model, num_labels=2).to(device)\n",
    "print(device)\n",
    "# 0, 2, 3"
   ]
  },
  {
   "cell_type": "code",
   "execution_count": 16,
   "id": "f6cfc1d4-d637-40d4-8f72-da9191b20403",
   "metadata": {
    "tags": []
   },
   "outputs": [
    {
     "name": "stderr",
     "output_type": "stream",
     "text": [
      "/opt/conda/lib/python3.9/site-packages/transformers/optimization.py:411: FutureWarning: This implementation of AdamW is deprecated and will be removed in a future version. Use the PyTorch implementation torch.optim.AdamW instead, or set `no_deprecation_warning=True` to disable this warning\n",
      "  warnings.warn(\n",
      "<ipython-input-16-3b3ba5fe5b7b>:18: FutureWarning: load_metric is deprecated and will be removed in the next major version of datasets. Use 'evaluate.load' instead, from the new library 🤗 Evaluate: https://huggingface.co/docs/evaluate\n",
      "  metric = load_metric(\"f1\")\n"
     ]
    },
    {
     "name": "stdout",
     "output_type": "stream",
     "text": [
      "28001\n"
     ]
    }
   ],
   "source": [
    "from transformers import AdamW, get_scheduler\n",
    "\n",
    "# optimizer = AdamW(model_task_specific.parameters(), lr = 5e-5 )\n",
    "optimizer = AdamW(full_model.parameters(), lr = 5e-5 )\n",
    "\n",
    "num_epoch = 1\n",
    "num_training_steps = num_epoch * len(triage_dataset_cc['train'][\"input_ids\"]) \n",
    "print(len(triage_dataset_cc['train'][\"input_ids\"]))\n",
    "\n",
    "lr_scheduler = get_scheduler(\n",
    "    'linear',\n",
    "    optimizer = optimizer,\n",
    "    num_warmup_steps = 0,\n",
    "    num_training_steps = num_training_steps,\n",
    ")\n",
    "\n",
    "from datasets import load_metric\n",
    "metric = load_metric(\"f1\")"
   ]
  },
  {
   "cell_type": "markdown",
   "id": "941d00ef-4388-468c-aa4b-1cd50eec722e",
   "metadata": {},
   "source": [
    "# Single Modality"
   ]
  },
  {
   "cell_type": "markdown",
   "id": "909f8104-28c5-44a3-8f53-83e18571a349",
   "metadata": {},
   "source": [
    "### arrival "
   ]
  },
  {
   "cell_type": "code",
   "execution_count": 17,
   "id": "68b15eee-81a9-4a50-8bb0-fa9d5d4f5045",
   "metadata": {
    "tags": []
   },
   "outputs": [],
   "source": [
    "from torch.utils.data import DataLoader\n",
    "data_collator = DataCollatorWithPadding(tokenizer=tokenizer)\n",
    "\n",
    "train_dataloader = DataLoader(\n",
    "    arrival_dataset_cc['train'], shuffle = True, batch_size = 1, collate_fn = data_collator\n",
    ")\n",
    "\n",
    "eval_dataloader = DataLoader(\n",
    "    arrival_dataset_cc['valid'], shuffle = True, collate_fn = data_collator\n",
    ")"
   ]
  },
  {
   "cell_type": "code",
   "execution_count": 19,
   "id": "c1ab0cda-3959-47e2-9d84-5bfc910f4fff",
   "metadata": {
    "tags": []
   },
   "outputs": [
    {
     "name": "stderr",
     "output_type": "stream",
     "text": [
      "\n",
      "\n",
      "100%|██████████| 28001/28001 [09:05<00:00, 51.30it/s]\n",
      " 73%|███████▎  | 4356/6000 [09:05<03:26,  7.98it/s] \n"
     ]
    },
    {
     "name": "stdout",
     "output_type": "stream",
     "text": [
      "epoch training 0 done\n",
      "loss: tensor(0.7386, device='cuda:0', grad_fn=<NllLossBackward0>)\n",
      "{'f1': 0.8501920614596672}\n"
     ]
    }
   ],
   "source": [
    "progress_bar_train = tqdm(range(num_training_steps))\n",
    "progress_bar_eval = tqdm(range(num_epoch * len(eval_dataloader) ))\n",
    "\n",
    "\n",
    "for epoch in range(num_epoch):\n",
    "    model_task_specific.train()\n",
    "    for batch in train_dataloader:\n",
    "        batch = { k: v.to(device) for k, v in batch.items() }\n",
    "        outputs = model_task_specific(**batch)\n",
    "        loss = outputs.loss\n",
    "        loss.backward() # computes gradients\n",
    "        \n",
    "        optimizer.step() # updates the weights and biases based on these gradients\n",
    "        lr_scheduler.step() # updates the weights and biases based on these gradients\n",
    "        optimizer.zero_grad() # used to clear the gradients of all parameters in a model\n",
    "        # progress_bar_train.update(1)\n",
    "    print(\"epoch training\", str(epoch), \"done\")\n",
    "    print(\"loss:\", str(loss))\n",
    "    \n",
    "    # run on validation set\n",
    "    model_task_specific.eval()\n",
    "    for batch in eval_dataloader:\n",
    "        batch = { k: v.to(device) for k, v in batch.items() }\n",
    "        with torch.no_grad(): # a context manager that disables gradient calculation during model inference\n",
    "            outputs = model_task_specific(**batch)\n",
    "            \n",
    "        logits = outputs.logits # calculates the probabilities between the labels\n",
    "        predictions = torch.argmax(logits, dim = -1 ) # takes the label closest to 1\n",
    "        metric.add_batch(predictions = predictions, references = batch['labels'] ) \n",
    "        # progress_bar_eval.update(1)\n",
    "        \n",
    "    print(metric.compute()) "
   ]
  },
  {
   "cell_type": "code",
   "execution_count": 21,
   "id": "621f993b-756f-4bc6-b568-4098e62790a2",
   "metadata": {
    "tags": []
   },
   "outputs": [
    {
     "name": "stdout",
     "output_type": "stream",
     "text": [
      "{'f1': 0.8431917427550616}\n"
     ]
    }
   ],
   "source": [
    "probs_list = []\n",
    "label_list = []\n",
    "logits_list = []\n",
    "\n",
    "test_dataloader = DataLoader(\n",
    "    arrival_dataset_cc['test'], batch_size = 4, collate_fn = data_collator\n",
    ")    \n",
    "\n",
    "\n",
    "metric = load_metric(\"f1\", \"precision\")\n",
    "\n",
    "for i, batch in enumerate(test_dataloader):\n",
    "    batch = { k: v.to(device) for k, v in batch.items() }\n",
    "    with torch.no_grad(): # a context manager that disables gradient calculation during model inference\n",
    "        outputs = model_task_specific(**batch)\n",
    "\n",
    "    logits = outputs.logits # calculates the probabilities between the labels\n",
    "    probs_list.append(torch.sigmoid(logits[:, 1]).cpu().detach().numpy())\n",
    "    logits_list.append(logits[:, 1].cpu().detach().numpy())\n",
    "    label_list.append(batch['labels'].cpu().detach().numpy())\n",
    "    predictions = torch.argmax(logits, dim = -1 ) # takes the label closest to 1\n",
    "    metric.add_batch(predictions = predictions, references = batch['labels'] )\n",
    "    # print(\"New Batch\")\n",
    "    # print(predictions)\n",
    "    # print(batch['labels'])\n",
    "\n",
    "print(metric.compute()) "
   ]
  },
  {
   "cell_type": "code",
   "execution_count": 22,
   "id": "bd7b47b9-030b-46ec-90d3-599a59e7a2af",
   "metadata": {
    "tags": []
   },
   "outputs": [],
   "source": [
    "from sklearn.metrics import roc_auc_score, average_precision_score\n",
    "yt = np.hstack(label_list) \n",
    "yl = np.hstack(logits_list)\n",
    "yp = np.hstack(probs_list)\n",
    "\n",
    "result_df = pd.DataFrame({\"y_true\": yt, \"y_prob\": yp, \"y_raw\": yl})\n",
    "result_df.to_csv('Finetune-arrival.csv')"
   ]
  },
  {
   "cell_type": "code",
   "execution_count": 24,
   "id": "6c115e16-3b2a-4c41-8e4a-e2e7b0ad4136",
   "metadata": {
    "tags": []
   },
   "outputs": [
    {
     "name": "stdout",
     "output_type": "stream",
     "text": [
      "Merged-txt f1: 0.566\n"
     ]
    },
    {
     "data": {
      "text/plain": [
       "Text(0, 0.5, 'Precision (PPV)')"
      ]
     },
     "execution_count": 24,
     "metadata": {},
     "output_type": "execute_result"
    },
    {
     "data": {
      "image/png": "[encoded data removed]",
      "text/plain": [
       "<Figure size 792x288 with 2 Axes>"
      ]
     },
     "metadata": {
      "needs_background": "light"
     },
     "output_type": "display_data"
    }
   ],
   "source": [
    "import matplotlib.pyplot as plt \n",
    "from sklearn.metrics import roc_curve, precision_recall_curve\n",
    "from sklearn.metrics import roc_auc_score, average_precision_score, f1_score\n",
    "\n",
    "f, axarr = plt.subplots(1, 2, figsize=(11, 4))\n",
    "\n",
    "model_name = \"Merged-txt\"\n",
    "fpr, tpr, _ = roc_curve(yt, yt)\n",
    "precisions, recalls, _ = precision_recall_curve(yt, yp)\n",
    "auroc = roc_auc_score(yt, yp)\n",
    "auprc = average_precision_score(yt, yp)\n",
    "preds = (yp >= 0.5).astype(int)\n",
    "f1 = f1_score(yt, preds)\n",
    "print(f\"{model_name} f1: {f1:.3f}\")\n",
    "axarr[0].plot(fpr, tpr, alpha=0.6, label=f'{model_name}: {auroc:.3f}')\n",
    "axarr[1].step(recalls, precisions, where='post', alpha=0.6, label=f'{model_name}: {auprc:.3f}')\n",
    "\n",
    "\n",
    "axarr[0].legend()\n",
    "axarr[0].set_xlabel('FPR (1 - Specificity)')\n",
    "axarr[0].set_ylabel('TPR (Sensitivity)')\n",
    "axarr[1].legend()\n",
    "axarr[1].set_xlabel('Recall (Sensitivity)')\n",
    "axarr[1].set_ylabel('Precision (PPV)')"
   ]
  },
  {
   "cell_type": "markdown",
   "id": "f3a60c43-ae17-41be-be06-00e3607d1c1b",
   "metadata": {},
   "source": [
    "### triage "
   ]
  },
  {
   "cell_type": "code",
   "execution_count": 25,
   "id": "9aa52fe2-b4b7-48eb-a4cf-2f0a7d1da39f",
   "metadata": {
    "tags": []
   },
   "outputs": [],
   "source": [
    "data_collator = DataCollatorWithPadding(tokenizer=tokenizer)\n",
    "\n",
    "train_dataloader = DataLoader(\n",
    "    triage_dataset_cc['train'], shuffle = True, batch_size = 1, collate_fn = data_collator\n",
    ")\n",
    "\n",
    "eval_dataloader = DataLoader(\n",
    "    triage_dataset_cc['valid'], shuffle = True, collate_fn = data_collator\n",
    ")"
   ]
  },
  {
   "cell_type": "code",
   "execution_count": 26,
   "id": "9f47ab12-ae7d-471c-b87f-3222cdc2cd59",
   "metadata": {
    "tags": []
   },
   "outputs": [
    {
     "name": "stderr",
     "output_type": "stream",
     "text": [
      "\n",
      "  0%|          | 0/28001 [22:51<?, ?it/s]\u001b[A\n",
      "\n",
      "\n",
      "  0%|          | 0/6000 [22:51<?, ?it/s]\u001b[A\u001b[A\n"
     ]
    },
    {
     "name": "stdout",
     "output_type": "stream",
     "text": [
      "epoch training 0 done\n",
      "loss: tensor(0.5953, device='cuda:0', grad_fn=<NllLossBackward0>)\n",
      "{'f1': 0.4951892238614496}\n"
     ]
    }
   ],
   "source": [
    "for epoch in range(num_epoch):\n",
    "    model_task_specific.train()\n",
    "    for batch in train_dataloader:\n",
    "        batch = { k: v.to(device) for k, v in batch.items() }\n",
    "        outputs = model_task_specific(**batch)\n",
    "        loss = outputs.loss\n",
    "        loss.backward() # computes gradients\n",
    "        \n",
    "        optimizer.step() # updates the weights and biases based on these gradients\n",
    "        lr_scheduler.step() # updates the weights and biases based on these gradients\n",
    "        optimizer.zero_grad() # used to clear the gradients of all parameters in a model\n",
    "        # progress_bar_train.update(1)\n",
    "    print(\"epoch training\", str(epoch), \"done\")\n",
    "    print(\"loss:\", str(loss))\n",
    "    \n",
    "    # run on validation set\n",
    "    model_task_specific.eval()\n",
    "    for batch in eval_dataloader:\n",
    "        batch = { k: v.to(device) for k, v in batch.items() }\n",
    "        with torch.no_grad(): # a context manager that disables gradient calculation during model inference\n",
    "            outputs = model_task_specific(**batch)\n",
    "            \n",
    "        logits = outputs.logits # calculates the probabilities between the labels\n",
    "        predictions = torch.argmax(logits, dim = -1 ) # takes the label closest to 1\n",
    "        metric.add_batch(predictions = predictions, references = batch['labels'] ) \n",
    "        # progress_bar_eval.update(1)\n",
    "        \n",
    "    print(metric.compute()) "
   ]
  },
  {
   "cell_type": "code",
   "execution_count": 27,
   "id": "b495c8fb-2892-42b9-b8ae-401116c9788b",
   "metadata": {
    "tags": []
   },
   "outputs": [
    {
     "name": "stdout",
     "output_type": "stream",
     "text": [
      "{'f1': 0.49888428434810334}\n"
     ]
    }
   ],
   "source": [
    "probs_list = []\n",
    "label_list = []\n",
    "logits_list = []\n",
    "\n",
    "test_dataloader = DataLoader(\n",
    "    triage_dataset_cc['test'], batch_size = 4, collate_fn = data_collator\n",
    ")    \n",
    "\n",
    "\n",
    "metric = load_metric(\"f1\", \"precision\")\n",
    "\n",
    "for i, batch in enumerate(test_dataloader):\n",
    "    batch = { k: v.to(device) for k, v in batch.items() }\n",
    "    with torch.no_grad(): # a context manager that disables gradient calculation during model inference\n",
    "        outputs = model_task_specific(**batch)\n",
    "\n",
    "    logits = outputs.logits # calculates the probabilities between the labels\n",
    "    probs_list.append(torch.sigmoid(logits[:, 1]).cpu().detach().numpy())\n",
    "    logits_list.append(logits[:, 1].cpu().detach().numpy())\n",
    "    label_list.append(batch['labels'].cpu().detach().numpy())\n",
    "    predictions = torch.argmax(logits, dim = -1 ) # takes the label closest to 1\n",
    "    metric.add_batch(predictions = predictions, references = batch['labels'] )\n",
    "    # print(\"New Batch\")\n",
    "    # print(predictions)\n",
    "    # print(batch['labels'])\n",
    "\n",
    "print(metric.compute()) "
   ]
  },
  {
   "cell_type": "code",
   "execution_count": 29,
   "id": "a9899068-85cf-44ae-a539-4917cd223d4e",
   "metadata": {
    "tags": []
   },
   "outputs": [
    {
     "name": "stdout",
     "output_type": "stream",
     "text": [
      "Merged-txt f1: 0.566\n"
     ]
    },
    {
     "data": {
      "text/plain": [
       "Text(0, 0.5, 'Precision (PPV)')"
      ]
     },
     "execution_count": 29,
     "metadata": {},
     "output_type": "execute_result"
    },
    {
     "data": {
      "image/png": "[encoded data removed]",
      "text/plain": [
       "<Figure size 792x288 with 2 Axes>"
      ]
     },
     "metadata": {
      "needs_background": "light"
     },
     "output_type": "display_data"
    }
   ],
   "source": [
    "from sklearn.metrics import roc_auc_score, average_precision_score\n",
    "yt = np.hstack(label_list) \n",
    "yl = np.hstack(logits_list)\n",
    "yp = np.hstack(probs_list)\n",
    "\n",
    "result_df = pd.DataFrame({\"y_true\": yt, \"y_prob\": yp, \"y_raw\": yl})\n",
    "result_df.to_csv('Finetune-triage.csv')\n",
    "\n",
    "f, axarr = plt.subplots(1, 2, figsize=(11, 4))\n",
    "\n",
    "model_name = \"Merged-txt\"\n",
    "fpr, tpr, _ = roc_curve(yt, yt)\n",
    "precisions, recalls, _ = precision_recall_curve(yt, yp)\n",
    "auroc = roc_auc_score(yt, yp)\n",
    "auprc = average_precision_score(yt, yp)\n",
    "preds = (yp >= 0.5).astype(int)\n",
    "f1 = f1_score(yt, preds)\n",
    "print(f\"{model_name} f1: {f1:.3f}\")\n",
    "axarr[0].plot(fpr, tpr, alpha=0.6, label=f'{model_name}: {auroc:.3f}')\n",
    "axarr[1].step(recalls, precisions, where='post', alpha=0.6, label=f'{model_name}: {auprc:.3f}')\n",
    "\n",
    "\n",
    "axarr[0].legend()\n",
    "axarr[0].set_xlabel('FPR (1 - Specificity)')\n",
    "axarr[0].set_ylabel('TPR (Sensitivity)')\n",
    "axarr[1].legend()\n",
    "axarr[1].set_xlabel('Recall (Sensitivity)')\n",
    "axarr[1].set_ylabel('Precision (PPV)')"
   ]
  },
  {
   "cell_type": "markdown",
   "id": "65887d33-2be3-4c95-a7c5-7608451815f8",
   "metadata": {},
   "source": [
    "### Medrecon"
   ]
  },
  {
   "cell_type": "code",
   "execution_count": 30,
   "id": "753211fc-4798-4cda-9d8b-c8dfcd65bee3",
   "metadata": {
    "tags": []
   },
   "outputs": [
    {
     "name": "stdout",
     "output_type": "stream",
     "text": [
      "epoch training 0 done\n",
      "loss: tensor(0.7731, device='cuda:0', grad_fn=<NllLossBackward0>)\n",
      "{'f1': 0.46836329675461125}\n"
     ]
    }
   ],
   "source": [
    "data_collator = DataCollatorWithPadding(tokenizer=tokenizer)\n",
    "\n",
    "train_dataloader = DataLoader(\n",
    "    medrecon_dataset_cc['train'], shuffle = True, batch_size = 1, collate_fn = data_collator\n",
    ")\n",
    "\n",
    "eval_dataloader = DataLoader(\n",
    "    medrecon_dataset_cc['valid'], shuffle = True, collate_fn = data_collator\n",
    ")\n",
    "\n",
    "for epoch in range(num_epoch):\n",
    "    model_task_specific.train()\n",
    "    for batch in train_dataloader:\n",
    "        batch = { k: v.to(device) for k, v in batch.items() }\n",
    "        outputs = model_task_specific(**batch)\n",
    "        loss = outputs.loss\n",
    "        loss.backward() # computes gradients\n",
    "        \n",
    "        optimizer.step() # updates the weights and biases based on these gradients\n",
    "        lr_scheduler.step() # updates the weights and biases based on these gradients\n",
    "        optimizer.zero_grad() # used to clear the gradients of all parameters in a model\n",
    "        # progress_bar_train.update(1)\n",
    "    print(\"epoch training\", str(epoch), \"done\")\n",
    "    print(\"loss:\", str(loss))\n",
    "    \n",
    "    # run on validation set\n",
    "    model_task_specific.eval()\n",
    "    for batch in eval_dataloader:\n",
    "        batch = { k: v.to(device) for k, v in batch.items() }\n",
    "        with torch.no_grad(): # a context manager that disables gradient calculation during model inference\n",
    "            outputs = model_task_specific(**batch)\n",
    "            \n",
    "        logits = outputs.logits # calculates the probabilities between the labels\n",
    "        predictions = torch.argmax(logits, dim = -1 ) # takes the label closest to 1\n",
    "        metric.add_batch(predictions = predictions, references = batch['labels'] ) \n",
    "        # progress_bar_eval.update(1)\n",
    "        \n",
    "    print(metric.compute()) "
   ]
  },
  {
   "cell_type": "code",
   "execution_count": 31,
   "id": "95c64438-4c34-4d83-9976-8f52c7e0422c",
   "metadata": {
    "tags": []
   },
   "outputs": [
    {
     "name": "stdout",
     "output_type": "stream",
     "text": [
      "{'f1': 0.4830783495595735}\n"
     ]
    }
   ],
   "source": [
    "probs_list = []\n",
    "label_list = []\n",
    "logits_list = []\n",
    "\n",
    "test_dataloader = DataLoader(\n",
    "    medrecon_dataset_cc['test'], batch_size = 4, collate_fn = data_collator\n",
    ")    \n",
    "\n",
    "\n",
    "metric = load_metric(\"f1\", \"precision\")\n",
    "\n",
    "for i, batch in enumerate(test_dataloader):\n",
    "    batch = { k: v.to(device) for k, v in batch.items() }\n",
    "    with torch.no_grad(): # a context manager that disables gradient calculation during model inference\n",
    "        outputs = model_task_specific(**batch)\n",
    "\n",
    "    logits = outputs.logits # calculates the probabilities between the labels\n",
    "    probs_list.append(torch.sigmoid(logits[:, 1]).cpu().detach().numpy())\n",
    "    logits_list.append(logits[:, 1].cpu().detach().numpy())\n",
    "    label_list.append(batch['labels'].cpu().detach().numpy())\n",
    "    predictions = torch.argmax(logits, dim = -1 ) # takes the label closest to 1\n",
    "    metric.add_batch(predictions = predictions, references = batch['labels'] )\n",
    "    # print(\"New Batch\")\n",
    "    # print(predictions)\n",
    "    # print(batch['labels'])\n",
    "\n",
    "print(metric.compute()) "
   ]
  },
  {
   "cell_type": "code",
   "execution_count": 32,
   "id": "60239c83-371d-4a0b-9a3c-7c5ecc1405e8",
   "metadata": {
    "tags": []
   },
   "outputs": [
    {
     "name": "stdout",
     "output_type": "stream",
     "text": [
      "Merged-txt f1: 0.567\n"
     ]
    },
    {
     "data": {
      "text/plain": [
       "Text(0, 0.5, 'Precision (PPV)')"
      ]
     },
     "execution_count": 32,
     "metadata": {},
     "output_type": "execute_result"
    },
    {
     "data": {
      "image/png": "[encoded data removed]",
      "text/plain": [
       "<Figure size 792x288 with 2 Axes>"
      ]
     },
     "metadata": {
      "needs_background": "light"
     },
     "output_type": "display_data"
    }
   ],
   "source": [
    "from sklearn.metrics import roc_auc_score, average_precision_score\n",
    "yt = np.hstack(label_list) \n",
    "yl = np.hstack(logits_list)\n",
    "yp = np.hstack(probs_list)\n",
    "\n",
    "result_df = pd.DataFrame({\"y_true\": yt, \"y_prob\": yp, \"y_raw\": yl})\n",
    "result_df.to_csv('Finetune-medrecon.csv')\n",
    "\n",
    "f, axarr = plt.subplots(1, 2, figsize=(11, 4))\n",
    "\n",
    "model_name = \"Merged-txt\"\n",
    "fpr, tpr, _ = roc_curve(yt, yt)\n",
    "precisions, recalls, _ = precision_recall_curve(yt, yp)\n",
    "auroc = roc_auc_score(yt, yp)\n",
    "auprc = average_precision_score(yt, yp)\n",
    "preds = (yp >= 0.5).astype(int)\n",
    "f1 = f1_score(yt, preds)\n",
    "print(f\"{model_name} f1: {f1:.3f}\")\n",
    "axarr[0].plot(fpr, tpr, alpha=0.6, label=f'{model_name}: {auroc:.3f}')\n",
    "axarr[1].step(recalls, precisions, where='post', alpha=0.6, label=f'{model_name}: {auprc:.3f}')\n",
    "\n",
    "\n",
    "axarr[0].legend()\n",
    "axarr[0].set_xlabel('FPR (1 - Specificity)')\n",
    "axarr[0].set_ylabel('TPR (Sensitivity)')\n",
    "axarr[1].legend()\n",
    "axarr[1].set_xlabel('Recall (Sensitivity)')\n",
    "axarr[1].set_ylabel('Precision (PPV)')"
   ]
  },
  {
   "cell_type": "markdown",
   "id": "1e19f849-5fc3-43f6-b622-cd9ee52fb793",
   "metadata": {},
   "source": [
    "### vitals"
   ]
  },
  {
   "cell_type": "code",
   "execution_count": 33,
   "id": "892d3502-669d-4d8b-b366-bd5816cf000a",
   "metadata": {
    "tags": []
   },
   "outputs": [
    {
     "name": "stdout",
     "output_type": "stream",
     "text": [
      "epoch training 0 done\n",
      "loss: tensor(0.5865, device='cuda:0', grad_fn=<NllLossBackward0>)\n",
      "{'f1': 0.3405039950829748}\n"
     ]
    }
   ],
   "source": [
    "data_collator = DataCollatorWithPadding(tokenizer=tokenizer)\n",
    "\n",
    "train_dataloader = DataLoader(\n",
    "    vitals_dataset_cc['train'], shuffle = True, batch_size = 1, collate_fn = data_collator\n",
    ")\n",
    "\n",
    "eval_dataloader = DataLoader(\n",
    "    vitals_dataset_cc['valid'], shuffle = True, collate_fn = data_collator\n",
    ")\n",
    "\n",
    "for epoch in range(num_epoch):\n",
    "    model_task_specific.train()\n",
    "    for batch in train_dataloader:\n",
    "        batch = { k: v.to(device) for k, v in batch.items() }\n",
    "        outputs = model_task_specific(**batch)\n",
    "        loss = outputs.loss\n",
    "        loss.backward() # computes gradients\n",
    "        \n",
    "        optimizer.step() # updates the weights and biases based on these gradients\n",
    "        lr_scheduler.step() # updates the weights and biases based on these gradients\n",
    "        optimizer.zero_grad() # used to clear the gradients of all parameters in a model\n",
    "        # progress_bar_train.update(1)\n",
    "    print(\"epoch training\", str(epoch), \"done\")\n",
    "    print(\"loss:\", str(loss))\n",
    "    \n",
    "    # run on validation set\n",
    "    model_task_specific.eval()\n",
    "    for batch in eval_dataloader:\n",
    "        batch = { k: v.to(device) for k, v in batch.items() }\n",
    "        with torch.no_grad(): # a context manager that disables gradient calculation during model inference\n",
    "            outputs = model_task_specific(**batch)\n",
    "            \n",
    "        logits = outputs.logits # calculates the probabilities between the labels\n",
    "        predictions = torch.argmax(logits, dim = -1 ) # takes the label closest to 1\n",
    "        metric.add_batch(predictions = predictions, references = batch['labels'] ) \n",
    "        # progress_bar_eval.update(1)\n",
    "        \n",
    "    print(metric.compute()) "
   ]
  },
  {
   "cell_type": "code",
   "execution_count": 34,
   "id": "9f9966d4-644d-4ff5-a7b1-c3d5588de7d9",
   "metadata": {
    "tags": []
   },
   "outputs": [
    {
     "name": "stdout",
     "output_type": "stream",
     "text": [
      "{'f1': 0.32473910374462855}\n"
     ]
    }
   ],
   "source": [
    "probs_list = []\n",
    "label_list = []\n",
    "logits_list = []\n",
    "\n",
    "test_dataloader = DataLoader(\n",
    "    vitals_dataset_cc['test'], batch_size = 4, collate_fn = data_collator\n",
    ")    \n",
    "\n",
    "\n",
    "metric = load_metric(\"f1\", \"precision\")\n",
    "\n",
    "for i, batch in enumerate(test_dataloader):\n",
    "    batch = { k: v.to(device) for k, v in batch.items() }\n",
    "    with torch.no_grad(): # a context manager that disables gradient calculation during model inference\n",
    "        outputs = model_task_specific(**batch)\n",
    "\n",
    "    logits = outputs.logits # calculates the probabilities between the labels\n",
    "    probs_list.append(torch.sigmoid(logits[:, 1]).cpu().detach().numpy())\n",
    "    logits_list.append(logits[:, 1].cpu().detach().numpy())\n",
    "    label_list.append(batch['labels'].cpu().detach().numpy())\n",
    "    predictions = torch.argmax(logits, dim = -1 ) # takes the label closest to 1\n",
    "    metric.add_batch(predictions = predictions, references = batch['labels'] )\n",
    "    # print(\"New Batch\")\n",
    "    # print(predictions)\n",
    "    # print(batch['labels'])\n",
    "\n",
    "print(metric.compute()) "
   ]
  },
  {
   "cell_type": "code",
   "execution_count": 35,
   "id": "5033424f-a125-4680-93bc-397a2842419d",
   "metadata": {
    "tags": []
   },
   "outputs": [
    {
     "name": "stdout",
     "output_type": "stream",
     "text": [
      "Merged-txt f1: 0.566\n"
     ]
    },
    {
     "data": {
      "text/plain": [
       "Text(0, 0.5, 'Precision (PPV)')"
      ]
     },
     "execution_count": 35,
     "metadata": {},
     "output_type": "execute_result"
    },
    {
     "data": {
      "image/png": "[encoded data removed]",
      "text/plain": [
       "<Figure size 792x288 with 2 Axes>"
      ]
     },
     "metadata": {
      "needs_background": "light"
     },
     "output_type": "display_data"
    }
   ],
   "source": [
    "from sklearn.metrics import roc_auc_score, average_precision_score\n",
    "yt = np.hstack(label_list) \n",
    "yl = np.hstack(logits_list)\n",
    "yp = np.hstack(probs_list)\n",
    "\n",
    "result_df = pd.DataFrame({\"y_true\": yt, \"y_prob\": yp, \"y_raw\": yl})\n",
    "result_df.to_csv('Finetune-vitals.csv')\n",
    "\n",
    "f, axarr = plt.subplots(1, 2, figsize=(11, 4))\n",
    "\n",
    "model_name = \"Merged-txt\"\n",
    "fpr, tpr, _ = roc_curve(yt, yt)\n",
    "precisions, recalls, _ = precision_recall_curve(yt, yp)\n",
    "auroc = roc_auc_score(yt, yp)\n",
    "auprc = average_precision_score(yt, yp)\n",
    "preds = (yp >= 0.5).astype(int)\n",
    "f1 = f1_score(yt, preds)\n",
    "print(f\"{model_name} f1: {f1:.3f}\")\n",
    "axarr[0].plot(fpr, tpr, alpha=0.6, label=f'{model_name}: {auroc:.3f}')\n",
    "axarr[1].step(recalls, precisions, where='post', alpha=0.6, label=f'{model_name}: {auprc:.3f}')\n",
    "\n",
    "\n",
    "axarr[0].legend()\n",
    "axarr[0].set_xlabel('FPR (1 - Specificity)')\n",
    "axarr[0].set_ylabel('TPR (Sensitivity)')\n",
    "axarr[1].legend()\n",
    "axarr[1].set_xlabel('Recall (Sensitivity)')\n",
    "axarr[1].set_ylabel('Precision (PPV)')"
   ]
  },
  {
   "cell_type": "markdown",
   "id": "861f51ec-5321-4f9e-9773-8bc8afa414d6",
   "metadata": {},
   "source": [
    "### codes"
   ]
  },
  {
   "cell_type": "code",
   "execution_count": 36,
   "id": "7e299f34-b6be-43ca-bda4-31a825aa737f",
   "metadata": {
    "tags": []
   },
   "outputs": [
    {
     "name": "stdout",
     "output_type": "stream",
     "text": [
      "epoch training 0 done\n",
      "loss: tensor(0.6887, device='cuda:0', grad_fn=<NllLossBackward0>)\n",
      "{'f1': 0.0008435259384226066}\n"
     ]
    }
   ],
   "source": [
    "data_collator = DataCollatorWithPadding(tokenizer=tokenizer)\n",
    "\n",
    "train_dataloader = DataLoader(\n",
    "    codes_dataset_cc['train'], shuffle = True, batch_size = 1, collate_fn = data_collator\n",
    ")\n",
    "\n",
    "eval_dataloader = DataLoader(\n",
    "    codes_dataset_cc['valid'], shuffle = True, collate_fn = data_collator\n",
    ")\n",
    "\n",
    "for epoch in range(num_epoch):\n",
    "    model_task_specific.train()\n",
    "    for batch in train_dataloader:\n",
    "        batch = { k: v.to(device) for k, v in batch.items() }\n",
    "        outputs = model_task_specific(**batch)\n",
    "        loss = outputs.loss\n",
    "        loss.backward() # computes gradients\n",
    "        \n",
    "        optimizer.step() # updates the weights and biases based on these gradients\n",
    "        lr_scheduler.step() # updates the weights and biases based on these gradients\n",
    "        optimizer.zero_grad() # used to clear the gradients of all parameters in a model\n",
    "        # progress_bar_train.update(1)\n",
    "    print(\"epoch training\", str(epoch), \"done\")\n",
    "    print(\"loss:\", str(loss))\n",
    "    \n",
    "    # run on validation set\n",
    "    model_task_specific.eval()\n",
    "    for batch in eval_dataloader:\n",
    "        batch = { k: v.to(device) for k, v in batch.items() }\n",
    "        with torch.no_grad(): # a context manager that disables gradient calculation during model inference\n",
    "            outputs = model_task_specific(**batch)\n",
    "            \n",
    "        logits = outputs.logits # calculates the probabilities between the labels\n",
    "        predictions = torch.argmax(logits, dim = -1 ) # takes the label closest to 1\n",
    "        metric.add_batch(predictions = predictions, references = batch['labels'] ) \n",
    "        # progress_bar_eval.update(1)\n",
    "        \n",
    "    print(metric.compute()) "
   ]
  },
  {
   "cell_type": "code",
   "execution_count": 37,
   "id": "42555186-8b88-4427-8c06-a4bc4634677b",
   "metadata": {
    "tags": []
   },
   "outputs": [
    {
     "name": "stdout",
     "output_type": "stream",
     "text": [
      "{'f1': 0.0008385744234800838}\n"
     ]
    }
   ],
   "source": [
    "probs_list = []\n",
    "label_list = []\n",
    "logits_list = []\n",
    "\n",
    "test_dataloader = DataLoader(\n",
    "    codes_dataset_cc['test'], batch_size = 4, collate_fn = data_collator\n",
    ")    \n",
    "\n",
    "\n",
    "metric = load_metric(\"f1\", \"precision\")\n",
    "\n",
    "for i, batch in enumerate(test_dataloader):\n",
    "    batch = { k: v.to(device) for k, v in batch.items() }\n",
    "    with torch.no_grad(): # a context manager that disables gradient calculation during model inference\n",
    "        outputs = model_task_specific(**batch)\n",
    "\n",
    "    logits = outputs.logits # calculates the probabilities between the labels\n",
    "    probs_list.append(torch.sigmoid(logits[:, 1]).cpu().detach().numpy())\n",
    "    logits_list.append(logits[:, 1].cpu().detach().numpy())\n",
    "    label_list.append(batch['labels'].cpu().detach().numpy())\n",
    "    predictions = torch.argmax(logits, dim = -1 ) # takes the label closest to 1\n",
    "    metric.add_batch(predictions = predictions, references = batch['labels'] )\n",
    "    # print(\"New Batch\")\n",
    "    # print(predictions)\n",
    "    # print(batch['labels'])\n",
    "\n",
    "print(metric.compute()) "
   ]
  },
  {
   "cell_type": "code",
   "execution_count": 38,
   "id": "e24c25f0-9ea8-4efa-a6e5-7586b35b8d1f",
   "metadata": {
    "tags": []
   },
   "outputs": [
    {
     "name": "stdout",
     "output_type": "stream",
     "text": [
      "Merged-txt f1: 0.418\n"
     ]
    },
    {
     "data": {
      "text/plain": [
       "Text(0, 0.5, 'Precision (PPV)')"
      ]
     },
     "execution_count": 38,
     "metadata": {},
     "output_type": "execute_result"
    },
    {
     "data": {
      "image/png": "[encoded data removed]",
      "text/plain": [
       "<Figure size 792x288 with 2 Axes>"
      ]
     },
     "metadata": {
      "needs_background": "light"
     },
     "output_type": "display_data"
    }
   ],
   "source": [
    "from sklearn.metrics import roc_auc_score, average_precision_score\n",
    "yt = np.hstack(label_list) \n",
    "yl = np.hstack(logits_list)\n",
    "yp = np.hstack(probs_list)\n",
    "\n",
    "result_df = pd.DataFrame({\"y_true\": yt, \"y_prob\": yp, \"y_raw\": yl})\n",
    "result_df.to_csv('Finetune-codes.csv')\n",
    "\n",
    "f, axarr = plt.subplots(1, 2, figsize=(11, 4))\n",
    "\n",
    "model_name = \"Merged-txt\"\n",
    "fpr, tpr, _ = roc_curve(yt, yt)\n",
    "precisions, recalls, _ = precision_recall_curve(yt, yp)\n",
    "auroc = roc_auc_score(yt, yp)\n",
    "auprc = average_precision_score(yt, yp)\n",
    "preds = (yp >= 0.5).astype(int)\n",
    "f1 = f1_score(yt, preds)\n",
    "print(f\"{model_name} f1: {f1:.3f}\")\n",
    "axarr[0].plot(fpr, tpr, alpha=0.6, label=f'{model_name}: {auroc:.3f}')\n",
    "axarr[1].step(recalls, precisions, where='post', alpha=0.6, label=f'{model_name}: {auprc:.3f}')\n",
    "\n",
    "\n",
    "axarr[0].legend()\n",
    "axarr[0].set_xlabel('FPR (1 - Specificity)')\n",
    "axarr[0].set_ylabel('TPR (Sensitivity)')\n",
    "axarr[1].legend()\n",
    "axarr[1].set_xlabel('Recall (Sensitivity)')\n",
    "axarr[1].set_ylabel('Precision (PPV)')"
   ]
  },
  {
   "cell_type": "markdown",
   "id": "45e8e98a-5711-4aa3-b69d-e3bbcdb50231",
   "metadata": {},
   "source": [
    "### pyxis"
   ]
  },
  {
   "cell_type": "code",
   "execution_count": 39,
   "id": "565d379e-e146-47e3-acd1-d02b7272ba7e",
   "metadata": {
    "tags": []
   },
   "outputs": [
    {
     "name": "stdout",
     "output_type": "stream",
     "text": [
      "epoch training 0 done\n",
      "loss: tensor(0.7074, device='cuda:0', grad_fn=<NllLossBackward0>)\n",
      "{'f1': 0.066030230708035}\n"
     ]
    }
   ],
   "source": [
    "data_collator = DataCollatorWithPadding(tokenizer=tokenizer)\n",
    "\n",
    "train_dataloader = DataLoader(\n",
    "    pyxis_dataset_cc['train'], shuffle = True, batch_size = 1, collate_fn = data_collator\n",
    ")\n",
    "\n",
    "eval_dataloader = DataLoader(\n",
    "    pyxis_dataset_cc['valid'], shuffle = True, collate_fn = data_collator\n",
    ")\n",
    "\n",
    "for epoch in range(num_epoch):\n",
    "    model_task_specific.train()\n",
    "    for batch in train_dataloader:\n",
    "        batch = { k: v.to(device) for k, v in batch.items() }\n",
    "        outputs = model_task_specific(**batch)\n",
    "        loss = outputs.loss\n",
    "        loss.backward() # computes gradients\n",
    "        \n",
    "        optimizer.step() # updates the weights and biases based on these gradients\n",
    "        lr_scheduler.step() # updates the weights and biases based on these gradients\n",
    "        optimizer.zero_grad() # used to clear the gradients of all parameters in a model\n",
    "        # progress_bar_train.update(1)\n",
    "    print(\"epoch training\", str(epoch), \"done\")\n",
    "    print(\"loss:\", str(loss))\n",
    "    \n",
    "    # run on validation set\n",
    "    model_task_specific.eval()\n",
    "    for batch in eval_dataloader:\n",
    "        batch = { k: v.to(device) for k, v in batch.items() }\n",
    "        with torch.no_grad(): # a context manager that disables gradient calculation during model inference\n",
    "            outputs = model_task_specific(**batch)\n",
    "            \n",
    "        logits = outputs.logits # calculates the probabilities between the labels\n",
    "        predictions = torch.argmax(logits, dim = -1 ) # takes the label closest to 1\n",
    "        metric.add_batch(predictions = predictions, references = batch['labels'] ) \n",
    "        # progress_bar_eval.update(1)\n",
    "        \n",
    "    print(metric.compute()) "
   ]
  },
  {
   "cell_type": "code",
   "execution_count": 40,
   "id": "920fa6f6-a738-4b04-8ea1-fb48f2d08d66",
   "metadata": {
    "tags": []
   },
   "outputs": [
    {
     "name": "stdout",
     "output_type": "stream",
     "text": [
      "{'f1': 0.0495603517186251}\n"
     ]
    }
   ],
   "source": [
    "probs_list = []\n",
    "label_list = []\n",
    "logits_list = []\n",
    "\n",
    "test_dataloader = DataLoader(\n",
    "    pyxis_dataset_cc['test'], batch_size = 4, collate_fn = data_collator\n",
    ")    \n",
    "\n",
    "\n",
    "metric = load_metric(\"f1\", \"precision\")\n",
    "\n",
    "for i, batch in enumerate(test_dataloader):\n",
    "    batch = { k: v.to(device) for k, v in batch.items() }\n",
    "    with torch.no_grad(): # a context manager that disables gradient calculation during model inference\n",
    "        outputs = model_task_specific(**batch)\n",
    "\n",
    "    logits = outputs.logits # calculates the probabilities between the labels\n",
    "    probs_list.append(torch.sigmoid(logits[:, 1]).cpu().detach().numpy())\n",
    "    logits_list.append(logits[:, 1].cpu().detach().numpy())\n",
    "    label_list.append(batch['labels'].cpu().detach().numpy())\n",
    "    predictions = torch.argmax(logits, dim = -1 ) # takes the label closest to 1\n",
    "    metric.add_batch(predictions = predictions, references = batch['labels'] )\n",
    "    # print(\"New Batch\")\n",
    "    # print(predictions)\n",
    "    # print(batch['labels'])\n",
    "\n",
    "print(metric.compute()) "
   ]
  },
  {
   "cell_type": "code",
   "execution_count": 41,
   "id": "1f7fc30f-3540-4e91-a39b-35727d4af9cc",
   "metadata": {
    "tags": []
   },
   "outputs": [
    {
     "name": "stdout",
     "output_type": "stream",
     "text": [
      "Merged-txt f1: 0.564\n"
     ]
    },
    {
     "data": {
      "text/plain": [
       "Text(0, 0.5, 'Precision (PPV)')"
      ]
     },
     "execution_count": 41,
     "metadata": {},
     "output_type": "execute_result"
    },
    {
     "data": {
      "image/png": "[encoded data removed]",
      "text/plain": [
       "<Figure size 792x288 with 2 Axes>"
      ]
     },
     "metadata": {
      "needs_background": "light"
     },
     "output_type": "display_data"
    }
   ],
   "source": [
    "yt = np.hstack(label_list) \n",
    "yl = np.hstack(logits_list)\n",
    "yp = np.hstack(probs_list)\n",
    "\n",
    "result_df = pd.DataFrame({\"y_true\": yt, \"y_prob\": yp, \"y_raw\": yl})\n",
    "result_df.to_csv('Finetune-pyxis.csv')\n",
    "\n",
    "f, axarr = plt.subplots(1, 2, figsize=(11, 4))\n",
    "\n",
    "model_name = \"Merged-txt\"\n",
    "fpr, tpr, _ = roc_curve(yt, yt)\n",
    "precisions, recalls, _ = precision_recall_curve(yt, yp)\n",
    "auroc = roc_auc_score(yt, yp)\n",
    "auprc = average_precision_score(yt, yp)\n",
    "preds = (yp >= 0.5).astype(int)\n",
    "f1 = f1_score(yt, preds)\n",
    "print(f\"{model_name} f1: {f1:.3f}\")\n",
    "axarr[0].plot(fpr, tpr, alpha=0.6, label=f'{model_name}: {auroc:.3f}')\n",
    "axarr[1].step(recalls, precisions, where='post', alpha=0.6, label=f'{model_name}: {auprc:.3f}')\n",
    "\n",
    "\n",
    "axarr[0].legend()\n",
    "axarr[0].set_xlabel('FPR (1 - Specificity)')\n",
    "axarr[0].set_ylabel('TPR (Sensitivity)')\n",
    "axarr[1].legend()\n",
    "axarr[1].set_xlabel('Recall (Sensitivity)')\n",
    "axarr[1].set_ylabel('Precision (PPV)')"
   ]
  },
  {
   "cell_type": "markdown",
   "id": "a6b354e6-7e4f-4f4f-bd76-42a17f271dbd",
   "metadata": {},
   "source": [
    "# Multiple Modality"
   ]
  },
  {
   "cell_type": "code",
   "execution_count": 42,
   "id": "ef63940a-9aeb-4b87-92b0-552b35baf19a",
   "metadata": {
    "tags": []
   },
   "outputs": [],
   "source": [
    "train_dataloader_concat = [triage_dataset_cc[\"train\"], arrival_dataset_cc[\"train\"],medrecon_dataset_cc[\"train\"],vitals_dataset_cc[\"train\"],codes_dataset_cc[\"train\"],pyxis_dataset_cc[\"train\"]]\n",
    "valid_dataloader_concat = [triage_dataset_cc[\"valid\"], arrival_dataset_cc[\"valid\"],medrecon_dataset_cc[\"valid\"],vitals_dataset_cc[\"valid\"],codes_dataset_cc[\"valid\"],pyxis_dataset_cc[\"valid\"]]\n",
    "test_dataloader_concat = [triage_dataset_cc[\"test\"], arrival_dataset_cc[\"test\"],medrecon_dataset_cc[\"test\"],vitals_dataset_cc[\"test\"],codes_dataset_cc[\"test\"],pyxis_dataset_cc[\"test\"]]"
   ]
  },
  {
   "cell_type": "code",
   "execution_count": 47,
   "id": "cb186332-7510-4cbb-8e7d-ddef0cde8bfb",
   "metadata": {
    "tags": []
   },
   "outputs": [
    {
     "name": "stderr",
     "output_type": "stream",
     "text": [
      "  0%|          | 73/28001 [3:28:31<1329:37:36, 171.39s/it]\n",
      "\n",
      "  0%|          | 0/6000 [3:28:31<?, ?it/s]A\n"
     ]
    },
    {
     "name": "stdout",
     "output_type": "stream",
     "text": [
      "Epoch 0...\n"
     ]
    },
    {
     "name": "stderr",
     "output_type": "stream",
     "text": [
      "  0%|          | 34/7000 [00:30<1:44:45,  1.11it/s]"
     ]
    },
    {
     "data": {
      "text/html": [
       "<pre style=\"white-space:pre;overflow-x:auto;line-height:normal;font-family:Menlo,'DejaVu Sans Mono',consolas,'Courier New',monospace\"><span style=\"color: #800000; text-decoration-color: #800000\">╭─────────────────────────────── </span><span style=\"color: #800000; text-decoration-color: #800000; font-weight: bold\">Traceback </span><span style=\"color: #bf7f7f; text-decoration-color: #bf7f7f; font-weight: bold\">(most recent call last)</span><span style=\"color: #800000; text-decoration-color: #800000\"> ────────────────────────────────╮</span>\n",
       "<span style=\"color: #800000; text-decoration-color: #800000\">│</span> <span style=\"color: #808000; text-decoration-color: #808000\">&lt;ipython-input-47-cbbfc3a913a7&gt;</span>:<span style=\"color: #0000ff; text-decoration-color: #0000ff\">19</span> in <span style=\"color: #00ff00; text-decoration-color: #00ff00\">&lt;module&gt;</span>                                                   <span style=\"color: #800000; text-decoration-color: #800000\">│</span>\n",
       "<span style=\"color: #800000; text-decoration-color: #800000\">│</span>                                                                                                  <span style=\"color: #800000; text-decoration-color: #800000\">│</span>\n",
       "<span style=\"color: #800000; text-decoration-color: #800000\">│</span> <span style=\"color: #bfbf7f; text-decoration-color: #bfbf7f\">/opt/conda/lib/python3.9/site-packages/datasets/</span><span style=\"color: #808000; text-decoration-color: #808000; font-weight: bold\">arrow_dataset.py</span>:<span style=\"color: #0000ff; text-decoration-color: #0000ff\">2803</span> in <span style=\"color: #00ff00; text-decoration-color: #00ff00\">__getitem__</span>             <span style=\"color: #800000; text-decoration-color: #800000\">│</span>\n",
       "<span style=\"color: #800000; text-decoration-color: #800000\">│</span>                                                                                                  <span style=\"color: #800000; text-decoration-color: #800000\">│</span>\n",
       "<span style=\"color: #800000; text-decoration-color: #800000\">│</span>   <span style=\"color: #7f7f7f; text-decoration-color: #7f7f7f\">2800 │   </span>                                                                                      <span style=\"color: #800000; text-decoration-color: #800000\">│</span>\n",
       "<span style=\"color: #800000; text-decoration-color: #800000\">│</span>   <span style=\"color: #7f7f7f; text-decoration-color: #7f7f7f\">2801 │   </span><span style=\"color: #0000ff; text-decoration-color: #0000ff\">def</span> <span style=\"color: #00ff00; text-decoration-color: #00ff00\">__getitem__</span>(<span style=\"color: #00ffff; text-decoration-color: #00ffff\">self</span>, key):  <span style=\"color: #7f7f7f; text-decoration-color: #7f7f7f\"># noqa: F811</span>                                             <span style=\"color: #800000; text-decoration-color: #800000\">│</span>\n",
       "<span style=\"color: #800000; text-decoration-color: #800000\">│</span>   <span style=\"color: #7f7f7f; text-decoration-color: #7f7f7f\">2802 </span><span style=\"color: #bfbfbf; text-decoration-color: #bfbfbf\">│   │   </span><span style=\"color: #808000; text-decoration-color: #808000\">\"\"\"Can be used to index columns (by string names) or rows (by integer index or i</span>  <span style=\"color: #800000; text-decoration-color: #800000\">│</span>\n",
       "<span style=\"color: #800000; text-decoration-color: #800000\">│</span> <span style=\"color: #800000; text-decoration-color: #800000\">❱ </span>2803 <span style=\"color: #7f7f7f; text-decoration-color: #7f7f7f\">│   │   </span><span style=\"color: #0000ff; text-decoration-color: #0000ff\">return</span> <span style=\"color: #00ffff; text-decoration-color: #00ffff\">self</span>._getitem(key)                                                         <span style=\"color: #800000; text-decoration-color: #800000\">│</span>\n",
       "<span style=\"color: #800000; text-decoration-color: #800000\">│</span>   <span style=\"color: #7f7f7f; text-decoration-color: #7f7f7f\">2804 │   </span>                                                                                      <span style=\"color: #800000; text-decoration-color: #800000\">│</span>\n",
       "<span style=\"color: #800000; text-decoration-color: #800000\">│</span>   <span style=\"color: #7f7f7f; text-decoration-color: #7f7f7f\">2805 │   </span><span style=\"color: #0000ff; text-decoration-color: #0000ff\">def</span> <span style=\"color: #00ff00; text-decoration-color: #00ff00\">__getitems__</span>(<span style=\"color: #00ffff; text-decoration-color: #00ffff\">self</span>, keys: List) -&gt; List:                                           <span style=\"color: #800000; text-decoration-color: #800000\">│</span>\n",
       "<span style=\"color: #800000; text-decoration-color: #800000\">│</span>   <span style=\"color: #7f7f7f; text-decoration-color: #7f7f7f\">2806 </span><span style=\"color: #bfbfbf; text-decoration-color: #bfbfbf\">│   │   </span><span style=\"color: #808000; text-decoration-color: #808000\">\"\"\"Can be used to get a batch using a list of integers indices.\"\"\"</span>                <span style=\"color: #800000; text-decoration-color: #800000\">│</span>\n",
       "<span style=\"color: #800000; text-decoration-color: #800000\">│</span>                                                                                                  <span style=\"color: #800000; text-decoration-color: #800000\">│</span>\n",
       "<span style=\"color: #800000; text-decoration-color: #800000\">│</span> <span style=\"color: #bfbf7f; text-decoration-color: #bfbf7f\">/opt/conda/lib/python3.9/site-packages/datasets/</span><span style=\"color: #808000; text-decoration-color: #808000; font-weight: bold\">arrow_dataset.py</span>:<span style=\"color: #0000ff; text-decoration-color: #0000ff\">2788</span> in <span style=\"color: #00ff00; text-decoration-color: #00ff00\">_getitem</span>                <span style=\"color: #800000; text-decoration-color: #800000\">│</span>\n",
       "<span style=\"color: #800000; text-decoration-color: #800000\">│</span>                                                                                                  <span style=\"color: #800000; text-decoration-color: #800000\">│</span>\n",
       "<span style=\"color: #800000; text-decoration-color: #800000\">│</span>   <span style=\"color: #7f7f7f; text-decoration-color: #7f7f7f\">2785 │   │   </span>format_kwargs = format_kwargs <span style=\"color: #0000ff; text-decoration-color: #0000ff\">if</span> format_kwargs <span style=\"color: #ff00ff; text-decoration-color: #ff00ff\">is</span> <span style=\"color: #ff00ff; text-decoration-color: #ff00ff\">not</span> <span style=\"color: #0000ff; text-decoration-color: #0000ff\">None</span> <span style=\"color: #0000ff; text-decoration-color: #0000ff\">else</span> {}                <span style=\"color: #800000; text-decoration-color: #800000\">│</span>\n",
       "<span style=\"color: #800000; text-decoration-color: #800000\">│</span>   <span style=\"color: #7f7f7f; text-decoration-color: #7f7f7f\">2786 │   │   </span>formatter = get_formatter(format_type, features=<span style=\"color: #00ffff; text-decoration-color: #00ffff\">self</span>._info.features, **format_kw  <span style=\"color: #800000; text-decoration-color: #800000\">│</span>\n",
       "<span style=\"color: #800000; text-decoration-color: #800000\">│</span>   <span style=\"color: #7f7f7f; text-decoration-color: #7f7f7f\">2787 │   │   </span>pa_subtable = query_table(<span style=\"color: #00ffff; text-decoration-color: #00ffff\">self</span>._data, key, indices=<span style=\"color: #00ffff; text-decoration-color: #00ffff\">self</span>._indices <span style=\"color: #0000ff; text-decoration-color: #0000ff\">if</span> <span style=\"color: #00ffff; text-decoration-color: #00ffff\">self</span>._indice  <span style=\"color: #800000; text-decoration-color: #800000\">│</span>\n",
       "<span style=\"color: #800000; text-decoration-color: #800000\">│</span> <span style=\"color: #800000; text-decoration-color: #800000\">❱ </span>2788 <span style=\"color: #7f7f7f; text-decoration-color: #7f7f7f\">│   │   </span>formatted_output = format_table(                                                  <span style=\"color: #800000; text-decoration-color: #800000\">│</span>\n",
       "<span style=\"color: #800000; text-decoration-color: #800000\">│</span>   <span style=\"color: #7f7f7f; text-decoration-color: #7f7f7f\">2789 │   │   │   </span>pa_subtable, key, formatter=formatter, format_columns=format_columns, output  <span style=\"color: #800000; text-decoration-color: #800000\">│</span>\n",
       "<span style=\"color: #800000; text-decoration-color: #800000\">│</span>   <span style=\"color: #7f7f7f; text-decoration-color: #7f7f7f\">2790 │   │   </span>)                                                                                 <span style=\"color: #800000; text-decoration-color: #800000\">│</span>\n",
       "<span style=\"color: #800000; text-decoration-color: #800000\">│</span>   <span style=\"color: #7f7f7f; text-decoration-color: #7f7f7f\">2791 │   │   </span><span style=\"color: #0000ff; text-decoration-color: #0000ff\">return</span> formatted_output                                                           <span style=\"color: #800000; text-decoration-color: #800000\">│</span>\n",
       "<span style=\"color: #800000; text-decoration-color: #800000\">│</span>                                                                                                  <span style=\"color: #800000; text-decoration-color: #800000\">│</span>\n",
       "<span style=\"color: #800000; text-decoration-color: #800000\">│</span> <span style=\"color: #bfbf7f; text-decoration-color: #bfbf7f\">/opt/conda/lib/python3.9/site-packages/datasets/formatting/</span><span style=\"color: #808000; text-decoration-color: #808000; font-weight: bold\">formatting.py</span>:<span style=\"color: #0000ff; text-decoration-color: #0000ff\">632</span> in <span style=\"color: #00ff00; text-decoration-color: #00ff00\">format_table</span>     <span style=\"color: #800000; text-decoration-color: #800000\">│</span>\n",
       "<span style=\"color: #800000; text-decoration-color: #800000\">│</span>                                                                                                  <span style=\"color: #800000; text-decoration-color: #800000\">│</span>\n",
       "<span style=\"color: #800000; text-decoration-color: #800000\">│</span>   <span style=\"color: #7f7f7f; text-decoration-color: #7f7f7f\">629 │   │   </span><span style=\"color: #0000ff; text-decoration-color: #0000ff\">return</span> formatter(pa_table, query_type=query_type)                                  <span style=\"color: #800000; text-decoration-color: #800000\">│</span>\n",
       "<span style=\"color: #800000; text-decoration-color: #800000\">│</span>   <span style=\"color: #7f7f7f; text-decoration-color: #7f7f7f\">630 │   </span><span style=\"color: #0000ff; text-decoration-color: #0000ff\">elif</span> query_type == <span style=\"color: #808000; text-decoration-color: #808000\">\"column\"</span>:                                                           <span style=\"color: #800000; text-decoration-color: #800000\">│</span>\n",
       "<span style=\"color: #800000; text-decoration-color: #800000\">│</span>   <span style=\"color: #7f7f7f; text-decoration-color: #7f7f7f\">631 │   │   </span><span style=\"color: #0000ff; text-decoration-color: #0000ff\">if</span> key <span style=\"color: #ff00ff; text-decoration-color: #ff00ff\">in</span> format_columns:                                                          <span style=\"color: #800000; text-decoration-color: #800000\">│</span>\n",
       "<span style=\"color: #800000; text-decoration-color: #800000\">│</span> <span style=\"color: #800000; text-decoration-color: #800000\">❱ </span>632 <span style=\"color: #7f7f7f; text-decoration-color: #7f7f7f\">│   │   │   </span><span style=\"color: #0000ff; text-decoration-color: #0000ff\">return</span> formatter(pa_table, query_type)                                         <span style=\"color: #800000; text-decoration-color: #800000\">│</span>\n",
       "<span style=\"color: #800000; text-decoration-color: #800000\">│</span>   <span style=\"color: #7f7f7f; text-decoration-color: #7f7f7f\">633 │   │   </span><span style=\"color: #0000ff; text-decoration-color: #0000ff\">else</span>:                                                                              <span style=\"color: #800000; text-decoration-color: #800000\">│</span>\n",
       "<span style=\"color: #800000; text-decoration-color: #800000\">│</span>   <span style=\"color: #7f7f7f; text-decoration-color: #7f7f7f\">634 │   │   │   </span><span style=\"color: #0000ff; text-decoration-color: #0000ff\">return</span> python_formatter(pa_table, query_type=query_type)                       <span style=\"color: #800000; text-decoration-color: #800000\">│</span>\n",
       "<span style=\"color: #800000; text-decoration-color: #800000\">│</span>   <span style=\"color: #7f7f7f; text-decoration-color: #7f7f7f\">635 │   </span><span style=\"color: #0000ff; text-decoration-color: #0000ff\">else</span>:                                                                                  <span style=\"color: #800000; text-decoration-color: #800000\">│</span>\n",
       "<span style=\"color: #800000; text-decoration-color: #800000\">│</span>                                                                                                  <span style=\"color: #800000; text-decoration-color: #800000\">│</span>\n",
       "<span style=\"color: #800000; text-decoration-color: #800000\">│</span> <span style=\"color: #bfbf7f; text-decoration-color: #bfbf7f\">/opt/conda/lib/python3.9/site-packages/datasets/formatting/</span><span style=\"color: #808000; text-decoration-color: #808000; font-weight: bold\">formatting.py</span>:<span style=\"color: #0000ff; text-decoration-color: #0000ff\">398</span> in <span style=\"color: #00ff00; text-decoration-color: #00ff00\">__call__</span>         <span style=\"color: #800000; text-decoration-color: #800000\">│</span>\n",
       "<span style=\"color: #800000; text-decoration-color: #800000\">│</span>                                                                                                  <span style=\"color: #800000; text-decoration-color: #800000\">│</span>\n",
       "<span style=\"color: #800000; text-decoration-color: #800000\">│</span>   <span style=\"color: #7f7f7f; text-decoration-color: #7f7f7f\">395 │   │   </span><span style=\"color: #0000ff; text-decoration-color: #0000ff\">if</span> query_type == <span style=\"color: #808000; text-decoration-color: #808000\">\"row\"</span>:                                                            <span style=\"color: #800000; text-decoration-color: #800000\">│</span>\n",
       "<span style=\"color: #800000; text-decoration-color: #800000\">│</span>   <span style=\"color: #7f7f7f; text-decoration-color: #7f7f7f\">396 │   │   │   </span><span style=\"color: #0000ff; text-decoration-color: #0000ff\">return</span> <span style=\"color: #00ffff; text-decoration-color: #00ffff\">self</span>.format_row(pa_table)                                               <span style=\"color: #800000; text-decoration-color: #800000\">│</span>\n",
       "<span style=\"color: #800000; text-decoration-color: #800000\">│</span>   <span style=\"color: #7f7f7f; text-decoration-color: #7f7f7f\">397 │   │   </span><span style=\"color: #0000ff; text-decoration-color: #0000ff\">elif</span> query_type == <span style=\"color: #808000; text-decoration-color: #808000\">\"column\"</span>:                                                       <span style=\"color: #800000; text-decoration-color: #800000\">│</span>\n",
       "<span style=\"color: #800000; text-decoration-color: #800000\">│</span> <span style=\"color: #800000; text-decoration-color: #800000\">❱ </span>398 <span style=\"color: #7f7f7f; text-decoration-color: #7f7f7f\">│   │   │   </span><span style=\"color: #0000ff; text-decoration-color: #0000ff\">return</span> <span style=\"color: #00ffff; text-decoration-color: #00ffff\">self</span>.format_column(pa_table)                                            <span style=\"color: #800000; text-decoration-color: #800000\">│</span>\n",
       "<span style=\"color: #800000; text-decoration-color: #800000\">│</span>   <span style=\"color: #7f7f7f; text-decoration-color: #7f7f7f\">399 │   │   </span><span style=\"color: #0000ff; text-decoration-color: #0000ff\">elif</span> query_type == <span style=\"color: #808000; text-decoration-color: #808000\">\"batch\"</span>:                                                        <span style=\"color: #800000; text-decoration-color: #800000\">│</span>\n",
       "<span style=\"color: #800000; text-decoration-color: #800000\">│</span>   <span style=\"color: #7f7f7f; text-decoration-color: #7f7f7f\">400 │   │   │   </span><span style=\"color: #0000ff; text-decoration-color: #0000ff\">return</span> <span style=\"color: #00ffff; text-decoration-color: #00ffff\">self</span>.format_batch(pa_table)                                             <span style=\"color: #800000; text-decoration-color: #800000\">│</span>\n",
       "<span style=\"color: #800000; text-decoration-color: #800000\">│</span>   <span style=\"color: #7f7f7f; text-decoration-color: #7f7f7f\">401 </span>                                                                                           <span style=\"color: #800000; text-decoration-color: #800000\">│</span>\n",
       "<span style=\"color: #800000; text-decoration-color: #800000\">│</span>                                                                                                  <span style=\"color: #800000; text-decoration-color: #800000\">│</span>\n",
       "<span style=\"color: #800000; text-decoration-color: #800000\">│</span> <span style=\"color: #bfbf7f; text-decoration-color: #bfbf7f\">/opt/conda/lib/python3.9/site-packages/datasets/formatting/</span><span style=\"color: #808000; text-decoration-color: #808000; font-weight: bold\">torch_formatter.py</span>:<span style=\"color: #0000ff; text-decoration-color: #0000ff\">93</span> in              <span style=\"color: #800000; text-decoration-color: #800000\">│</span>\n",
       "<span style=\"color: #800000; text-decoration-color: #800000\">│</span> <span style=\"color: #00ff00; text-decoration-color: #00ff00\">format_column</span>                                                                                    <span style=\"color: #800000; text-decoration-color: #800000\">│</span>\n",
       "<span style=\"color: #800000; text-decoration-color: #800000\">│</span>                                                                                                  <span style=\"color: #800000; text-decoration-color: #800000\">│</span>\n",
       "<span style=\"color: #800000; text-decoration-color: #800000\">│</span>   <span style=\"color: #7f7f7f; text-decoration-color: #7f7f7f\"> 90 │   │   </span><span style=\"color: #0000ff; text-decoration-color: #0000ff\">return</span> <span style=\"color: #00ffff; text-decoration-color: #00ffff\">self</span>.recursive_tensorize(row)                                               <span style=\"color: #800000; text-decoration-color: #800000\">│</span>\n",
       "<span style=\"color: #800000; text-decoration-color: #800000\">│</span>   <span style=\"color: #7f7f7f; text-decoration-color: #7f7f7f\"> 91 │   </span>                                                                                       <span style=\"color: #800000; text-decoration-color: #800000\">│</span>\n",
       "<span style=\"color: #800000; text-decoration-color: #800000\">│</span>   <span style=\"color: #7f7f7f; text-decoration-color: #7f7f7f\"> 92 │   </span><span style=\"color: #0000ff; text-decoration-color: #0000ff\">def</span> <span style=\"color: #00ff00; text-decoration-color: #00ff00\">format_column</span>(<span style=\"color: #00ffff; text-decoration-color: #00ffff\">self</span>, pa_table: pa.Table) -&gt; <span style=\"color: #808000; text-decoration-color: #808000\">\"torch.Tensor\"</span>:                         <span style=\"color: #800000; text-decoration-color: #800000\">│</span>\n",
       "<span style=\"color: #800000; text-decoration-color: #800000\">│</span> <span style=\"color: #800000; text-decoration-color: #800000\">❱ </span> 93 <span style=\"color: #7f7f7f; text-decoration-color: #7f7f7f\">│   │   </span>column = <span style=\"color: #00ffff; text-decoration-color: #00ffff\">self</span>.numpy_arrow_extractor().extract_column(pa_table)                     <span style=\"color: #800000; text-decoration-color: #800000\">│</span>\n",
       "<span style=\"color: #800000; text-decoration-color: #800000\">│</span>   <span style=\"color: #7f7f7f; text-decoration-color: #7f7f7f\"> 94 │   │   </span>column = <span style=\"color: #00ffff; text-decoration-color: #00ffff\">self</span>.python_features_decoder.decode_column(column, pa_table.column_name   <span style=\"color: #800000; text-decoration-color: #800000\">│</span>\n",
       "<span style=\"color: #800000; text-decoration-color: #800000\">│</span>   <span style=\"color: #7f7f7f; text-decoration-color: #7f7f7f\"> 95 │   │   </span>column = <span style=\"color: #00ffff; text-decoration-color: #00ffff\">self</span>.recursive_tensorize(column)                                          <span style=\"color: #800000; text-decoration-color: #800000\">│</span>\n",
       "<span style=\"color: #800000; text-decoration-color: #800000\">│</span>   <span style=\"color: #7f7f7f; text-decoration-color: #7f7f7f\"> 96 │   │   </span>column = <span style=\"color: #00ffff; text-decoration-color: #00ffff\">self</span>._consolidate(column)                                                 <span style=\"color: #800000; text-decoration-color: #800000\">│</span>\n",
       "<span style=\"color: #800000; text-decoration-color: #800000\">│</span>                                                                                                  <span style=\"color: #800000; text-decoration-color: #800000\">│</span>\n",
       "<span style=\"color: #800000; text-decoration-color: #800000\">│</span> <span style=\"color: #bfbf7f; text-decoration-color: #bfbf7f\">/opt/conda/lib/python3.9/site-packages/datasets/formatting/</span><span style=\"color: #808000; text-decoration-color: #808000; font-weight: bold\">formatting.py</span>:<span style=\"color: #0000ff; text-decoration-color: #0000ff\">161</span> in <span style=\"color: #00ff00; text-decoration-color: #00ff00\">extract_column</span>   <span style=\"color: #800000; text-decoration-color: #800000\">│</span>\n",
       "<span style=\"color: #800000; text-decoration-color: #800000\">│</span>                                                                                                  <span style=\"color: #800000; text-decoration-color: #800000\">│</span>\n",
       "<span style=\"color: #800000; text-decoration-color: #800000\">│</span>   <span style=\"color: #7f7f7f; text-decoration-color: #7f7f7f\">158 │   │   </span><span style=\"color: #0000ff; text-decoration-color: #0000ff\">return</span> _unnest(<span style=\"color: #00ffff; text-decoration-color: #00ffff\">self</span>.extract_batch(pa_table))                                       <span style=\"color: #800000; text-decoration-color: #800000\">│</span>\n",
       "<span style=\"color: #800000; text-decoration-color: #800000\">│</span>   <span style=\"color: #7f7f7f; text-decoration-color: #7f7f7f\">159 │   </span>                                                                                       <span style=\"color: #800000; text-decoration-color: #800000\">│</span>\n",
       "<span style=\"color: #800000; text-decoration-color: #800000\">│</span>   <span style=\"color: #7f7f7f; text-decoration-color: #7f7f7f\">160 │   </span><span style=\"color: #0000ff; text-decoration-color: #0000ff\">def</span> <span style=\"color: #00ff00; text-decoration-color: #00ff00\">extract_column</span>(<span style=\"color: #00ffff; text-decoration-color: #00ffff\">self</span>, pa_table: pa.Table) -&gt; np.ndarray:                            <span style=\"color: #800000; text-decoration-color: #800000\">│</span>\n",
       "<span style=\"color: #800000; text-decoration-color: #800000\">│</span> <span style=\"color: #800000; text-decoration-color: #800000\">❱ </span>161 <span style=\"color: #7f7f7f; text-decoration-color: #7f7f7f\">│   │   </span><span style=\"color: #0000ff; text-decoration-color: #0000ff\">return</span> <span style=\"color: #00ffff; text-decoration-color: #00ffff\">self</span>._arrow_array_to_numpy(pa_table[pa_table.column_names[<span style=\"color: #0000ff; text-decoration-color: #0000ff\">0</span>]])              <span style=\"color: #800000; text-decoration-color: #800000\">│</span>\n",
       "<span style=\"color: #800000; text-decoration-color: #800000\">│</span>   <span style=\"color: #7f7f7f; text-decoration-color: #7f7f7f\">162 │   </span>                                                                                       <span style=\"color: #800000; text-decoration-color: #800000\">│</span>\n",
       "<span style=\"color: #800000; text-decoration-color: #800000\">│</span>   <span style=\"color: #7f7f7f; text-decoration-color: #7f7f7f\">163 │   </span><span style=\"color: #0000ff; text-decoration-color: #0000ff\">def</span> <span style=\"color: #00ff00; text-decoration-color: #00ff00\">extract_batch</span>(<span style=\"color: #00ffff; text-decoration-color: #00ffff\">self</span>, pa_table: pa.Table) -&gt; <span style=\"color: #00ffff; text-decoration-color: #00ffff\">dict</span>:                                   <span style=\"color: #800000; text-decoration-color: #800000\">│</span>\n",
       "<span style=\"color: #800000; text-decoration-color: #800000\">│</span>   <span style=\"color: #7f7f7f; text-decoration-color: #7f7f7f\">164 │   │   </span><span style=\"color: #0000ff; text-decoration-color: #0000ff\">return</span> {col: <span style=\"color: #00ffff; text-decoration-color: #00ffff\">self</span>._arrow_array_to_numpy(pa_table[col]) <span style=\"color: #0000ff; text-decoration-color: #0000ff\">for</span> col <span style=\"color: #ff00ff; text-decoration-color: #ff00ff\">in</span> pa_table.colum   <span style=\"color: #800000; text-decoration-color: #800000\">│</span>\n",
       "<span style=\"color: #800000; text-decoration-color: #800000\">│</span>                                                                                                  <span style=\"color: #800000; text-decoration-color: #800000\">│</span>\n",
       "<span style=\"color: #800000; text-decoration-color: #800000\">│</span> <span style=\"color: #bfbf7f; text-decoration-color: #bfbf7f\">/opt/conda/lib/python3.9/site-packages/datasets/formatting/</span><span style=\"color: #808000; text-decoration-color: #808000; font-weight: bold\">formatting.py</span>:<span style=\"color: #0000ff; text-decoration-color: #0000ff\">196</span> in                  <span style=\"color: #800000; text-decoration-color: #800000\">│</span>\n",
       "<span style=\"color: #800000; text-decoration-color: #800000\">│</span> <span style=\"color: #00ff00; text-decoration-color: #00ff00\">_arrow_array_to_numpy</span>                                                                            <span style=\"color: #800000; text-decoration-color: #800000\">│</span>\n",
       "<span style=\"color: #800000; text-decoration-color: #800000\">│</span>                                                                                                  <span style=\"color: #800000; text-decoration-color: #800000\">│</span>\n",
       "<span style=\"color: #800000; text-decoration-color: #800000\">│</span>   <span style=\"color: #7f7f7f; text-decoration-color: #7f7f7f\">193 │   │   │   │   </span><span style=\"color: #0000ff; text-decoration-color: #0000ff\">for</span> x <span style=\"color: #ff00ff; text-decoration-color: #ff00ff\">in</span> array                                                             <span style=\"color: #800000; text-decoration-color: #800000\">│</span>\n",
       "<span style=\"color: #800000; text-decoration-color: #800000\">│</span>   <span style=\"color: #7f7f7f; text-decoration-color: #7f7f7f\">194 │   │   │   </span>):                                                                             <span style=\"color: #800000; text-decoration-color: #800000\">│</span>\n",
       "<span style=\"color: #800000; text-decoration-color: #800000\">│</span>   <span style=\"color: #7f7f7f; text-decoration-color: #7f7f7f\">195 │   │   │   │   </span><span style=\"color: #0000ff; text-decoration-color: #0000ff\">return</span> np.array(array, copy=<span style=\"color: #0000ff; text-decoration-color: #0000ff\">False</span>, dtype=<span style=\"color: #00ffff; text-decoration-color: #00ffff\">object</span>)                           <span style=\"color: #800000; text-decoration-color: #800000\">│</span>\n",
       "<span style=\"color: #800000; text-decoration-color: #800000\">│</span> <span style=\"color: #800000; text-decoration-color: #800000\">❱ </span>196 <span style=\"color: #7f7f7f; text-decoration-color: #7f7f7f\">│   │   </span><span style=\"color: #0000ff; text-decoration-color: #0000ff\">return</span> np.array(array, copy=<span style=\"color: #0000ff; text-decoration-color: #0000ff\">False</span>)                                                 <span style=\"color: #800000; text-decoration-color: #800000\">│</span>\n",
       "<span style=\"color: #800000; text-decoration-color: #800000\">│</span>   <span style=\"color: #7f7f7f; text-decoration-color: #7f7f7f\">197 </span>                                                                                           <span style=\"color: #800000; text-decoration-color: #800000\">│</span>\n",
       "<span style=\"color: #800000; text-decoration-color: #800000\">│</span>   <span style=\"color: #7f7f7f; text-decoration-color: #7f7f7f\">198 </span>                                                                                           <span style=\"color: #800000; text-decoration-color: #800000\">│</span>\n",
       "<span style=\"color: #800000; text-decoration-color: #800000\">│</span>   <span style=\"color: #7f7f7f; text-decoration-color: #7f7f7f\">199 </span><span style=\"color: #0000ff; text-decoration-color: #0000ff\">class</span> <span style=\"color: #00ff00; text-decoration-color: #00ff00; text-decoration: underline\">PandasArrowExtractor</span>(BaseArrowExtractor[pd.DataFrame, pd.Series, pd.DataFrame]):     <span style=\"color: #800000; text-decoration-color: #800000\">│</span>\n",
       "<span style=\"color: #800000; text-decoration-color: #800000\">╰──────────────────────────────────────────────────────────────────────────────────────────────────╯</span>\n",
       "<span style=\"color: #ff0000; text-decoration-color: #ff0000; font-weight: bold\">KeyboardInterrupt</span>\n",
       "</pre>\n"
      ],
      "text/plain": [
       "\u001b[31m╭─\u001b[0m\u001b[31m──────────────────────────────\u001b[0m\u001b[31m \u001b[0m\u001b[1;31mTraceback \u001b[0m\u001b[1;2;31m(most recent call last)\u001b[0m\u001b[31m \u001b[0m\u001b[31m───────────────────────────────\u001b[0m\u001b[31m─╮\u001b[0m\n",
       "\u001b[31m│\u001b[0m \u001b[33m<ipython-input-47-cbbfc3a913a7>\u001b[0m:\u001b[94m19\u001b[0m in \u001b[92m<module>\u001b[0m                                                   \u001b[31m│\u001b[0m\n",
       "\u001b[31m│\u001b[0m                                                                                                  \u001b[31m│\u001b[0m\n",
       "\u001b[31m│\u001b[0m \u001b[2;33m/opt/conda/lib/python3.9/site-packages/datasets/\u001b[0m\u001b[1;33marrow_dataset.py\u001b[0m:\u001b[94m2803\u001b[0m in \u001b[92m__getitem__\u001b[0m             \u001b[31m│\u001b[0m\n",
       "\u001b[31m│\u001b[0m                                                                                                  \u001b[31m│\u001b[0m\n",
       "\u001b[31m│\u001b[0m   \u001b[2m2800 \u001b[0m\u001b[2m│   \u001b[0m                                                                                      \u001b[31m│\u001b[0m\n",
       "\u001b[31m│\u001b[0m   \u001b[2m2801 \u001b[0m\u001b[2m│   \u001b[0m\u001b[94mdef\u001b[0m \u001b[92m__getitem__\u001b[0m(\u001b[96mself\u001b[0m, key):  \u001b[2m# noqa: F811\u001b[0m                                             \u001b[31m│\u001b[0m\n",
       "\u001b[31m│\u001b[0m   \u001b[2m2802 \u001b[0m\u001b[2;90m│   │   \u001b[0m\u001b[33m\"\"\"Can be used to index columns (by string names) or rows (by integer index or i\u001b[0m  \u001b[31m│\u001b[0m\n",
       "\u001b[31m│\u001b[0m \u001b[31m❱ \u001b[0m2803 \u001b[2m│   │   \u001b[0m\u001b[94mreturn\u001b[0m \u001b[96mself\u001b[0m._getitem(key)                                                         \u001b[31m│\u001b[0m\n",
       "\u001b[31m│\u001b[0m   \u001b[2m2804 \u001b[0m\u001b[2m│   \u001b[0m                                                                                      \u001b[31m│\u001b[0m\n",
       "\u001b[31m│\u001b[0m   \u001b[2m2805 \u001b[0m\u001b[2m│   \u001b[0m\u001b[94mdef\u001b[0m \u001b[92m__getitems__\u001b[0m(\u001b[96mself\u001b[0m, keys: List) -> List:                                           \u001b[31m│\u001b[0m\n",
       "\u001b[31m│\u001b[0m   \u001b[2m2806 \u001b[0m\u001b[2;90m│   │   \u001b[0m\u001b[33m\"\"\"Can be used to get a batch using a list of integers indices.\"\"\"\u001b[0m                \u001b[31m│\u001b[0m\n",
       "\u001b[31m│\u001b[0m                                                                                                  \u001b[31m│\u001b[0m\n",
       "\u001b[31m│\u001b[0m \u001b[2;33m/opt/conda/lib/python3.9/site-packages/datasets/\u001b[0m\u001b[1;33marrow_dataset.py\u001b[0m:\u001b[94m2788\u001b[0m in \u001b[92m_getitem\u001b[0m                \u001b[31m│\u001b[0m\n",
       "\u001b[31m│\u001b[0m                                                                                                  \u001b[31m│\u001b[0m\n",
       "\u001b[31m│\u001b[0m   \u001b[2m2785 \u001b[0m\u001b[2m│   │   \u001b[0mformat_kwargs = format_kwargs \u001b[94mif\u001b[0m format_kwargs \u001b[95mis\u001b[0m \u001b[95mnot\u001b[0m \u001b[94mNone\u001b[0m \u001b[94melse\u001b[0m {}                \u001b[31m│\u001b[0m\n",
       "\u001b[31m│\u001b[0m   \u001b[2m2786 \u001b[0m\u001b[2m│   │   \u001b[0mformatter = get_formatter(format_type, features=\u001b[96mself\u001b[0m._info.features, **format_kw  \u001b[31m│\u001b[0m\n",
       "\u001b[31m│\u001b[0m   \u001b[2m2787 \u001b[0m\u001b[2m│   │   \u001b[0mpa_subtable = query_table(\u001b[96mself\u001b[0m._data, key, indices=\u001b[96mself\u001b[0m._indices \u001b[94mif\u001b[0m \u001b[96mself\u001b[0m._indice  \u001b[31m│\u001b[0m\n",
       "\u001b[31m│\u001b[0m \u001b[31m❱ \u001b[0m2788 \u001b[2m│   │   \u001b[0mformatted_output = format_table(                                                  \u001b[31m│\u001b[0m\n",
       "\u001b[31m│\u001b[0m   \u001b[2m2789 \u001b[0m\u001b[2m│   │   │   \u001b[0mpa_subtable, key, formatter=formatter, format_columns=format_columns, output  \u001b[31m│\u001b[0m\n",
       "\u001b[31m│\u001b[0m   \u001b[2m2790 \u001b[0m\u001b[2m│   │   \u001b[0m)                                                                                 \u001b[31m│\u001b[0m\n",
       "\u001b[31m│\u001b[0m   \u001b[2m2791 \u001b[0m\u001b[2m│   │   \u001b[0m\u001b[94mreturn\u001b[0m formatted_output                                                           \u001b[31m│\u001b[0m\n",
       "\u001b[31m│\u001b[0m                                                                                                  \u001b[31m│\u001b[0m\n",
       "\u001b[31m│\u001b[0m \u001b[2;33m/opt/conda/lib/python3.9/site-packages/datasets/formatting/\u001b[0m\u001b[1;33mformatting.py\u001b[0m:\u001b[94m632\u001b[0m in \u001b[92mformat_table\u001b[0m     \u001b[31m│\u001b[0m\n",
       "\u001b[31m│\u001b[0m                                                                                                  \u001b[31m│\u001b[0m\n",
       "\u001b[31m│\u001b[0m   \u001b[2m629 \u001b[0m\u001b[2m│   │   \u001b[0m\u001b[94mreturn\u001b[0m formatter(pa_table, query_type=query_type)                                  \u001b[31m│\u001b[0m\n",
       "\u001b[31m│\u001b[0m   \u001b[2m630 \u001b[0m\u001b[2m│   \u001b[0m\u001b[94melif\u001b[0m query_type == \u001b[33m\"\u001b[0m\u001b[33mcolumn\u001b[0m\u001b[33m\"\u001b[0m:                                                           \u001b[31m│\u001b[0m\n",
       "\u001b[31m│\u001b[0m   \u001b[2m631 \u001b[0m\u001b[2m│   │   \u001b[0m\u001b[94mif\u001b[0m key \u001b[95min\u001b[0m format_columns:                                                          \u001b[31m│\u001b[0m\n",
       "\u001b[31m│\u001b[0m \u001b[31m❱ \u001b[0m632 \u001b[2m│   │   │   \u001b[0m\u001b[94mreturn\u001b[0m formatter(pa_table, query_type)                                         \u001b[31m│\u001b[0m\n",
       "\u001b[31m│\u001b[0m   \u001b[2m633 \u001b[0m\u001b[2m│   │   \u001b[0m\u001b[94melse\u001b[0m:                                                                              \u001b[31m│\u001b[0m\n",
       "\u001b[31m│\u001b[0m   \u001b[2m634 \u001b[0m\u001b[2m│   │   │   \u001b[0m\u001b[94mreturn\u001b[0m python_formatter(pa_table, query_type=query_type)                       \u001b[31m│\u001b[0m\n",
       "\u001b[31m│\u001b[0m   \u001b[2m635 \u001b[0m\u001b[2m│   \u001b[0m\u001b[94melse\u001b[0m:                                                                                  \u001b[31m│\u001b[0m\n",
       "\u001b[31m│\u001b[0m                                                                                                  \u001b[31m│\u001b[0m\n",
       "\u001b[31m│\u001b[0m \u001b[2;33m/opt/conda/lib/python3.9/site-packages/datasets/formatting/\u001b[0m\u001b[1;33mformatting.py\u001b[0m:\u001b[94m398\u001b[0m in \u001b[92m__call__\u001b[0m         \u001b[31m│\u001b[0m\n",
       "\u001b[31m│\u001b[0m                                                                                                  \u001b[31m│\u001b[0m\n",
       "\u001b[31m│\u001b[0m   \u001b[2m395 \u001b[0m\u001b[2m│   │   \u001b[0m\u001b[94mif\u001b[0m query_type == \u001b[33m\"\u001b[0m\u001b[33mrow\u001b[0m\u001b[33m\"\u001b[0m:                                                            \u001b[31m│\u001b[0m\n",
       "\u001b[31m│\u001b[0m   \u001b[2m396 \u001b[0m\u001b[2m│   │   │   \u001b[0m\u001b[94mreturn\u001b[0m \u001b[96mself\u001b[0m.format_row(pa_table)                                               \u001b[31m│\u001b[0m\n",
       "\u001b[31m│\u001b[0m   \u001b[2m397 \u001b[0m\u001b[2m│   │   \u001b[0m\u001b[94melif\u001b[0m query_type == \u001b[33m\"\u001b[0m\u001b[33mcolumn\u001b[0m\u001b[33m\"\u001b[0m:                                                       \u001b[31m│\u001b[0m\n",
       "\u001b[31m│\u001b[0m \u001b[31m❱ \u001b[0m398 \u001b[2m│   │   │   \u001b[0m\u001b[94mreturn\u001b[0m \u001b[96mself\u001b[0m.format_column(pa_table)                                            \u001b[31m│\u001b[0m\n",
       "\u001b[31m│\u001b[0m   \u001b[2m399 \u001b[0m\u001b[2m│   │   \u001b[0m\u001b[94melif\u001b[0m query_type == \u001b[33m\"\u001b[0m\u001b[33mbatch\u001b[0m\u001b[33m\"\u001b[0m:                                                        \u001b[31m│\u001b[0m\n",
       "\u001b[31m│\u001b[0m   \u001b[2m400 \u001b[0m\u001b[2m│   │   │   \u001b[0m\u001b[94mreturn\u001b[0m \u001b[96mself\u001b[0m.format_batch(pa_table)                                             \u001b[31m│\u001b[0m\n",
       "\u001b[31m│\u001b[0m   \u001b[2m401 \u001b[0m                                                                                           \u001b[31m│\u001b[0m\n",
       "\u001b[31m│\u001b[0m                                                                                                  \u001b[31m│\u001b[0m\n",
       "\u001b[31m│\u001b[0m \u001b[2;33m/opt/conda/lib/python3.9/site-packages/datasets/formatting/\u001b[0m\u001b[1;33mtorch_formatter.py\u001b[0m:\u001b[94m93\u001b[0m in              \u001b[31m│\u001b[0m\n",
       "\u001b[31m│\u001b[0m \u001b[92mformat_column\u001b[0m                                                                                    \u001b[31m│\u001b[0m\n",
       "\u001b[31m│\u001b[0m                                                                                                  \u001b[31m│\u001b[0m\n",
       "\u001b[31m│\u001b[0m   \u001b[2m 90 \u001b[0m\u001b[2m│   │   \u001b[0m\u001b[94mreturn\u001b[0m \u001b[96mself\u001b[0m.recursive_tensorize(row)                                               \u001b[31m│\u001b[0m\n",
       "\u001b[31m│\u001b[0m   \u001b[2m 91 \u001b[0m\u001b[2m│   \u001b[0m                                                                                       \u001b[31m│\u001b[0m\n",
       "\u001b[31m│\u001b[0m   \u001b[2m 92 \u001b[0m\u001b[2m│   \u001b[0m\u001b[94mdef\u001b[0m \u001b[92mformat_column\u001b[0m(\u001b[96mself\u001b[0m, pa_table: pa.Table) -> \u001b[33m\"\u001b[0m\u001b[33mtorch.Tensor\u001b[0m\u001b[33m\"\u001b[0m:                         \u001b[31m│\u001b[0m\n",
       "\u001b[31m│\u001b[0m \u001b[31m❱ \u001b[0m 93 \u001b[2m│   │   \u001b[0mcolumn = \u001b[96mself\u001b[0m.numpy_arrow_extractor().extract_column(pa_table)                     \u001b[31m│\u001b[0m\n",
       "\u001b[31m│\u001b[0m   \u001b[2m 94 \u001b[0m\u001b[2m│   │   \u001b[0mcolumn = \u001b[96mself\u001b[0m.python_features_decoder.decode_column(column, pa_table.column_name   \u001b[31m│\u001b[0m\n",
       "\u001b[31m│\u001b[0m   \u001b[2m 95 \u001b[0m\u001b[2m│   │   \u001b[0mcolumn = \u001b[96mself\u001b[0m.recursive_tensorize(column)                                          \u001b[31m│\u001b[0m\n",
       "\u001b[31m│\u001b[0m   \u001b[2m 96 \u001b[0m\u001b[2m│   │   \u001b[0mcolumn = \u001b[96mself\u001b[0m._consolidate(column)                                                 \u001b[31m│\u001b[0m\n",
       "\u001b[31m│\u001b[0m                                                                                                  \u001b[31m│\u001b[0m\n",
       "\u001b[31m│\u001b[0m \u001b[2;33m/opt/conda/lib/python3.9/site-packages/datasets/formatting/\u001b[0m\u001b[1;33mformatting.py\u001b[0m:\u001b[94m161\u001b[0m in \u001b[92mextract_column\u001b[0m   \u001b[31m│\u001b[0m\n",
       "\u001b[31m│\u001b[0m                                                                                                  \u001b[31m│\u001b[0m\n",
       "\u001b[31m│\u001b[0m   \u001b[2m158 \u001b[0m\u001b[2m│   │   \u001b[0m\u001b[94mreturn\u001b[0m _unnest(\u001b[96mself\u001b[0m.extract_batch(pa_table))                                       \u001b[31m│\u001b[0m\n",
       "\u001b[31m│\u001b[0m   \u001b[2m159 \u001b[0m\u001b[2m│   \u001b[0m                                                                                       \u001b[31m│\u001b[0m\n",
       "\u001b[31m│\u001b[0m   \u001b[2m160 \u001b[0m\u001b[2m│   \u001b[0m\u001b[94mdef\u001b[0m \u001b[92mextract_column\u001b[0m(\u001b[96mself\u001b[0m, pa_table: pa.Table) -> np.ndarray:                            \u001b[31m│\u001b[0m\n",
       "\u001b[31m│\u001b[0m \u001b[31m❱ \u001b[0m161 \u001b[2m│   │   \u001b[0m\u001b[94mreturn\u001b[0m \u001b[96mself\u001b[0m._arrow_array_to_numpy(pa_table[pa_table.column_names[\u001b[94m0\u001b[0m]])              \u001b[31m│\u001b[0m\n",
       "\u001b[31m│\u001b[0m   \u001b[2m162 \u001b[0m\u001b[2m│   \u001b[0m                                                                                       \u001b[31m│\u001b[0m\n",
       "\u001b[31m│\u001b[0m   \u001b[2m163 \u001b[0m\u001b[2m│   \u001b[0m\u001b[94mdef\u001b[0m \u001b[92mextract_batch\u001b[0m(\u001b[96mself\u001b[0m, pa_table: pa.Table) -> \u001b[96mdict\u001b[0m:                                   \u001b[31m│\u001b[0m\n",
       "\u001b[31m│\u001b[0m   \u001b[2m164 \u001b[0m\u001b[2m│   │   \u001b[0m\u001b[94mreturn\u001b[0m {col: \u001b[96mself\u001b[0m._arrow_array_to_numpy(pa_table[col]) \u001b[94mfor\u001b[0m col \u001b[95min\u001b[0m pa_table.colum   \u001b[31m│\u001b[0m\n",
       "\u001b[31m│\u001b[0m                                                                                                  \u001b[31m│\u001b[0m\n",
       "\u001b[31m│\u001b[0m \u001b[2;33m/opt/conda/lib/python3.9/site-packages/datasets/formatting/\u001b[0m\u001b[1;33mformatting.py\u001b[0m:\u001b[94m196\u001b[0m in                  \u001b[31m│\u001b[0m\n",
       "\u001b[31m│\u001b[0m \u001b[92m_arrow_array_to_numpy\u001b[0m                                                                            \u001b[31m│\u001b[0m\n",
       "\u001b[31m│\u001b[0m                                                                                                  \u001b[31m│\u001b[0m\n",
       "\u001b[31m│\u001b[0m   \u001b[2m193 \u001b[0m\u001b[2m│   │   │   │   \u001b[0m\u001b[94mfor\u001b[0m x \u001b[95min\u001b[0m array                                                             \u001b[31m│\u001b[0m\n",
       "\u001b[31m│\u001b[0m   \u001b[2m194 \u001b[0m\u001b[2m│   │   │   \u001b[0m):                                                                             \u001b[31m│\u001b[0m\n",
       "\u001b[31m│\u001b[0m   \u001b[2m195 \u001b[0m\u001b[2m│   │   │   │   \u001b[0m\u001b[94mreturn\u001b[0m np.array(array, copy=\u001b[94mFalse\u001b[0m, dtype=\u001b[96mobject\u001b[0m)                           \u001b[31m│\u001b[0m\n",
       "\u001b[31m│\u001b[0m \u001b[31m❱ \u001b[0m196 \u001b[2m│   │   \u001b[0m\u001b[94mreturn\u001b[0m np.array(array, copy=\u001b[94mFalse\u001b[0m)                                                 \u001b[31m│\u001b[0m\n",
       "\u001b[31m│\u001b[0m   \u001b[2m197 \u001b[0m                                                                                           \u001b[31m│\u001b[0m\n",
       "\u001b[31m│\u001b[0m   \u001b[2m198 \u001b[0m                                                                                           \u001b[31m│\u001b[0m\n",
       "\u001b[31m│\u001b[0m   \u001b[2m199 \u001b[0m\u001b[94mclass\u001b[0m \u001b[4;92mPandasArrowExtractor\u001b[0m(BaseArrowExtractor[pd.DataFrame, pd.Series, pd.DataFrame]):     \u001b[31m│\u001b[0m\n",
       "\u001b[31m╰──────────────────────────────────────────────────────────────────────────────────────────────────╯\u001b[0m\n",
       "\u001b[1;91mKeyboardInterrupt\u001b[0m\n"
      ]
     },
     "metadata": {},
     "output_type": "display_data"
    }
   ],
   "source": [
    "# TRAINING LOOP\n",
    "\n",
    "num_epoch=1\n",
    "BATCH = 4\n",
    "from tqdm.auto import tqdm\n",
    "progress_bar_train = tqdm(range(num_epoch * len(triage_dataset_cc['train'][\"input_ids\"]) // BATCH ))\n",
    "# progress_bar_train = tqdm(range(num_training_steps))\n",
    "progress_bar_eval = tqdm(range(num_epoch * len(triage_dataset_cc['valid'][\"input_ids\"]) // BATCH ))\n",
    "\n",
    "for epoch in range(num_epoch):\n",
    "    full_model.train()\n",
    "    print(f\"Epoch {epoch}...\")\n",
    "    random_idx = np.random.permutation(np.arange(len(train_dataloader_concat[0]['input_ids'])))\n",
    "    # for i, b in tqdm(enumerate(train_dl)):\n",
    "    for step, idx in enumerate(range(0, len(random_idx), BATCH)):\n",
    "        iter_rand_idx = random_idx[idx:idx+BATCH]\n",
    "        input_ids, attention_mask = [], []\n",
    "        for modality in train_dataloader_concat:\n",
    "            input_ids.append(modality['input_ids'][iter_rand_idx].to(device))\n",
    "            attention_mask.append(modality['attention_mask'][iter_rand_idx].to(device))\n",
    "        label = modality['label'][iter_rand_idx].to(device)\n",
    "        outputs = full_model(input_ids, attention_mask, label)\n",
    "#         unified_embedding = torch.cat((embedding[0],embedding[1],embedding[2],embedding[3],embedding[4],embedding[5]),1) # concatenates embeddings on the second dimension\n",
    "#         outputs = predictor(unified_embedding, modality['label'][i:i+BATCH].to(device))\n",
    "        # updates weights accordingly\n",
    "        loss = outputs.loss\n",
    "        loss.backward() # computes gradients\n",
    "\n",
    "        optimizer.step() # updates the weights and biases based on these gradients\n",
    "        lr_scheduler.step() # updates the weights and biases based on these gradients\n",
    "        optimizer.zero_grad() # used to clear the gradients of all parameters in a model\n",
    "        progress_bar_train.update(1)\n",
    "    \n",
    "    # # run on validation set\n",
    "    print(\"Validation\")\n",
    "    full_model.eval()\n",
    "    # for i, b in tqdm(enumerate(train_dl)):\n",
    "    for step, idx in enumerate(range(0, len(valid_dataloader_concat[0]['input_ids']), BATCH)):\n",
    "        input_ids, attention_mask = [], []\n",
    "        for modality in valid_dataloader_concat:\n",
    "            input_ids.append(modality['input_ids'][idx:idx+BATCH].to(device))\n",
    "            attention_mask.append(modality['attention_mask'][idx:idx+BATCH].to(device))\n",
    "        label = modality['label'][idx:idx+BATCH].to(device)\n",
    "        with torch.no_grad():\n",
    "            outputs = full_model(input_ids, attention_mask, label)\n",
    "        logits = outputs.logits # calculates the probabilities between the labels\n",
    "        predictions = torch.argmax(logits, dim = -1 ) # takes the label closest to 1\n",
    "        metric.add_batch(predictions = predictions, references = label) \n",
    "        loss = outputs.loss\n",
    "        progress_bar_eval.update(1)\n",
    "    \n",
    "    print(metric.compute())\n",
    "    \n",
    "    # # add some model.save()\n",
    "    "
   ]
  },
  {
   "cell_type": "markdown",
   "id": "3f1afd85-0cb0-4b59-988b-4eedf6722b90",
   "metadata": {},
   "source": [
    "# Test predictions"
   ]
  },
  {
   "cell_type": "code",
   "execution_count": null,
   "id": "dd495290-88c6-47a7-be4a-31b2548d8ed3",
   "metadata": {},
   "outputs": [],
   "source": [
    "logit_list = []\n",
    "label_list = []\n",
    "probs_list = []\n",
    "\n",
    "full_model.eval()\n",
    "for step, idx in tqdm(enumerate(range(0, len(test_dataloader_concat[0]['input_ids']), BATCH))):\n",
    "    input_ids, attention_mask = [], []\n",
    "    for modality in test_dataloader_concat:\n",
    "        input_ids.append(modality['input_ids'][idx:idx+BATCH].to(device))\n",
    "        attention_mask.append(modality['attention_mask'][idx:idx+BATCH].to(device))\n",
    "    label = modality['label'][idx:idx+BATCH].to(device)\n",
    "    with torch.no_grad():\n",
    "        outputs = full_model(input_ids, attention_mask, label)\n",
    "    logits = outputs.logits # calculates the probabilities between the labels\n",
    "    predictions = torch.argmax(logits, dim = -1 ) # takes the label closest to 1\n",
    "    loss = outputs.loss\n",
    "    logits = outputs.logits # calculates the probabilities between the labels\n",
    "    logit_list.append(logits[:, 1].cpu().detach().numpy())\n",
    "    label_list.append(label.cpu().detach().numpy())\n",
    "    probs_list.append(torch.sigmoid(logits[:, 1]).cpu().detach().numpy())\n",
    "    predictions = torch.argmax(logits, dim = -1 ) # takes the label closest to 1\n",
    "    metric.add_batch(predictions = predictions, references = label)\n",
    "    # print(\"New Batch\")\n",
    "    # print(predictions)\n",
    "    # print(modality['label'][i:i+BATCH])\n",
    "\n",
    "print(metric.compute()) "
   ]
  },
  {
   "cell_type": "code",
   "execution_count": null,
   "id": "1ee7f7d8-4538-4703-96d2-de0db778daf5",
   "metadata": {},
   "outputs": [],
   "source": [
    "print(\"what\")"
   ]
  },
  {
   "cell_type": "code",
   "execution_count": null,
   "id": "36f4e199-4301-4f46-8ab5-b1e659189dc8",
   "metadata": {},
   "outputs": [],
   "source": []
  }
 ],
 "metadata": {
  "availableInstances": [
   {
    "_defaultOrder": 0,
    "_isFastLaunch": true,
    "category": "General purpose",
    "gpuNum": 0,
    "hideHardwareSpecs": false,
    "memoryGiB": 4,
    "name": "ml.t3.medium",
    "vcpuNum": 2
   },
   {
    "_defaultOrder": 1,
    "_isFastLaunch": false,
    "category": "General purpose",
    "gpuNum": 0,
    "hideHardwareSpecs": false,
    "memoryGiB": 8,
    "name": "ml.t3.large",
    "vcpuNum": 2
   },
   {
    "_defaultOrder": 2,
    "_isFastLaunch": false,
    "category": "General purpose",
    "gpuNum": 0,
    "hideHardwareSpecs": false,
    "memoryGiB": 16,
    "name": "ml.t3.xlarge",
    "vcpuNum": 4
   },
   {
    "_defaultOrder": 3,
    "_isFastLaunch": false,
    "category": "General purpose",
    "gpuNum": 0,
    "hideHardwareSpecs": false,
    "memoryGiB": 32,
    "name": "ml.t3.2xlarge",
    "vcpuNum": 8
   },
   {
    "_defaultOrder": 4,
    "_isFastLaunch": true,
    "category": "General purpose",
    "gpuNum": 0,
    "hideHardwareSpecs": false,
    "memoryGiB": 8,
    "name": "ml.m5.large",
    "vcpuNum": 2
   },
   {
    "_defaultOrder": 5,
    "_isFastLaunch": false,
    "category": "General purpose",
    "gpuNum": 0,
    "hideHardwareSpecs": false,
    "memoryGiB": 16,
    "name": "ml.m5.xlarge",
    "vcpuNum": 4
   },
   {
    "_defaultOrder": 6,
    "_isFastLaunch": false,
    "category": "General purpose",
    "gpuNum": 0,
    "hideHardwareSpecs": false,
    "memoryGiB": 32,
    "name": "ml.m5.2xlarge",
    "vcpuNum": 8
   },
   {
    "_defaultOrder": 7,
    "_isFastLaunch": false,
    "category": "General purpose",
    "gpuNum": 0,
    "hideHardwareSpecs": false,
    "memoryGiB": 64,
    "name": "ml.m5.4xlarge",
    "vcpuNum": 16
   },
   {
    "_defaultOrder": 8,
    "_isFastLaunch": false,
    "category": "General purpose",
    "gpuNum": 0,
    "hideHardwareSpecs": false,
    "memoryGiB": 128,
    "name": "ml.m5.8xlarge",
    "vcpuNum": 32
   },
   {
    "_defaultOrder": 9,
    "_isFastLaunch": false,
    "category": "General purpose",
    "gpuNum": 0,
    "hideHardwareSpecs": false,
    "memoryGiB": 192,
    "name": "ml.m5.12xlarge",
    "vcpuNum": 48
   },
   {
    "_defaultOrder": 10,
    "_isFastLaunch": false,
    "category": "General purpose",
    "gpuNum": 0,
    "hideHardwareSpecs": false,
    "memoryGiB": 256,
    "name": "ml.m5.16xlarge",
    "vcpuNum": 64
   },
   {
    "_defaultOrder": 11,
    "_isFastLaunch": false,
    "category": "General purpose",
    "gpuNum": 0,
    "hideHardwareSpecs": false,
    "memoryGiB": 384,
    "name": "ml.m5.24xlarge",
    "vcpuNum": 96
   },
   {
    "_defaultOrder": 12,
    "_isFastLaunch": false,
    "category": "General purpose",
    "gpuNum": 0,
    "hideHardwareSpecs": false,
    "memoryGiB": 8,
    "name": "ml.m5d.large",
    "vcpuNum": 2
   },
   {
    "_defaultOrder": 13,
    "_isFastLaunch": false,
    "category": "General purpose",
    "gpuNum": 0,
    "hideHardwareSpecs": false,
    "memoryGiB": 16,
    "name": "ml.m5d.xlarge",
    "vcpuNum": 4
   },
   {
    "_defaultOrder": 14,
    "_isFastLaunch": false,
    "category": "General purpose",
    "gpuNum": 0,
    "hideHardwareSpecs": false,
    "memoryGiB": 32,
    "name": "ml.m5d.2xlarge",
    "vcpuNum": 8
   },
   {
    "_defaultOrder": 15,
    "_isFastLaunch": false,
    "category": "General purpose",
    "gpuNum": 0,
    "hideHardwareSpecs": false,
    "memoryGiB": 64,
    "name": "ml.m5d.4xlarge",
    "vcpuNum": 16
   },
   {
    "_defaultOrder": 16,
    "_isFastLaunch": false,
    "category": "General purpose",
    "gpuNum": 0,
    "hideHardwareSpecs": false,
    "memoryGiB": 128,
    "name": "ml.m5d.8xlarge",
    "vcpuNum": 32
   },
   {
    "_defaultOrder": 17,
    "_isFastLaunch": false,
    "category": "General purpose",
    "gpuNum": 0,
    "hideHardwareSpecs": false,
    "memoryGiB": 192,
    "name": "ml.m5d.12xlarge",
    "vcpuNum": 48
   },
   {
    "_defaultOrder": 18,
    "_isFastLaunch": false,
    "category": "General purpose",
    "gpuNum": 0,
    "hideHardwareSpecs": false,
    "memoryGiB": 256,
    "name": "ml.m5d.16xlarge",
    "vcpuNum": 64
   },
   {
    "_defaultOrder": 19,
    "_isFastLaunch": false,
    "category": "General purpose",
    "gpuNum": 0,
    "hideHardwareSpecs": false,
    "memoryGiB": 384,
    "name": "ml.m5d.24xlarge",
    "vcpuNum": 96
   },
   {
    "_defaultOrder": 20,
    "_isFastLaunch": false,
    "category": "General purpose",
    "gpuNum": 0,
    "hideHardwareSpecs": true,
    "memoryGiB": 0,
    "name": "ml.geospatial.interactive",
    "supportedImageNames": [
     "sagemaker-geospatial-v1-0"
    ],
    "vcpuNum": 0
   },
   {
    "_defaultOrder": 21,
    "_isFastLaunch": true,
    "category": "Compute optimized",
    "gpuNum": 0,
    "hideHardwareSpecs": false,
    "memoryGiB": 4,
    "name": "ml.c5.large",
    "vcpuNum": 2
   },
   {
    "_defaultOrder": 22,
    "_isFastLaunch": false,
    "category": "Compute optimized",
    "gpuNum": 0,
    "hideHardwareSpecs": false,
    "memoryGiB": 8,
    "name": "ml.c5.xlarge",
    "vcpuNum": 4
   },
   {
    "_defaultOrder": 23,
    "_isFastLaunch": false,
    "category": "Compute optimized",
    "gpuNum": 0,
    "hideHardwareSpecs": false,
    "memoryGiB": 16,
    "name": "ml.c5.2xlarge",
    "vcpuNum": 8
   },
   {
    "_defaultOrder": 24,
    "_isFastLaunch": false,
    "category": "Compute optimized",
    "gpuNum": 0,
    "hideHardwareSpecs": false,
    "memoryGiB": 32,
    "name": "ml.c5.4xlarge",
    "vcpuNum": 16
   },
   {
    "_defaultOrder": 25,
    "_isFastLaunch": false,
    "category": "Compute optimized",
    "gpuNum": 0,
    "hideHardwareSpecs": false,
    "memoryGiB": 72,
    "name": "ml.c5.9xlarge",
    "vcpuNum": 36
   },
   {
    "_defaultOrder": 26,
    "_isFastLaunch": false,
    "category": "Compute optimized",
    "gpuNum": 0,
    "hideHardwareSpecs": false,
    "memoryGiB": 96,
    "name": "ml.c5.12xlarge",
    "vcpuNum": 48
   },
   {
    "_defaultOrder": 27,
    "_isFastLaunch": false,
    "category": "Compute optimized",
    "gpuNum": 0,
    "hideHardwareSpecs": false,
    "memoryGiB": 144,
    "name": "ml.c5.18xlarge",
    "vcpuNum": 72
   },
   {
    "_defaultOrder": 28,
    "_isFastLaunch": false,
    "category": "Compute optimized",
    "gpuNum": 0,
    "hideHardwareSpecs": false,
    "memoryGiB": 192,
    "name": "ml.c5.24xlarge",
    "vcpuNum": 96
   },
   {
    "_defaultOrder": 29,
    "_isFastLaunch": true,
    "category": "Accelerated computing",
    "gpuNum": 1,
    "hideHardwareSpecs": false,
    "memoryGiB": 16,
    "name": "ml.g4dn.xlarge",
    "vcpuNum": 4
   },
   {
    "_defaultOrder": 30,
    "_isFastLaunch": false,
    "category": "Accelerated computing",
    "gpuNum": 1,
    "hideHardwareSpecs": false,
    "memoryGiB": 32,
    "name": "ml.g4dn.2xlarge",
    "vcpuNum": 8
   },
   {
    "_defaultOrder": 31,
    "_isFastLaunch": false,
    "category": "Accelerated computing",
    "gpuNum": 1,
    "hideHardwareSpecs": false,
    "memoryGiB": 64,
    "name": "ml.g4dn.4xlarge",
    "vcpuNum": 16
   },
   {
    "_defaultOrder": 32,
    "_isFastLaunch": false,
    "category": "Accelerated computing",
    "gpuNum": 1,
    "hideHardwareSpecs": false,
    "memoryGiB": 128,
    "name": "ml.g4dn.8xlarge",
    "vcpuNum": 32
   },
   {
    "_defaultOrder": 33,
    "_isFastLaunch": false,
    "category": "Accelerated computing",
    "gpuNum": 4,
    "hideHardwareSpecs": false,
    "memoryGiB": 192,
    "name": "ml.g4dn.12xlarge",
    "vcpuNum": 48
   },
   {
    "_defaultOrder": 34,
    "_isFastLaunch": false,
    "category": "Accelerated computing",
    "gpuNum": 1,
    "hideHardwareSpecs": false,
    "memoryGiB": 256,
    "name": "ml.g4dn.16xlarge",
    "vcpuNum": 64
   },
   {
    "_defaultOrder": 35,
    "_isFastLaunch": false,
    "category": "Accelerated computing",
    "gpuNum": 1,
    "hideHardwareSpecs": false,
    "memoryGiB": 61,
    "name": "ml.p3.2xlarge",
    "vcpuNum": 8
   },
   {
    "_defaultOrder": 36,
    "_isFastLaunch": false,
    "category": "Accelerated computing",
    "gpuNum": 4,
    "hideHardwareSpecs": false,
    "memoryGiB": 244,
    "name": "ml.p3.8xlarge",
    "vcpuNum": 32
   },
   {
    "_defaultOrder": 37,
    "_isFastLaunch": false,
    "category": "Accelerated computing",
    "gpuNum": 8,
    "hideHardwareSpecs": false,
    "memoryGiB": 488,
    "name": "ml.p3.16xlarge",
    "vcpuNum": 64
   },
   {
    "_defaultOrder": 38,
    "_isFastLaunch": false,
    "category": "Accelerated computing",
    "gpuNum": 8,
    "hideHardwareSpecs": false,
    "memoryGiB": 768,
    "name": "ml.p3dn.24xlarge",
    "vcpuNum": 96
   },
   {
    "_defaultOrder": 39,
    "_isFastLaunch": false,
    "category": "Memory Optimized",
    "gpuNum": 0,
    "hideHardwareSpecs": false,
    "memoryGiB": 16,
    "name": "ml.r5.large",
    "vcpuNum": 2
   },
   {
    "_defaultOrder": 40,
    "_isFastLaunch": false,
    "category": "Memory Optimized",
    "gpuNum": 0,
    "hideHardwareSpecs": false,
    "memoryGiB": 32,
    "name": "ml.r5.xlarge",
    "vcpuNum": 4
   },
   {
    "_defaultOrder": 41,
    "_isFastLaunch": false,
    "category": "Memory Optimized",
    "gpuNum": 0,
    "hideHardwareSpecs": false,
    "memoryGiB": 64,
    "name": "ml.r5.2xlarge",
    "vcpuNum": 8
   },
   {
    "_defaultOrder": 42,
    "_isFastLaunch": false,
    "category": "Memory Optimized",
    "gpuNum": 0,
    "hideHardwareSpecs": false,
    "memoryGiB": 128,
    "name": "ml.r5.4xlarge",
    "vcpuNum": 16
   },
   {
    "_defaultOrder": 43,
    "_isFastLaunch": false,
    "category": "Memory Optimized",
    "gpuNum": 0,
    "hideHardwareSpecs": false,
    "memoryGiB": 256,
    "name": "ml.r5.8xlarge",
    "vcpuNum": 32
   },
   {
    "_defaultOrder": 44,
    "_isFastLaunch": false,
    "category": "Memory Optimized",
    "gpuNum": 0,
    "hideHardwareSpecs": false,
    "memoryGiB": 384,
    "name": "ml.r5.12xlarge",
    "vcpuNum": 48
   },
   {
    "_defaultOrder": 45,
    "_isFastLaunch": false,
    "category": "Memory Optimized",
    "gpuNum": 0,
    "hideHardwareSpecs": false,
    "memoryGiB": 512,
    "name": "ml.r5.16xlarge",
    "vcpuNum": 64
   },
   {
    "_defaultOrder": 46,
    "_isFastLaunch": false,
    "category": "Memory Optimized",
    "gpuNum": 0,
    "hideHardwareSpecs": false,
    "memoryGiB": 768,
    "name": "ml.r5.24xlarge",
    "vcpuNum": 96
   },
   {
    "_defaultOrder": 47,
    "_isFastLaunch": false,
    "category": "Accelerated computing",
    "gpuNum": 1,
    "hideHardwareSpecs": false,
    "memoryGiB": 16,
    "name": "ml.g5.xlarge",
    "vcpuNum": 4
   },
   {
    "_defaultOrder": 48,
    "_isFastLaunch": false,
    "category": "Accelerated computing",
    "gpuNum": 1,
    "hideHardwareSpecs": false,
    "memoryGiB": 32,
    "name": "ml.g5.2xlarge",
    "vcpuNum": 8
   },
   {
    "_defaultOrder": 49,
    "_isFastLaunch": false,
    "category": "Accelerated computing",
    "gpuNum": 1,
    "hideHardwareSpecs": false,
    "memoryGiB": 64,
    "name": "ml.g5.4xlarge",
    "vcpuNum": 16
   },
   {
    "_defaultOrder": 50,
    "_isFastLaunch": false,
    "category": "Accelerated computing",
    "gpuNum": 1,
    "hideHardwareSpecs": false,
    "memoryGiB": 128,
    "name": "ml.g5.8xlarge",
    "vcpuNum": 32
   },
   {
    "_defaultOrder": 51,
    "_isFastLaunch": false,
    "category": "Accelerated computing",
    "gpuNum": 1,
    "hideHardwareSpecs": false,
    "memoryGiB": 256,
    "name": "ml.g5.16xlarge",
    "vcpuNum": 64
   },
   {
    "_defaultOrder": 52,
    "_isFastLaunch": false,
    "category": "Accelerated computing",
    "gpuNum": 4,
    "hideHardwareSpecs": false,
    "memoryGiB": 192,
    "name": "ml.g5.12xlarge",
    "vcpuNum": 48
   },
   {
    "_defaultOrder": 53,
    "_isFastLaunch": false,
    "category": "Accelerated computing",
    "gpuNum": 4,
    "hideHardwareSpecs": false,
    "memoryGiB": 384,
    "name": "ml.g5.24xlarge",
    "vcpuNum": 96
   },
   {
    "_defaultOrder": 54,
    "_isFastLaunch": false,
    "category": "Accelerated computing",
    "gpuNum": 8,
    "hideHardwareSpecs": false,
    "memoryGiB": 768,
    "name": "ml.g5.48xlarge",
    "vcpuNum": 192
   },
   {
    "_defaultOrder": 55,
    "_isFastLaunch": false,
    "category": "Accelerated computing",
    "gpuNum": 8,
    "hideHardwareSpecs": false,
    "memoryGiB": 1152,
    "name": "ml.p4d.24xlarge",
    "vcpuNum": 96
   },
   {
    "_defaultOrder": 56,
    "_isFastLaunch": false,
    "category": "Accelerated computing",
    "gpuNum": 8,
    "hideHardwareSpecs": false,
    "memoryGiB": 1152,
    "name": "ml.p4de.24xlarge",
    "vcpuNum": 96
   }
  ],
  "instance_type": "ml.g5.4xlarge",
  "kernelspec": {
   "display_name": "Python 3 (PyTorch 1.13 Python 3.9 GPU Optimized)",
   "language": "python",
   "name": "python3__SAGEMAKER_INTERNAL__arn:aws:sagemaker:us-west-2:236514542706:image/pytorch-1.13-gpu-py39"
  },
  "language_info": {
   "codemirror_mode": {
    "name": "ipython",
    "version": 3
   },
   "file_extension": ".py",
   "mimetype": "text/x-python",
   "name": "python",
   "nbconvert_exporter": "python",
   "pygments_lexer": "ipython3",
   "version": "3.9.16"
  }
 },
 "nbformat": 4,
 "nbformat_minor": 5
}
