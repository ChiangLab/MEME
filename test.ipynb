{
 "cells": [
  {
   "cell_type": "code",
   "execution_count": 3,
   "id": "c41ff0c5-ee3d-4e5a-a005-0e99092ddfe1",
   "metadata": {
    "tags": []
   },
   "outputs": [
    {
     "name": "stdout",
     "output_type": "stream",
     "text": [
      "Processing ./ImageBind\n",
      "  Preparing metadata (setup.py) ... \u001b[?25ldone\n",
      "\u001b[?25hCollecting pytorchvideo@ git+https://github.com/facebookresearch/pytorchvideo.git@28fe037d212663c6a24f373b94cc5d478c8c1a1d\n",
      "  Using cached pytorchvideo-0.1.5-py3-none-any.whl\n",
      "Requirement already satisfied: torch==1.13.0 in /opt/conda/lib/python3.9/site-packages (from imagebind==0.1.0) (1.13.0)\n",
      "Requirement already satisfied: torchvision==0.14.0 in /opt/conda/lib/python3.9/site-packages (from imagebind==0.1.0) (0.14.0)\n",
      "Requirement already satisfied: torchaudio==0.13.0 in /opt/conda/lib/python3.9/site-packages (from imagebind==0.1.0) (0.13.0)\n",
      "Requirement already satisfied: timm==0.6.7 in /opt/conda/lib/python3.9/site-packages (from imagebind==0.1.0) (0.6.7)\n",
      "Requirement already satisfied: ftfy in /opt/conda/lib/python3.9/site-packages (from imagebind==0.1.0) (6.1.1)\n",
      "Requirement already satisfied: regex in /opt/conda/lib/python3.9/site-packages (from imagebind==0.1.0) (2023.8.8)\n",
      "Requirement already satisfied: einops in /opt/conda/lib/python3.9/site-packages (from imagebind==0.1.0) (0.6.1)\n",
      "Requirement already satisfied: fvcore in /opt/conda/lib/python3.9/site-packages (from imagebind==0.1.0) (0.1.5.post20221221)\n",
      "Requirement already satisfied: eva-decord==0.6.1 in /opt/conda/lib/python3.9/site-packages (from imagebind==0.1.0) (0.6.1)\n",
      "Requirement already satisfied: iopath in /opt/conda/lib/python3.9/site-packages (from imagebind==0.1.0) (0.1.10)\n",
      "Requirement already satisfied: numpy>=1.19 in /opt/conda/lib/python3.9/site-packages (from imagebind==0.1.0) (1.23.5)\n",
      "Requirement already satisfied: matplotlib in /opt/conda/lib/python3.9/site-packages (from imagebind==0.1.0) (3.6.3)\n",
      "Requirement already satisfied: types-regex in /opt/conda/lib/python3.9/site-packages (from imagebind==0.1.0) (2023.8.8.0)\n",
      "Requirement already satisfied: mayavi in /opt/conda/lib/python3.9/site-packages (from imagebind==0.1.0) (4.8.1)\n",
      "Requirement already satisfied: cartopy in /opt/conda/lib/python3.9/site-packages (from imagebind==0.1.0) (0.22.0)\n",
      "Requirement already satisfied: nvidia-cuda-runtime-cu11==11.7.99 in /opt/conda/lib/python3.9/site-packages (from torch==1.13.0->imagebind==0.1.0) (11.7.99)\n",
      "Requirement already satisfied: typing-extensions in /opt/conda/lib/python3.9/site-packages (from torch==1.13.0->imagebind==0.1.0) (4.7.1)\n",
      "Requirement already satisfied: nvidia-cuda-nvrtc-cu11==11.7.99 in /opt/conda/lib/python3.9/site-packages (from torch==1.13.0->imagebind==0.1.0) (11.7.99)\n",
      "Requirement already satisfied: nvidia-cudnn-cu11==8.5.0.96 in /opt/conda/lib/python3.9/site-packages (from torch==1.13.0->imagebind==0.1.0) (8.5.0.96)\n",
      "Requirement already satisfied: nvidia-cublas-cu11==11.10.3.66 in /opt/conda/lib/python3.9/site-packages (from torch==1.13.0->imagebind==0.1.0) (11.10.3.66)\n",
      "Requirement already satisfied: requests in /opt/conda/lib/python3.9/site-packages (from torchvision==0.14.0->imagebind==0.1.0) (2.28.2)\n",
      "Requirement already satisfied: pillow!=8.3.*,>=5.3.0 in /opt/conda/lib/python3.9/site-packages (from torchvision==0.14.0->imagebind==0.1.0) (9.4.0)\n",
      "Requirement already satisfied: setuptools in /opt/conda/lib/python3.9/site-packages (from nvidia-cublas-cu11==11.10.3.66->torch==1.13.0->imagebind==0.1.0) (65.6.3)\n",
      "Requirement already satisfied: wheel in /opt/conda/lib/python3.9/site-packages (from nvidia-cublas-cu11==11.10.3.66->torch==1.13.0->imagebind==0.1.0) (0.38.4)\n",
      "Requirement already satisfied: pyproj>=3.1.0 in /opt/conda/lib/python3.9/site-packages (from cartopy->imagebind==0.1.0) (3.6.0)\n",
      "Requirement already satisfied: packaging>=20 in /opt/conda/lib/python3.9/site-packages (from cartopy->imagebind==0.1.0) (23.0)\n",
      "Requirement already satisfied: shapely>=1.7 in /opt/conda/lib/python3.9/site-packages (from cartopy->imagebind==0.1.0) (2.0.1)\n",
      "Requirement already satisfied: pyshp>=2.1 in /opt/conda/lib/python3.9/site-packages (from cartopy->imagebind==0.1.0) (2.3.1)\n",
      "Requirement already satisfied: contourpy>=1.0.1 in /opt/conda/lib/python3.9/site-packages (from matplotlib->imagebind==0.1.0) (1.0.7)\n",
      "Requirement already satisfied: python-dateutil>=2.7 in /opt/conda/lib/python3.9/site-packages (from matplotlib->imagebind==0.1.0) (2.8.2)\n",
      "Requirement already satisfied: fonttools>=4.22.0 in /opt/conda/lib/python3.9/site-packages (from matplotlib->imagebind==0.1.0) (4.38.0)\n",
      "Requirement already satisfied: cycler>=0.10 in /opt/conda/lib/python3.9/site-packages (from matplotlib->imagebind==0.1.0) (0.11.0)\n",
      "Requirement already satisfied: pyparsing>=2.2.1 in /opt/conda/lib/python3.9/site-packages (from matplotlib->imagebind==0.1.0) (3.0.9)\n",
      "Requirement already satisfied: kiwisolver>=1.0.1 in /opt/conda/lib/python3.9/site-packages (from matplotlib->imagebind==0.1.0) (1.4.4)\n",
      "Requirement already satisfied: wcwidth>=0.2.5 in /opt/conda/lib/python3.9/site-packages (from ftfy->imagebind==0.1.0) (0.2.6)\n",
      "Requirement already satisfied: pyyaml>=5.1 in /opt/conda/lib/python3.9/site-packages (from fvcore->imagebind==0.1.0) (6.0.1)\n",
      "Requirement already satisfied: termcolor>=1.1 in /opt/conda/lib/python3.9/site-packages (from fvcore->imagebind==0.1.0) (2.3.0)\n",
      "Requirement already satisfied: tabulate in /opt/conda/lib/python3.9/site-packages (from fvcore->imagebind==0.1.0) (0.9.0)\n",
      "Requirement already satisfied: tqdm in /opt/conda/lib/python3.9/site-packages (from fvcore->imagebind==0.1.0) (4.64.1)\n",
      "Requirement already satisfied: yacs>=0.1.6 in /opt/conda/lib/python3.9/site-packages (from fvcore->imagebind==0.1.0) (0.1.8)\n",
      "Requirement already satisfied: portalocker in /opt/conda/lib/python3.9/site-packages (from iopath->imagebind==0.1.0) (2.7.0)\n",
      "Requirement already satisfied: pygments in /opt/conda/lib/python3.9/site-packages (from mayavi->imagebind==0.1.0) (2.14.0)\n",
      "Requirement already satisfied: envisage in /opt/conda/lib/python3.9/site-packages (from mayavi->imagebind==0.1.0) (7.0.3)\n",
      "Requirement already satisfied: vtk in /opt/conda/lib/python3.9/site-packages (from mayavi->imagebind==0.1.0) (9.2.6)\n",
      "Requirement already satisfied: apptools in /opt/conda/lib/python3.9/site-packages (from mayavi->imagebind==0.1.0) (5.2.1)\n",
      "Requirement already satisfied: traits>=6.0.0 in /opt/conda/lib/python3.9/site-packages (from mayavi->imagebind==0.1.0) (6.4.2)\n",
      "Requirement already satisfied: traitsui>=7.0.0 in /opt/conda/lib/python3.9/site-packages (from mayavi->imagebind==0.1.0) (8.0.0)\n",
      "Requirement already satisfied: pyface>=6.1.1 in /opt/conda/lib/python3.9/site-packages (from mayavi->imagebind==0.1.0) (8.0.0)\n",
      "Requirement already satisfied: parameterized in /opt/conda/lib/python3.9/site-packages (from pytorchvideo@ git+https://github.com/facebookresearch/pytorchvideo.git@28fe037d212663c6a24f373b94cc5d478c8c1a1d->imagebind==0.1.0) (0.9.0)\n",
      "Requirement already satisfied: networkx in /opt/conda/lib/python3.9/site-packages (from pytorchvideo@ git+https://github.com/facebookresearch/pytorchvideo.git@28fe037d212663c6a24f373b94cc5d478c8c1a1d->imagebind==0.1.0) (3.0)\n",
      "Requirement already satisfied: av in /opt/conda/lib/python3.9/site-packages (from pytorchvideo@ git+https://github.com/facebookresearch/pytorchvideo.git@28fe037d212663c6a24f373b94cc5d478c8c1a1d->imagebind==0.1.0) (10.0.0)\n",
      "Requirement already satisfied: importlib-metadata>=3.6 in /opt/conda/lib/python3.9/site-packages (from pyface>=6.1.1->mayavi->imagebind==0.1.0) (4.13.0)\n",
      "Requirement already satisfied: certifi in /opt/conda/lib/python3.9/site-packages (from pyproj>=3.1.0->cartopy->imagebind==0.1.0) (2022.12.7)\n",
      "Requirement already satisfied: six>=1.5 in /opt/conda/lib/python3.9/site-packages (from python-dateutil>=2.7->matplotlib->imagebind==0.1.0) (1.16.0)\n",
      "Requirement already satisfied: configobj in /opt/conda/lib/python3.9/site-packages (from apptools->mayavi->imagebind==0.1.0) (5.0.8)\n",
      "Requirement already satisfied: idna<4,>=2.5 in /opt/conda/lib/python3.9/site-packages (from requests->torchvision==0.14.0->imagebind==0.1.0) (3.4)\n",
      "Requirement already satisfied: urllib3<1.27,>=1.21.1 in /opt/conda/lib/python3.9/site-packages (from requests->torchvision==0.14.0->imagebind==0.1.0) (1.26.14)\n",
      "Requirement already satisfied: charset-normalizer<4,>=2 in /opt/conda/lib/python3.9/site-packages (from requests->torchvision==0.14.0->imagebind==0.1.0) (2.1.1)\n",
      "Requirement already satisfied: zipp>=0.5 in /opt/conda/lib/python3.9/site-packages (from importlib-metadata>=3.6->pyface>=6.1.1->mayavi->imagebind==0.1.0) (3.13.0)\n",
      "Building wheels for collected packages: imagebind\n",
      "  Building wheel for imagebind (setup.py) ... \u001b[?25ldone\n",
      "\u001b[?25h  Created wheel for imagebind: filename=imagebind-0.1.0-py3-none-any.whl size=27969 sha256=1e09f37ef3eeb6be2e52220f4cf4266f2c7dfeaccaf849fe99fce998330fa731\n",
      "  Stored in directory: /tmp/pip-ephem-wheel-cache-j6gk63ba/wheels/15/d5/57/9f60b1256b436b67dceac96201d8bc2eebd9fd320f633e190f\n",
      "Successfully built imagebind\n",
      "Installing collected packages: imagebind\n",
      "  Attempting uninstall: imagebind\n",
      "    Found existing installation: imagebind 0.1.0\n",
      "    Uninstalling imagebind-0.1.0:\n",
      "      Successfully uninstalled imagebind-0.1.0\n",
      "Successfully installed imagebind-0.1.0\n",
      "\u001b[33mWARNING: Running pip as the 'root' user can result in broken permissions and conflicting behaviour with the system package manager. It is recommended to use a virtual environment instead: https://pip.pypa.io/warnings/venv\u001b[0m\u001b[33m\n",
      "\u001b[0m\n",
      "\u001b[1m[\u001b[0m\u001b[34;49mnotice\u001b[0m\u001b[1;39;49m]\u001b[0m\u001b[39;49m A new release of pip is available: \u001b[0m\u001b[31;49m23.0\u001b[0m\u001b[39;49m -> \u001b[0m\u001b[32;49m23.2.1\u001b[0m\n",
      "\u001b[1m[\u001b[0m\u001b[34;49mnotice\u001b[0m\u001b[1;39;49m]\u001b[0m\u001b[39;49m To update, run: \u001b[0m\u001b[32;49mpip install --upgrade pip\u001b[0m\n",
      "Collecting git+https://github.com/huggingface/transformers.git\n",
      "  Cloning https://github.com/huggingface/transformers.git to /tmp/pip-req-build-f_cjub88\n",
      "  Running command git clone --filter=blob:none --quiet https://github.com/huggingface/transformers.git /tmp/pip-req-build-f_cjub88\n",
      "  Resolved https://github.com/huggingface/transformers.git to commit 716bb2e3910fd4872064c55b0d8bc3dad754d129\n",
      "  Installing build dependencies ... \u001b[?25ldone\n",
      "\u001b[?25h  Getting requirements to build wheel ... \u001b[?25ldone\n",
      "\u001b[?25h  Preparing metadata (pyproject.toml) ... \u001b[?25ldone\n",
      "\u001b[?25hRequirement already satisfied: numpy>=1.17 in /opt/conda/lib/python3.9/site-packages (from transformers==4.33.0.dev0) (1.23.5)\n",
      "Requirement already satisfied: safetensors>=0.3.1 in /opt/conda/lib/python3.9/site-packages (from transformers==4.33.0.dev0) (0.3.3)\n",
      "Requirement already satisfied: pyyaml>=5.1 in /opt/conda/lib/python3.9/site-packages (from transformers==4.33.0.dev0) (6.0.1)\n",
      "Requirement already satisfied: requests in /opt/conda/lib/python3.9/site-packages (from transformers==4.33.0.dev0) (2.28.2)\n",
      "Requirement already satisfied: tokenizers!=0.11.3,<0.14,>=0.11.1 in /opt/conda/lib/python3.9/site-packages (from transformers==4.33.0.dev0) (0.13.3)\n",
      "Requirement already satisfied: tqdm>=4.27 in /opt/conda/lib/python3.9/site-packages (from transformers==4.33.0.dev0) (4.64.1)\n",
      "Requirement already satisfied: regex!=2019.12.17 in /opt/conda/lib/python3.9/site-packages (from transformers==4.33.0.dev0) (2023.8.8)\n",
      "Requirement already satisfied: packaging>=20.0 in /opt/conda/lib/python3.9/site-packages (from transformers==4.33.0.dev0) (23.0)\n",
      "Requirement already satisfied: filelock in /opt/conda/lib/python3.9/site-packages (from transformers==4.33.0.dev0) (3.12.3)\n",
      "Requirement already satisfied: huggingface-hub<1.0,>=0.15.1 in /opt/conda/lib/python3.9/site-packages (from transformers==4.33.0.dev0) (0.16.4)\n",
      "Requirement already satisfied: fsspec in /opt/conda/lib/python3.9/site-packages (from huggingface-hub<1.0,>=0.15.1->transformers==4.33.0.dev0) (2023.1.0)\n",
      "Requirement already satisfied: typing-extensions>=3.7.4.3 in /opt/conda/lib/python3.9/site-packages (from huggingface-hub<1.0,>=0.15.1->transformers==4.33.0.dev0) (4.7.1)\n",
      "Requirement already satisfied: idna<4,>=2.5 in /opt/conda/lib/python3.9/site-packages (from requests->transformers==4.33.0.dev0) (3.4)\n",
      "Requirement already satisfied: charset-normalizer<4,>=2 in /opt/conda/lib/python3.9/site-packages (from requests->transformers==4.33.0.dev0) (2.1.1)\n",
      "Requirement already satisfied: certifi>=2017.4.17 in /opt/conda/lib/python3.9/site-packages (from requests->transformers==4.33.0.dev0) (2022.12.7)\n",
      "Requirement already satisfied: urllib3<1.27,>=1.21.1 in /opt/conda/lib/python3.9/site-packages (from requests->transformers==4.33.0.dev0) (1.26.14)\n",
      "Building wheels for collected packages: transformers\n",
      "  Building wheel for transformers (pyproject.toml) ... \u001b[?25ldone\n",
      "\u001b[?25h  Created wheel for transformers: filename=transformers-4.33.0.dev0-py3-none-any.whl size=7604306 sha256=e16106e97197293e812ea0f95be13cada0f183cb1f39583761f1dfa3bf5fdef3\n",
      "  Stored in directory: /tmp/pip-ephem-wheel-cache-yi2g9pdc/wheels/f7/92/8c/752ff3bfcd3439805d8bbf641614da38ef3226e127ebea86ee\n",
      "Successfully built transformers\n",
      "Installing collected packages: transformers\n",
      "  Attempting uninstall: transformers\n",
      "    Found existing installation: transformers 4.26.1\n",
      "    Uninstalling transformers-4.26.1:\n",
      "      Successfully uninstalled transformers-4.26.1\n",
      "Successfully installed transformers-4.33.0.dev0\n",
      "\u001b[33mWARNING: Running pip as the 'root' user can result in broken permissions and conflicting behaviour with the system package manager. It is recommended to use a virtual environment instead: https://pip.pypa.io/warnings/venv\u001b[0m\u001b[33m\n",
      "\u001b[0m\n",
      "\u001b[1m[\u001b[0m\u001b[34;49mnotice\u001b[0m\u001b[1;39;49m]\u001b[0m\u001b[39;49m A new release of pip is available: \u001b[0m\u001b[31;49m23.0\u001b[0m\u001b[39;49m -> \u001b[0m\u001b[32;49m23.2.1\u001b[0m\n",
      "\u001b[1m[\u001b[0m\u001b[34;49mnotice\u001b[0m\u001b[1;39;49m]\u001b[0m\u001b[39;49m To update, run: \u001b[0m\u001b[32;49mpip install --upgrade pip\u001b[0m\n",
      "Requirement already satisfied: sagemaker>=2.140.0 in /opt/conda/lib/python3.9/site-packages (2.182.0)\n",
      "Collecting transformers==4.26.1\n",
      "  Using cached transformers-4.26.1-py3-none-any.whl (6.3 MB)\n",
      "Requirement already satisfied: datasets[s3]==2.10.1 in /opt/conda/lib/python3.9/site-packages (2.10.1)\n",
      "Requirement already satisfied: requests in /opt/conda/lib/python3.9/site-packages (from transformers==4.26.1) (2.28.2)\n",
      "Requirement already satisfied: tqdm>=4.27 in /opt/conda/lib/python3.9/site-packages (from transformers==4.26.1) (4.64.1)\n",
      "Requirement already satisfied: pyyaml>=5.1 in /opt/conda/lib/python3.9/site-packages (from transformers==4.26.1) (6.0.1)\n",
      "Requirement already satisfied: huggingface-hub<1.0,>=0.11.0 in /opt/conda/lib/python3.9/site-packages (from transformers==4.26.1) (0.16.4)\n",
      "Requirement already satisfied: regex!=2019.12.17 in /opt/conda/lib/python3.9/site-packages (from transformers==4.26.1) (2023.8.8)\n",
      "Requirement already satisfied: packaging>=20.0 in /opt/conda/lib/python3.9/site-packages (from transformers==4.26.1) (23.0)\n",
      "Requirement already satisfied: tokenizers!=0.11.3,<0.14,>=0.11.1 in /opt/conda/lib/python3.9/site-packages (from transformers==4.26.1) (0.13.3)\n",
      "Requirement already satisfied: filelock in /opt/conda/lib/python3.9/site-packages (from transformers==4.26.1) (3.12.3)\n",
      "Requirement already satisfied: numpy>=1.17 in /opt/conda/lib/python3.9/site-packages (from transformers==4.26.1) (1.23.5)\n",
      "Requirement already satisfied: pyarrow>=6.0.0 in /opt/conda/lib/python3.9/site-packages (from datasets[s3]==2.10.1) (11.0.0)\n",
      "Requirement already satisfied: responses<0.19 in /opt/conda/lib/python3.9/site-packages (from datasets[s3]==2.10.1) (0.18.0)\n",
      "Requirement already satisfied: aiohttp in /opt/conda/lib/python3.9/site-packages (from datasets[s3]==2.10.1) (3.8.5)\n",
      "Requirement already satisfied: multiprocess in /opt/conda/lib/python3.9/site-packages (from datasets[s3]==2.10.1) (0.70.14)\n",
      "Requirement already satisfied: xxhash in /opt/conda/lib/python3.9/site-packages (from datasets[s3]==2.10.1) (3.3.0)\n",
      "Requirement already satisfied: pandas in /opt/conda/lib/python3.9/site-packages (from datasets[s3]==2.10.1) (1.5.3)\n",
      "Requirement already satisfied: fsspec[http]>=2021.11.1 in /opt/conda/lib/python3.9/site-packages (from datasets[s3]==2.10.1) (2023.1.0)\n",
      "Requirement already satisfied: dill<0.3.7,>=0.3.0 in /opt/conda/lib/python3.9/site-packages (from datasets[s3]==2.10.1) (0.3.6)\n",
      "Requirement already satisfied: s3fs in /opt/conda/lib/python3.9/site-packages (from datasets[s3]==2.10.1) (0.4.2)\n",
      "Requirement already satisfied: google-pasta in /opt/conda/lib/python3.9/site-packages (from sagemaker>=2.140.0) (0.2.0)\n",
      "Requirement already satisfied: platformdirs in /opt/conda/lib/python3.9/site-packages (from sagemaker>=2.140.0) (3.10.0)\n",
      "Requirement already satisfied: protobuf<5.0,>=3.12 in /opt/conda/lib/python3.9/site-packages (from sagemaker>=2.140.0) (3.20.2)\n",
      "Requirement already satisfied: attrs<24,>=23.1.0 in /opt/conda/lib/python3.9/site-packages (from sagemaker>=2.140.0) (23.1.0)\n",
      "Requirement already satisfied: jsonschema in /opt/conda/lib/python3.9/site-packages (from sagemaker>=2.140.0) (4.19.0)\n",
      "Requirement already satisfied: tblib==1.7.0 in /opt/conda/lib/python3.9/site-packages (from sagemaker>=2.140.0) (1.7.0)\n",
      "Requirement already satisfied: importlib-metadata<7.0,>=1.4.0 in /opt/conda/lib/python3.9/site-packages (from sagemaker>=2.140.0) (4.13.0)\n",
      "Requirement already satisfied: boto3<2.0,>=1.26.131 in /opt/conda/lib/python3.9/site-packages (from sagemaker>=2.140.0) (1.28.37)\n",
      "Requirement already satisfied: schema in /opt/conda/lib/python3.9/site-packages (from sagemaker>=2.140.0) (0.7.5)\n",
      "Requirement already satisfied: pathos in /opt/conda/lib/python3.9/site-packages (from sagemaker>=2.140.0) (0.3.0)\n",
      "Requirement already satisfied: smdebug-rulesconfig==1.0.1 in /opt/conda/lib/python3.9/site-packages (from sagemaker>=2.140.0) (1.0.1)\n",
      "Requirement already satisfied: cloudpickle==2.2.1 in /opt/conda/lib/python3.9/site-packages (from sagemaker>=2.140.0) (2.2.1)\n",
      "Requirement already satisfied: botocore<1.32.0,>=1.31.37 in /opt/conda/lib/python3.9/site-packages (from boto3<2.0,>=1.26.131->sagemaker>=2.140.0) (1.31.37)\n",
      "Requirement already satisfied: jmespath<2.0.0,>=0.7.1 in /opt/conda/lib/python3.9/site-packages (from boto3<2.0,>=1.26.131->sagemaker>=2.140.0) (1.0.1)\n",
      "Requirement already satisfied: s3transfer<0.7.0,>=0.6.0 in /opt/conda/lib/python3.9/site-packages (from boto3<2.0,>=1.26.131->sagemaker>=2.140.0) (0.6.0)\n",
      "Requirement already satisfied: async-timeout<5.0,>=4.0.0a3 in /opt/conda/lib/python3.9/site-packages (from aiohttp->datasets[s3]==2.10.1) (4.0.3)\n",
      "Requirement already satisfied: multidict<7.0,>=4.5 in /opt/conda/lib/python3.9/site-packages (from aiohttp->datasets[s3]==2.10.1) (6.0.4)\n",
      "Requirement already satisfied: frozenlist>=1.1.1 in /opt/conda/lib/python3.9/site-packages (from aiohttp->datasets[s3]==2.10.1) (1.4.0)\n",
      "Requirement already satisfied: aiosignal>=1.1.2 in /opt/conda/lib/python3.9/site-packages (from aiohttp->datasets[s3]==2.10.1) (1.3.1)\n",
      "Requirement already satisfied: charset-normalizer<4.0,>=2.0 in /opt/conda/lib/python3.9/site-packages (from aiohttp->datasets[s3]==2.10.1) (2.1.1)\n",
      "Requirement already satisfied: yarl<2.0,>=1.0 in /opt/conda/lib/python3.9/site-packages (from aiohttp->datasets[s3]==2.10.1) (1.9.2)\n",
      "Requirement already satisfied: typing-extensions>=3.7.4.3 in /opt/conda/lib/python3.9/site-packages (from huggingface-hub<1.0,>=0.11.0->transformers==4.26.1) (4.7.1)\n",
      "Requirement already satisfied: zipp>=0.5 in /opt/conda/lib/python3.9/site-packages (from importlib-metadata<7.0,>=1.4.0->sagemaker>=2.140.0) (3.13.0)\n",
      "Requirement already satisfied: urllib3<1.27,>=1.21.1 in /opt/conda/lib/python3.9/site-packages (from requests->transformers==4.26.1) (1.26.14)\n",
      "Requirement already satisfied: idna<4,>=2.5 in /opt/conda/lib/python3.9/site-packages (from requests->transformers==4.26.1) (3.4)\n",
      "Requirement already satisfied: certifi>=2017.4.17 in /opt/conda/lib/python3.9/site-packages (from requests->transformers==4.26.1) (2022.12.7)\n",
      "Requirement already satisfied: six in /opt/conda/lib/python3.9/site-packages (from google-pasta->sagemaker>=2.140.0) (1.16.0)\n",
      "Requirement already satisfied: jsonschema-specifications>=2023.03.6 in /opt/conda/lib/python3.9/site-packages (from jsonschema->sagemaker>=2.140.0) (2023.7.1)\n",
      "Requirement already satisfied: referencing>=0.28.4 in /opt/conda/lib/python3.9/site-packages (from jsonschema->sagemaker>=2.140.0) (0.30.2)\n",
      "Requirement already satisfied: rpds-py>=0.7.1 in /opt/conda/lib/python3.9/site-packages (from jsonschema->sagemaker>=2.140.0) (0.10.0)\n",
      "Requirement already satisfied: python-dateutil>=2.8.1 in /opt/conda/lib/python3.9/site-packages (from pandas->datasets[s3]==2.10.1) (2.8.2)\n",
      "Requirement already satisfied: pytz>=2020.1 in /opt/conda/lib/python3.9/site-packages (from pandas->datasets[s3]==2.10.1) (2022.7.1)\n",
      "Requirement already satisfied: ppft>=1.7.6.6 in /opt/conda/lib/python3.9/site-packages (from pathos->sagemaker>=2.140.0) (1.7.6.6)\n",
      "Requirement already satisfied: pox>=0.3.2 in /opt/conda/lib/python3.9/site-packages (from pathos->sagemaker>=2.140.0) (0.3.2)\n",
      "Requirement already satisfied: contextlib2>=0.5.5 in /opt/conda/lib/python3.9/site-packages (from schema->sagemaker>=2.140.0) (21.6.0)\n",
      "Installing collected packages: transformers\n",
      "  Attempting uninstall: transformers\n",
      "    Found existing installation: transformers 4.33.0.dev0\n",
      "    Uninstalling transformers-4.33.0.dev0:\n",
      "      Successfully uninstalled transformers-4.33.0.dev0\n",
      "Successfully installed transformers-4.26.1\n",
      "\u001b[33mWARNING: Running pip as the 'root' user can result in broken permissions and conflicting behaviour with the system package manager. It is recommended to use a virtual environment instead: https://pip.pypa.io/warnings/venv\u001b[0m\u001b[33m\n",
      "\u001b[0m\n",
      "\u001b[1m[\u001b[0m\u001b[34;49mnotice\u001b[0m\u001b[1;39;49m]\u001b[0m\u001b[39;49m A new release of pip is available: \u001b[0m\u001b[31;49m23.0\u001b[0m\u001b[39;49m -> \u001b[0m\u001b[32;49m23.2.1\u001b[0m\n",
      "\u001b[1m[\u001b[0m\u001b[34;49mnotice\u001b[0m\u001b[1;39;49m]\u001b[0m\u001b[39;49m To update, run: \u001b[0m\u001b[32;49mpip install --upgrade pip\u001b[0m\n",
      "Requirement already satisfied: accelerate==0.20.3 in /opt/conda/lib/python3.9/site-packages (0.20.3)\n",
      "Requirement already satisfied: torch>=1.6.0 in /opt/conda/lib/python3.9/site-packages (from accelerate==0.20.3) (1.13.0)\n",
      "Requirement already satisfied: psutil in /opt/conda/lib/python3.9/site-packages (from accelerate==0.20.3) (5.9.4)\n",
      "Requirement already satisfied: pyyaml in /opt/conda/lib/python3.9/site-packages (from accelerate==0.20.3) (6.0.1)\n",
      "Requirement already satisfied: numpy>=1.17 in /opt/conda/lib/python3.9/site-packages (from accelerate==0.20.3) (1.23.5)\n",
      "Requirement already satisfied: packaging>=20.0 in /opt/conda/lib/python3.9/site-packages (from accelerate==0.20.3) (23.0)\n",
      "Requirement already satisfied: nvidia-cuda-runtime-cu11==11.7.99 in /opt/conda/lib/python3.9/site-packages (from torch>=1.6.0->accelerate==0.20.3) (11.7.99)\n",
      "Requirement already satisfied: nvidia-cublas-cu11==11.10.3.66 in /opt/conda/lib/python3.9/site-packages (from torch>=1.6.0->accelerate==0.20.3) (11.10.3.66)\n",
      "Requirement already satisfied: nvidia-cudnn-cu11==8.5.0.96 in /opt/conda/lib/python3.9/site-packages (from torch>=1.6.0->accelerate==0.20.3) (8.5.0.96)\n",
      "Requirement already satisfied: typing-extensions in /opt/conda/lib/python3.9/site-packages (from torch>=1.6.0->accelerate==0.20.3) (4.7.1)\n",
      "Requirement already satisfied: nvidia-cuda-nvrtc-cu11==11.7.99 in /opt/conda/lib/python3.9/site-packages (from torch>=1.6.0->accelerate==0.20.3) (11.7.99)\n",
      "Requirement already satisfied: setuptools in /opt/conda/lib/python3.9/site-packages (from nvidia-cublas-cu11==11.10.3.66->torch>=1.6.0->accelerate==0.20.3) (65.6.3)\n",
      "Requirement already satisfied: wheel in /opt/conda/lib/python3.9/site-packages (from nvidia-cublas-cu11==11.10.3.66->torch>=1.6.0->accelerate==0.20.3) (0.38.4)\n",
      "\u001b[33mWARNING: Running pip as the 'root' user can result in broken permissions and conflicting behaviour with the system package manager. It is recommended to use a virtual environment instead: https://pip.pypa.io/warnings/venv\u001b[0m\u001b[33m\n",
      "\u001b[0m\n",
      "\u001b[1m[\u001b[0m\u001b[34;49mnotice\u001b[0m\u001b[1;39;49m]\u001b[0m\u001b[39;49m A new release of pip is available: \u001b[0m\u001b[31;49m23.0\u001b[0m\u001b[39;49m -> \u001b[0m\u001b[32;49m23.2.1\u001b[0m\n",
      "\u001b[1m[\u001b[0m\u001b[34;49mnotice\u001b[0m\u001b[1;39;49m]\u001b[0m\u001b[39;49m To update, run: \u001b[0m\u001b[32;49mpip install --upgrade pip\u001b[0m\n"
     ]
    }
   ],
   "source": [
    "# ml.m5.4xlarge\n",
    "!pip install ImageBind/.\n",
    "!pip install git+https://github.com/huggingface/transformers.git\n",
    "!pip install \"sagemaker>=2.140.0\" \"transformers==4.26.1\" \"datasets[s3]==2.10.1\" --upgrade\n",
    "!pip install accelerate==0.20.3"
   ]
  },
  {
   "cell_type": "code",
   "execution_count": 35,
   "id": "1fe30c5f-fcdc-4e3b-a7fc-12a33eb1e06f",
   "metadata": {
    "tags": []
   },
   "outputs": [],
   "source": [
    "from imagebind import data\n",
    "import torch\n",
    "from imagebind.models import imagebind_model\n",
    "from imagebind.models.imagebind_model import ModalityType\n",
    "\n",
    "import numpy as np\n",
    "from sagemaker import get_execution_role\n",
    "import boto3\n",
    "import pandas as pd\n",
    "from io import StringIO # Python 3.\n",
    "from datasets import load_dataset,Dataset,DatasetDict,concatenate_datasets\n",
    "\n",
    "from transformers import DataCollatorWithPadding,AutoModelForSequenceClassification, Trainer, TrainingArguments,AutoTokenizer,AutoModel,AutoConfig\n",
    "from transformers.modeling_outputs import TokenClassifierOutput\n",
    "import torch\n",
    "import torch.nn as nn\n",
    "import torch.nn.functional as F\n",
    "import pandas as pd\n",
    "import json"
   ]
  },
  {
   "cell_type": "code",
   "execution_count": 16,
   "id": "e07966dc-8947-4712-a130-c530a6d827a9",
   "metadata": {
    "tags": []
   },
   "outputs": [
    {
     "name": "stdout",
     "output_type": "stream",
     "text": [
      "length of dataframe: 210\n"
     ]
    },
    {
     "data": {
      "text/html": [
       "<div>\n",
       "<style scoped>\n",
       "    .dataframe tbody tr th:only-of-type {\n",
       "        vertical-align: middle;\n",
       "    }\n",
       "\n",
       "    .dataframe tbody tr th {\n",
       "        vertical-align: top;\n",
       "    }\n",
       "\n",
       "    .dataframe thead th {\n",
       "        text-align: right;\n",
       "    }\n",
       "</style>\n",
       "<table border=\"1\" class=\"dataframe\">\n",
       "  <thead>\n",
       "    <tr style=\"text-align: right;\">\n",
       "      <th></th>\n",
       "      <th>arrival</th>\n",
       "      <th>eddischarge</th>\n",
       "      <th>admission</th>\n",
       "      <th>discharge</th>\n",
       "      <th>triage</th>\n",
       "      <th>medrecon</th>\n",
       "      <th>vitals</th>\n",
       "      <th>pyxis</th>\n",
       "      <th>codes</th>\n",
       "    </tr>\n",
       "  </thead>\n",
       "  <tbody>\n",
       "    <tr>\n",
       "      <th>37887480</th>\n",
       "      <td>Patient 10014729, a 21 year old white - other ...</td>\n",
       "      <td>The ED disposition was admitted at 2125-03-19 ...</td>\n",
       "      <td>The patient was admitted at 2125-03-19 16:58:00.</td>\n",
       "      <td>The patient's discharge disposition was: home ...</td>\n",
       "      <td>At triage: temperature was 99.1, pulse was 90....</td>\n",
       "      <td>The patient was previously taking the followin...</td>\n",
       "      <td>The patient had the following vitals: At 2125-...</td>\n",
       "      <td>The patient received the following medications...</td>\n",
       "      <td>The patient received the following diagnostic ...</td>\n",
       "    </tr>\n",
       "    <tr>\n",
       "      <th>34176810</th>\n",
       "      <td>Patient 10018328, a 83 year old white female, ...</td>\n",
       "      <td>The ED disposition was admitted at 2154-02-05 ...</td>\n",
       "      <td>The patient was admitted at 2154-02-05 21:58:00.</td>\n",
       "      <td>The patient's discharge disposition was: home ...</td>\n",
       "      <td>At triage: temperature was 97.7, pulse was 74....</td>\n",
       "      <td>The patient was previously taking the followin...</td>\n",
       "      <td>The patient had the following vitals: At 2154-...</td>\n",
       "      <td>NaN</td>\n",
       "      <td>The patient received the following diagnostic ...</td>\n",
       "    </tr>\n",
       "    <tr>\n",
       "      <th>32103106</th>\n",
       "      <td>Patient 10018328, a 83 year old white female, ...</td>\n",
       "      <td>The ED disposition was home at 2154-08-03 22:2...</td>\n",
       "      <td>The patient was not admitted.</td>\n",
       "      <td>The patient was not admitted.</td>\n",
       "      <td>At triage: temperature was 96.2, pulse was 74....</td>\n",
       "      <td>The patient was previously taking the followin...</td>\n",
       "      <td>The patient had the following vitals: At 2154-...</td>\n",
       "      <td>The patient received the following medications...</td>\n",
       "      <td>The patient received the following diagnostic ...</td>\n",
       "    </tr>\n",
       "    <tr>\n",
       "      <th>38797992</th>\n",
       "      <td>Patient 10020640, a 91 year old white female, ...</td>\n",
       "      <td>The ED disposition was admitted at 2153-02-13 ...</td>\n",
       "      <td>The patient was admitted at 2153-02-13 00:22:00.</td>\n",
       "      <td>The patient's discharge disposition was: skill...</td>\n",
       "      <td>At triage: temperature was 99.2, pulse was 130...</td>\n",
       "      <td>The patient was previously taking the followin...</td>\n",
       "      <td>The patient had the following vitals: At 2153-...</td>\n",
       "      <td>The patient received the following medications...</td>\n",
       "      <td>The patient received the following diagnostic ...</td>\n",
       "    </tr>\n",
       "    <tr>\n",
       "      <th>33473053</th>\n",
       "      <td>Patient 10015272, a 78 year old white female, ...</td>\n",
       "      <td>The ED disposition was admitted at 2137-06-12 ...</td>\n",
       "      <td>The patient was admitted at 2137-06-12 18:36:00.</td>\n",
       "      <td>The patient's discharge disposition was: home ...</td>\n",
       "      <td>At triage: temperature was 97.5, pulse was 118...</td>\n",
       "      <td>The patient was previously taking the followin...</td>\n",
       "      <td>The patient had the following vitals: At 2137-...</td>\n",
       "      <td>The patient received the following medications...</td>\n",
       "      <td>The patient received the following diagnostic ...</td>\n",
       "    </tr>\n",
       "  </tbody>\n",
       "</table>\n",
       "</div>"
      ],
      "text/plain": [
       "                                                    arrival  \\\n",
       "37887480  Patient 10014729, a 21 year old white - other ...   \n",
       "34176810  Patient 10018328, a 83 year old white female, ...   \n",
       "32103106  Patient 10018328, a 83 year old white female, ...   \n",
       "38797992  Patient 10020640, a 91 year old white female, ...   \n",
       "33473053  Patient 10015272, a 78 year old white female, ...   \n",
       "\n",
       "                                                eddischarge  \\\n",
       "37887480  The ED disposition was admitted at 2125-03-19 ...   \n",
       "34176810  The ED disposition was admitted at 2154-02-05 ...   \n",
       "32103106  The ED disposition was home at 2154-08-03 22:2...   \n",
       "38797992  The ED disposition was admitted at 2153-02-13 ...   \n",
       "33473053  The ED disposition was admitted at 2137-06-12 ...   \n",
       "\n",
       "                                                 admission  \\\n",
       "37887480  The patient was admitted at 2125-03-19 16:58:00.   \n",
       "34176810  The patient was admitted at 2154-02-05 21:58:00.   \n",
       "32103106                     The patient was not admitted.   \n",
       "38797992  The patient was admitted at 2153-02-13 00:22:00.   \n",
       "33473053  The patient was admitted at 2137-06-12 18:36:00.   \n",
       "\n",
       "                                                  discharge  \\\n",
       "37887480  The patient's discharge disposition was: home ...   \n",
       "34176810  The patient's discharge disposition was: home ...   \n",
       "32103106                      The patient was not admitted.   \n",
       "38797992  The patient's discharge disposition was: skill...   \n",
       "33473053  The patient's discharge disposition was: home ...   \n",
       "\n",
       "                                                     triage  \\\n",
       "37887480  At triage: temperature was 99.1, pulse was 90....   \n",
       "34176810  At triage: temperature was 97.7, pulse was 74....   \n",
       "32103106  At triage: temperature was 96.2, pulse was 74....   \n",
       "38797992  At triage: temperature was 99.2, pulse was 130...   \n",
       "33473053  At triage: temperature was 97.5, pulse was 118...   \n",
       "\n",
       "                                                   medrecon  \\\n",
       "37887480  The patient was previously taking the followin...   \n",
       "34176810  The patient was previously taking the followin...   \n",
       "32103106  The patient was previously taking the followin...   \n",
       "38797992  The patient was previously taking the followin...   \n",
       "33473053  The patient was previously taking the followin...   \n",
       "\n",
       "                                                     vitals  \\\n",
       "37887480  The patient had the following vitals: At 2125-...   \n",
       "34176810  The patient had the following vitals: At 2154-...   \n",
       "32103106  The patient had the following vitals: At 2154-...   \n",
       "38797992  The patient had the following vitals: At 2153-...   \n",
       "33473053  The patient had the following vitals: At 2137-...   \n",
       "\n",
       "                                                      pyxis  \\\n",
       "37887480  The patient received the following medications...   \n",
       "34176810                                                NaN   \n",
       "32103106  The patient received the following medications...   \n",
       "38797992  The patient received the following medications...   \n",
       "33473053  The patient received the following medications...   \n",
       "\n",
       "                                                      codes  \n",
       "37887480  The patient received the following diagnostic ...  \n",
       "34176810  The patient received the following diagnostic ...  \n",
       "32103106  The patient received the following diagnostic ...  \n",
       "38797992  The patient received the following diagnostic ...  \n",
       "33473053  The patient received the following diagnostic ...  "
      ]
     },
     "execution_count": 16,
     "metadata": {},
     "output_type": "execute_result"
    }
   ],
   "source": [
    "s3 = boto3.resource('s3')\n",
    "bucket_name = 'chianglab-dataderivatives'\n",
    "file_path = \"mimic-iv-ed-demo-2.2/text_repr.json\"\n",
    "\n",
    "# loading in raw data\n",
    "content_object = s3.Object(bucket_name, file_path)\n",
    "file_content = content_object.get()['Body'].read().decode('utf-8')\n",
    "json_content = json.loads(file_content)\n",
    "df = pd.DataFrame(json_content).T\n",
    "print(\"length of dataframe: \"+ str(len(df)))\n",
    "df.head(5)"
   ]
  },
  {
   "cell_type": "code",
   "execution_count": 17,
   "id": "98372046-cf37-453e-9775-9faeab9a9cb3",
   "metadata": {
    "tags": []
   },
   "outputs": [
    {
     "data": {
      "text/html": [
       "<div>\n",
       "<style scoped>\n",
       "    .dataframe tbody tr th:only-of-type {\n",
       "        vertical-align: middle;\n",
       "    }\n",
       "\n",
       "    .dataframe tbody tr th {\n",
       "        vertical-align: top;\n",
       "    }\n",
       "\n",
       "    .dataframe thead th {\n",
       "        text-align: right;\n",
       "    }\n",
       "</style>\n",
       "<table border=\"1\" class=\"dataframe\">\n",
       "  <thead>\n",
       "    <tr style=\"text-align: right;\">\n",
       "      <th></th>\n",
       "      <th>arrival</th>\n",
       "      <th>triage</th>\n",
       "      <th>medrecon</th>\n",
       "      <th>vitals</th>\n",
       "      <th>pyxis</th>\n",
       "      <th>codes</th>\n",
       "      <th>eddischarge</th>\n",
       "    </tr>\n",
       "  </thead>\n",
       "  <tbody>\n",
       "    <tr>\n",
       "      <th>37887480</th>\n",
       "      <td>Patient 10014729, a 21 year old white - other ...</td>\n",
       "      <td>At triage: temperature was 99.1, pulse was 90....</td>\n",
       "      <td>The patient was previously taking the followin...</td>\n",
       "      <td>The patient had the following vitals: At 2125-...</td>\n",
       "      <td>The patient received the following medications...</td>\n",
       "      <td>The patient received the following diagnostic ...</td>\n",
       "      <td>1</td>\n",
       "    </tr>\n",
       "    <tr>\n",
       "      <th>34176810</th>\n",
       "      <td>Patient 10018328, a 83 year old white female, ...</td>\n",
       "      <td>At triage: temperature was 97.7, pulse was 74....</td>\n",
       "      <td>The patient was previously taking the followin...</td>\n",
       "      <td>The patient had the following vitals: At 2154-...</td>\n",
       "      <td>The patient did not receive any medications.</td>\n",
       "      <td>The patient received the following diagnostic ...</td>\n",
       "      <td>1</td>\n",
       "    </tr>\n",
       "    <tr>\n",
       "      <th>32103106</th>\n",
       "      <td>Patient 10018328, a 83 year old white female, ...</td>\n",
       "      <td>At triage: temperature was 96.2, pulse was 74....</td>\n",
       "      <td>The patient was previously taking the followin...</td>\n",
       "      <td>The patient had the following vitals: At 2154-...</td>\n",
       "      <td>The patient received the following medications...</td>\n",
       "      <td>The patient received the following diagnostic ...</td>\n",
       "      <td>0</td>\n",
       "    </tr>\n",
       "    <tr>\n",
       "      <th>38797992</th>\n",
       "      <td>Patient 10020640, a 91 year old white female, ...</td>\n",
       "      <td>At triage: temperature was 99.2, pulse was 130...</td>\n",
       "      <td>The patient was previously taking the followin...</td>\n",
       "      <td>The patient had the following vitals: At 2153-...</td>\n",
       "      <td>The patient received the following medications...</td>\n",
       "      <td>The patient received the following diagnostic ...</td>\n",
       "      <td>1</td>\n",
       "    </tr>\n",
       "    <tr>\n",
       "      <th>33473053</th>\n",
       "      <td>Patient 10015272, a 78 year old white female, ...</td>\n",
       "      <td>At triage: temperature was 97.5, pulse was 118...</td>\n",
       "      <td>The patient was previously taking the followin...</td>\n",
       "      <td>The patient had the following vitals: At 2137-...</td>\n",
       "      <td>The patient received the following medications...</td>\n",
       "      <td>The patient received the following diagnostic ...</td>\n",
       "      <td>1</td>\n",
       "    </tr>\n",
       "    <tr>\n",
       "      <th>...</th>\n",
       "      <td>...</td>\n",
       "      <td>...</td>\n",
       "      <td>...</td>\n",
       "      <td>...</td>\n",
       "      <td>...</td>\n",
       "      <td>...</td>\n",
       "      <td>...</td>\n",
       "    </tr>\n",
       "    <tr>\n",
       "      <th>30272878</th>\n",
       "      <td>Patient 10038999, a 45 year old white male, ar...</td>\n",
       "      <td>At triage: temperature was not recorded, pulse...</td>\n",
       "      <td>The patient was previously not taking any medi...</td>\n",
       "      <td>The patient had the following vitals: At 2131-...</td>\n",
       "      <td>The patient received the following medications...</td>\n",
       "      <td>The patient received the following diagnostic ...</td>\n",
       "      <td>1</td>\n",
       "    </tr>\n",
       "    <tr>\n",
       "      <th>31628990</th>\n",
       "      <td>Patient 10009049, a 56 year old white male, ar...</td>\n",
       "      <td>At triage: temperature was 99.0, pulse was 87....</td>\n",
       "      <td>The patient was previously taking the followin...</td>\n",
       "      <td>The patient had the following vitals: At 2174-...</td>\n",
       "      <td>The patient received the following medications...</td>\n",
       "      <td>The patient received the following diagnostic ...</td>\n",
       "      <td>1</td>\n",
       "    </tr>\n",
       "    <tr>\n",
       "      <th>32405286</th>\n",
       "      <td>Patient 10004457, a 65 year old white male, ar...</td>\n",
       "      <td>At triage: temperature was 97.6, pulse was 103...</td>\n",
       "      <td>The patient was previously taking the followin...</td>\n",
       "      <td>The patient had the following vitals: At 2141-...</td>\n",
       "      <td>The patient received the following medications...</td>\n",
       "      <td>The patient received the following diagnostic ...</td>\n",
       "      <td>1</td>\n",
       "    </tr>\n",
       "    <tr>\n",
       "      <th>34391979</th>\n",
       "      <td>Patient 10004720, a 61 year old white male, ar...</td>\n",
       "      <td>At triage: temperature was not recorded, pulse...</td>\n",
       "      <td>The patient was previously taking the followin...</td>\n",
       "      <td>The patient had the following vitals: At 2186-...</td>\n",
       "      <td>The patient received the following medications...</td>\n",
       "      <td>The patient received the following diagnostic ...</td>\n",
       "      <td>1</td>\n",
       "    </tr>\n",
       "    <tr>\n",
       "      <th>34161260</th>\n",
       "      <td>Patient 10004720, a 61 year old white male, ar...</td>\n",
       "      <td>At triage: temperature was 97.0, pulse was 106...</td>\n",
       "      <td>The patient was previously taking the followin...</td>\n",
       "      <td>The patient had the following vitals: At 2183-...</td>\n",
       "      <td>The patient received the following medications...</td>\n",
       "      <td>The patient received the following diagnostic ...</td>\n",
       "      <td>0</td>\n",
       "    </tr>\n",
       "  </tbody>\n",
       "</table>\n",
       "<p>210 rows × 7 columns</p>\n",
       "</div>"
      ],
      "text/plain": [
       "                                                    arrival  \\\n",
       "37887480  Patient 10014729, a 21 year old white - other ...   \n",
       "34176810  Patient 10018328, a 83 year old white female, ...   \n",
       "32103106  Patient 10018328, a 83 year old white female, ...   \n",
       "38797992  Patient 10020640, a 91 year old white female, ...   \n",
       "33473053  Patient 10015272, a 78 year old white female, ...   \n",
       "...                                                     ...   \n",
       "30272878  Patient 10038999, a 45 year old white male, ar...   \n",
       "31628990  Patient 10009049, a 56 year old white male, ar...   \n",
       "32405286  Patient 10004457, a 65 year old white male, ar...   \n",
       "34391979  Patient 10004720, a 61 year old white male, ar...   \n",
       "34161260  Patient 10004720, a 61 year old white male, ar...   \n",
       "\n",
       "                                                     triage  \\\n",
       "37887480  At triage: temperature was 99.1, pulse was 90....   \n",
       "34176810  At triage: temperature was 97.7, pulse was 74....   \n",
       "32103106  At triage: temperature was 96.2, pulse was 74....   \n",
       "38797992  At triage: temperature was 99.2, pulse was 130...   \n",
       "33473053  At triage: temperature was 97.5, pulse was 118...   \n",
       "...                                                     ...   \n",
       "30272878  At triage: temperature was not recorded, pulse...   \n",
       "31628990  At triage: temperature was 99.0, pulse was 87....   \n",
       "32405286  At triage: temperature was 97.6, pulse was 103...   \n",
       "34391979  At triage: temperature was not recorded, pulse...   \n",
       "34161260  At triage: temperature was 97.0, pulse was 106...   \n",
       "\n",
       "                                                   medrecon  \\\n",
       "37887480  The patient was previously taking the followin...   \n",
       "34176810  The patient was previously taking the followin...   \n",
       "32103106  The patient was previously taking the followin...   \n",
       "38797992  The patient was previously taking the followin...   \n",
       "33473053  The patient was previously taking the followin...   \n",
       "...                                                     ...   \n",
       "30272878  The patient was previously not taking any medi...   \n",
       "31628990  The patient was previously taking the followin...   \n",
       "32405286  The patient was previously taking the followin...   \n",
       "34391979  The patient was previously taking the followin...   \n",
       "34161260  The patient was previously taking the followin...   \n",
       "\n",
       "                                                     vitals  \\\n",
       "37887480  The patient had the following vitals: At 2125-...   \n",
       "34176810  The patient had the following vitals: At 2154-...   \n",
       "32103106  The patient had the following vitals: At 2154-...   \n",
       "38797992  The patient had the following vitals: At 2153-...   \n",
       "33473053  The patient had the following vitals: At 2137-...   \n",
       "...                                                     ...   \n",
       "30272878  The patient had the following vitals: At 2131-...   \n",
       "31628990  The patient had the following vitals: At 2174-...   \n",
       "32405286  The patient had the following vitals: At 2141-...   \n",
       "34391979  The patient had the following vitals: At 2186-...   \n",
       "34161260  The patient had the following vitals: At 2183-...   \n",
       "\n",
       "                                                      pyxis  \\\n",
       "37887480  The patient received the following medications...   \n",
       "34176810       The patient did not receive any medications.   \n",
       "32103106  The patient received the following medications...   \n",
       "38797992  The patient received the following medications...   \n",
       "33473053  The patient received the following medications...   \n",
       "...                                                     ...   \n",
       "30272878  The patient received the following medications...   \n",
       "31628990  The patient received the following medications...   \n",
       "32405286  The patient received the following medications...   \n",
       "34391979  The patient received the following medications...   \n",
       "34161260  The patient received the following medications...   \n",
       "\n",
       "                                                      codes  eddischarge  \n",
       "37887480  The patient received the following diagnostic ...            1  \n",
       "34176810  The patient received the following diagnostic ...            1  \n",
       "32103106  The patient received the following diagnostic ...            0  \n",
       "38797992  The patient received the following diagnostic ...            1  \n",
       "33473053  The patient received the following diagnostic ...            1  \n",
       "...                                                     ...          ...  \n",
       "30272878  The patient received the following diagnostic ...            1  \n",
       "31628990  The patient received the following diagnostic ...            1  \n",
       "32405286  The patient received the following diagnostic ...            1  \n",
       "34391979  The patient received the following diagnostic ...            1  \n",
       "34161260  The patient received the following diagnostic ...            0  \n",
       "\n",
       "[210 rows x 7 columns]"
      ]
     },
     "execution_count": 17,
     "metadata": {},
     "output_type": "execute_result"
    }
   ],
   "source": [
    "df['eddischarge'] = [1 if 'admitted' in s.lower() else 0 for s in df['eddischarge']] # admitted = 1, Home = 0\n",
    "df['medrecon'] = df['medrecon'].fillna(\"The patient was previously not taking any medications.\")\n",
    "df['pyxis'] = df['pyxis'].fillna(\"The patient did not receive any medications.\")\n",
    "df['vitals'] = df['vitals'].fillna(\"The patient had no vitals recorded\")\n",
    "df['codes'] = df['codes'].fillna(\"The patient received no diagnostic codes\")\n",
    "df = df.drop(\"admission\",axis=1)\n",
    "df = df.drop(\"discharge\",axis=1)\n",
    "# df['general'] = df['arrival'] + df['triage'] + df['codes'] + df['pyxis'] \n",
    "# df = df.drop('arrival',axis=1)\n",
    "# df = df.drop('triage',axis=1)\n",
    "# df = df.drop('codes',axis=1)\n",
    "# df = df.drop('pyxis',axis=1)\n",
    "df = df[[col for col in df.columns if col != 'eddischarge'] + ['eddischarge']] # rearrange column to the end\n",
    "df"
   ]
  },
  {
   "cell_type": "code",
   "execution_count": 21,
   "id": "46742e93-3b05-42e8-a2c0-e693e7d4bac6",
   "metadata": {
    "tags": []
   },
   "outputs": [
    {
     "name": "stdout",
     "output_type": "stream",
     "text": [
      "834.6428571428571\n",
      "982.6333333333333\n",
      "181.45714285714286\n",
      "244.43333333333334\n",
      "278.247619047619\n",
      "180.56190476190477\n"
     ]
    }
   ],
   "source": [
    "print(df.medrecon.str.len().mean())\n",
    "print(df.vitals.str.len().mean())\n",
    "print(df.arrival.str.len().mean())\n",
    "print(df.triage.str.len().mean())\n",
    "print(df.pyxis.str.len().mean())\n",
    "print(df.codes.str.len().mean())"
   ]
  },
  {
   "cell_type": "code",
   "execution_count": 22,
   "id": "4ed1dde0-f00c-4198-b2f0-dc15d0776fce",
   "metadata": {
    "tags": []
   },
   "outputs": [
    {
     "name": "stdout",
     "output_type": "stream",
     "text": [
      "Done Loading Model\n"
     ]
    }
   ],
   "source": [
    "medrecon_list = df.medrecon.to_list()\n",
    "vitals_list = df.vitals.to_list()\n",
    "arrival_list = df.arrival.to_list()\n",
    "triage_list = df.triage.to_list()\n",
    "pyxis_list = df.pyxis.to_list()\n",
    "codes_list = df.codes.to_list()\n",
    "\n",
    "device = \"cuda:0\" if torch.cuda.is_available() else \"cpu\"\n",
    "\n",
    "# Instantiate model\n",
    "model = imagebind_model.imagebind_huge(pretrained=True)\n",
    "model.eval()\n",
    "model.to(device)\n",
    "\n",
    "print(\"Done Loading Model\")"
   ]
  },
  {
   "cell_type": "code",
   "execution_count": 23,
   "id": "7fadbe6a-4734-4169-ada2-c7708d3edf9a",
   "metadata": {
    "tags": []
   },
   "outputs": [],
   "source": [
    "with torch.no_grad():\n",
    "    inputs_medrecon = {ModalityType.TEXT: data.load_and_transform_text(medrecon_list, device)}\n",
    "    embeddings_medrecon = model(inputs_medrecon)\n",
    "    inputs_vitals = {ModalityType.TEXT: data.load_and_transform_text(vitals_list, device)}\n",
    "    embeddings_vitals = model(inputs_vitals)\n",
    "    inputs_arrival = {ModalityType.TEXT: data.load_and_transform_text(arrival_list, device)}\n",
    "    embeddings_arrival = model(inputs_general)\n",
    "    inputs_triage = {ModalityType.TEXT: data.load_and_transform_text(triage_list, device)}\n",
    "    embeddings_triage = model(inputs_general)\n",
    "    inputs_pyxis = {ModalityType.TEXT: data.load_and_transform_text(pyxis_list, device)}\n",
    "    embeddings_pyxis = model(inputs_general)\n",
    "    inputs_codes = {ModalityType.TEXT: data.load_and_transform_text(codes_list, device)}\n",
    "    embeddings_codes = model(inputs_general)\n",
    "    "
   ]
  },
  {
   "cell_type": "code",
   "execution_count": 24,
   "id": "644a9cc1-d7d8-4f9f-994e-3e1eb69ec571",
   "metadata": {
    "tags": []
   },
   "outputs": [],
   "source": [
    "with torch.no_grad():\n",
    "    embeddings_medrecon = model(inputs_medrecon)\n",
    "    embeddings_vitals = model(inputs_vitals)\n",
    "    embeddings_arrival = model(inputs_arrival)\n",
    "    embeddings_triage = model(inputs_triage)\n",
    "    embeddings_pyxis = model(inputs_pyxis)\n",
    "    embeddings_codes = model(inputs_codes)"
   ]
  },
  {
   "cell_type": "code",
   "execution_count": 25,
   "id": "1686860a-b5b3-4293-b8ab-947a44a90121",
   "metadata": {
    "tags": []
   },
   "outputs": [
    {
     "data": {
      "text/plain": [
       "(tensor([False]), tensor([215040]))"
      ]
     },
     "execution_count": 25,
     "metadata": {},
     "output_type": "execute_result"
    }
   ],
   "source": [
    "f = torch.eq(embeddings_medrecon['text'], embeddings_arrival['text'])\n",
    "f.unique(return_counts=True)"
   ]
  },
  {
   "cell_type": "code",
   "execution_count": 26,
   "id": "0b2bcda3-d651-4a8b-9984-59508558b5df",
   "metadata": {
    "tags": []
   },
   "outputs": [
    {
     "data": {
      "text/plain": [
       "(tensor([False,  True]), tensor([ 48128, 166912]))"
      ]
     },
     "execution_count": 26,
     "metadata": {},
     "output_type": "execute_result"
    }
   ],
   "source": [
    "f = torch.eq(embeddings_vitals['text'], embeddings_triage['text'])\n",
    "f.unique(return_counts=True)"
   ]
  },
  {
   "cell_type": "code",
   "execution_count": 27,
   "id": "6dfac3fb-f89c-40da-9f2a-357a8a024b9d",
   "metadata": {
    "tags": []
   },
   "outputs": [
    {
     "data": {
      "text/plain": [
       "(tensor([False,  True]), tensor([167936,  47104]))"
      ]
     },
     "execution_count": 27,
     "metadata": {},
     "output_type": "execute_result"
    }
   ],
   "source": [
    "f = torch.eq(embeddings_codes['text'], embeddings_medrecon['text'])\n",
    "f.unique(return_counts=True)"
   ]
  },
  {
   "cell_type": "code",
   "execution_count": 28,
   "id": "d9b6112a-7faf-4367-bcfa-d0ca2858fc4d",
   "metadata": {
    "tags": []
   },
   "outputs": [
    {
     "data": {
      "text/plain": [
       "{'text': tensor([[-0.5405,  1.5691,  2.6175,  ...,  2.7306,  0.4177,  0.2988],\n",
       "         [ 0.6689, -4.7472,  0.6694,  ...,  1.7531, -0.3385, -1.5079],\n",
       "         [ 1.1397, -2.2978, -0.9795,  ..., -0.0491, -0.4359, -3.5429],\n",
       "         ...,\n",
       "         [-0.5405,  1.5691,  2.6175,  ...,  2.7306,  0.4177,  0.2988],\n",
       "         [ 0.3575, -2.7234,  1.5720,  ...,  3.7609, -0.6914, -0.2626],\n",
       "         [ 0.0445, -1.1765, -1.8933,  ...,  2.9270,  2.3252, -1.5355]])}"
      ]
     },
     "execution_count": 28,
     "metadata": {},
     "output_type": "execute_result"
    }
   ],
   "source": [
    "embeddings_codes"
   ]
  },
  {
   "cell_type": "code",
   "execution_count": 32,
   "id": "c58ff0cd-6142-44b9-b2f8-9b297616ddb1",
   "metadata": {
    "tags": []
   },
   "outputs": [
    {
     "name": "stdout",
     "output_type": "stream",
     "text": [
      "torch.Size([210, 1024])\n",
      "torch.Size([210, 1024])\n",
      "torch.Size([210, 1024])\n",
      "torch.Size([210, 1024])\n",
      "torch.Size([210, 1024])\n",
      "torch.Size([210, 1024])\n"
     ]
    }
   ],
   "source": [
    "print(embeddings_arrival['text'].size())\n",
    "print(embeddings_vitals['text'].size())\n",
    "print(embeddings_medrecon['text'].size())\n",
    "print(embeddings_codes['text'].size())\n",
    "print(embeddings_pyxis['text'].size())\n",
    "print(embeddings_triage['text'].size())"
   ]
  },
  {
   "cell_type": "code",
   "execution_count": 33,
   "id": "2be9cf16-63df-4213-ae5b-fb0baf639b25",
   "metadata": {
    "tags": []
   },
   "outputs": [
    {
     "name": "stdout",
     "output_type": "stream",
     "text": [
      "torch.Size([210, 6144])\n"
     ]
    },
    {
     "data": {
      "text/plain": [
       "tensor([-0.5405,  1.5691,  2.6175,  ...,  0.8123, -0.6005,  1.2162])"
      ]
     },
     "execution_count": 33,
     "metadata": {},
     "output_type": "execute_result"
    }
   ],
   "source": [
    "# concatenate vectors into one\n",
    "concat = torch.cat((embeddings_vitals['text'], embeddings_arrival['text'], embeddings_medrecon['text'], embeddings_codes['text'],embeddings_pyxis['text'], embeddings_triage['text']), -1)\n",
    "print(concat.size())\n",
    "concat[0]"
   ]
  },
  {
   "cell_type": "code",
   "execution_count": 36,
   "id": "4cff3903-3b3b-413e-a55b-e0da858e10c5",
   "metadata": {
    "tags": []
   },
   "outputs": [],
   "source": [
    "class SelfAttention(nn.Module):\n",
    "    def __init__(self, input_dim):\n",
    "        super(SelfAttention, self).__init__()\n",
    "        self.input_dim = input_dim\n",
    "        self.query = nn.Linear(input_dim, input_dim)\n",
    "        self.key = nn.Linear(input_dim, input_dim)\n",
    "        self.value = nn.Linear(input_dim, input_dim)\n",
    "        self.softmax = nn.Softmax(dim=2)\n",
    "        \n",
    "    def forward(self, x):\n",
    "        queries = self.query(x)\n",
    "        keys = self.key(x)\n",
    "        values = self.value(x)\n",
    "        scores = torch.bmm(queries, keys.transpose(1, 2)) / (self.input_dim ** 0.5)\n",
    "        attention = self.softmax(scores)\n",
    "        weighted = torch.bmm(attention, values)\n",
    "        return weighted"
   ]
  },
  {
   "cell_type": "code",
   "execution_count": 42,
   "id": "112f4a67-b63c-49da-a015-00dbdb7e4ca7",
   "metadata": {
    "tags": []
   },
   "outputs": [
    {
     "data": {
      "text/plain": [
       "torch.Size([210, 6144])"
      ]
     },
     "execution_count": 42,
     "metadata": {},
     "output_type": "execute_result"
    }
   ],
   "source": [
    "self_attention = SelfAttention( 6144 )\n",
    "output = self_attention(concat.unsqueeze(0))\n",
    "output = output[0]"
   ]
  },
  {
   "cell_type": "code",
   "execution_count": 43,
   "id": "be1ea088-7dd5-4dc9-9e28-f66cb0b0d316",
   "metadata": {},
   "outputs": [
    {
     "name": "stdout",
     "output_type": "stream",
     "text": [
      "torch.Size([210, 768])\n"
     ]
    }
   ],
   "source": [
    "# apply a dense layer to project them on different space.\n",
    "dense_layer = nn.Linear(6144, 768)\n",
    "new_vec = dense_layer(concat)\n",
    "print(new_vec.size())"
   ]
  },
  {
   "cell_type": "code",
   "execution_count": null,
   "id": "b8e7f0a6-8446-4b52-9282-81d9a4621409",
   "metadata": {},
   "outputs": [],
   "source": []
  }
 ],
 "metadata": {
  "availableInstances": [
   {
    "_defaultOrder": 0,
    "_isFastLaunch": true,
    "category": "General purpose",
    "gpuNum": 0,
    "hideHardwareSpecs": false,
    "memoryGiB": 4,
    "name": "ml.t3.medium",
    "vcpuNum": 2
   },
   {
    "_defaultOrder": 1,
    "_isFastLaunch": false,
    "category": "General purpose",
    "gpuNum": 0,
    "hideHardwareSpecs": false,
    "memoryGiB": 8,
    "name": "ml.t3.large",
    "vcpuNum": 2
   },
   {
    "_defaultOrder": 2,
    "_isFastLaunch": false,
    "category": "General purpose",
    "gpuNum": 0,
    "hideHardwareSpecs": false,
    "memoryGiB": 16,
    "name": "ml.t3.xlarge",
    "vcpuNum": 4
   },
   {
    "_defaultOrder": 3,
    "_isFastLaunch": false,
    "category": "General purpose",
    "gpuNum": 0,
    "hideHardwareSpecs": false,
    "memoryGiB": 32,
    "name": "ml.t3.2xlarge",
    "vcpuNum": 8
   },
   {
    "_defaultOrder": 4,
    "_isFastLaunch": true,
    "category": "General purpose",
    "gpuNum": 0,
    "hideHardwareSpecs": false,
    "memoryGiB": 8,
    "name": "ml.m5.large",
    "vcpuNum": 2
   },
   {
    "_defaultOrder": 5,
    "_isFastLaunch": false,
    "category": "General purpose",
    "gpuNum": 0,
    "hideHardwareSpecs": false,
    "memoryGiB": 16,
    "name": "ml.m5.xlarge",
    "vcpuNum": 4
   },
   {
    "_defaultOrder": 6,
    "_isFastLaunch": false,
    "category": "General purpose",
    "gpuNum": 0,
    "hideHardwareSpecs": false,
    "memoryGiB": 32,
    "name": "ml.m5.2xlarge",
    "vcpuNum": 8
   },
   {
    "_defaultOrder": 7,
    "_isFastLaunch": false,
    "category": "General purpose",
    "gpuNum": 0,
    "hideHardwareSpecs": false,
    "memoryGiB": 64,
    "name": "ml.m5.4xlarge",
    "vcpuNum": 16
   },
   {
    "_defaultOrder": 8,
    "_isFastLaunch": false,
    "category": "General purpose",
    "gpuNum": 0,
    "hideHardwareSpecs": false,
    "memoryGiB": 128,
    "name": "ml.m5.8xlarge",
    "vcpuNum": 32
   },
   {
    "_defaultOrder": 9,
    "_isFastLaunch": false,
    "category": "General purpose",
    "gpuNum": 0,
    "hideHardwareSpecs": false,
    "memoryGiB": 192,
    "name": "ml.m5.12xlarge",
    "vcpuNum": 48
   },
   {
    "_defaultOrder": 10,
    "_isFastLaunch": false,
    "category": "General purpose",
    "gpuNum": 0,
    "hideHardwareSpecs": false,
    "memoryGiB": 256,
    "name": "ml.m5.16xlarge",
    "vcpuNum": 64
   },
   {
    "_defaultOrder": 11,
    "_isFastLaunch": false,
    "category": "General purpose",
    "gpuNum": 0,
    "hideHardwareSpecs": false,
    "memoryGiB": 384,
    "name": "ml.m5.24xlarge",
    "vcpuNum": 96
   },
   {
    "_defaultOrder": 12,
    "_isFastLaunch": false,
    "category": "General purpose",
    "gpuNum": 0,
    "hideHardwareSpecs": false,
    "memoryGiB": 8,
    "name": "ml.m5d.large",
    "vcpuNum": 2
   },
   {
    "_defaultOrder": 13,
    "_isFastLaunch": false,
    "category": "General purpose",
    "gpuNum": 0,
    "hideHardwareSpecs": false,
    "memoryGiB": 16,
    "name": "ml.m5d.xlarge",
    "vcpuNum": 4
   },
   {
    "_defaultOrder": 14,
    "_isFastLaunch": false,
    "category": "General purpose",
    "gpuNum": 0,
    "hideHardwareSpecs": false,
    "memoryGiB": 32,
    "name": "ml.m5d.2xlarge",
    "vcpuNum": 8
   },
   {
    "_defaultOrder": 15,
    "_isFastLaunch": false,
    "category": "General purpose",
    "gpuNum": 0,
    "hideHardwareSpecs": false,
    "memoryGiB": 64,
    "name": "ml.m5d.4xlarge",
    "vcpuNum": 16
   },
   {
    "_defaultOrder": 16,
    "_isFastLaunch": false,
    "category": "General purpose",
    "gpuNum": 0,
    "hideHardwareSpecs": false,
    "memoryGiB": 128,
    "name": "ml.m5d.8xlarge",
    "vcpuNum": 32
   },
   {
    "_defaultOrder": 17,
    "_isFastLaunch": false,
    "category": "General purpose",
    "gpuNum": 0,
    "hideHardwareSpecs": false,
    "memoryGiB": 192,
    "name": "ml.m5d.12xlarge",
    "vcpuNum": 48
   },
   {
    "_defaultOrder": 18,
    "_isFastLaunch": false,
    "category": "General purpose",
    "gpuNum": 0,
    "hideHardwareSpecs": false,
    "memoryGiB": 256,
    "name": "ml.m5d.16xlarge",
    "vcpuNum": 64
   },
   {
    "_defaultOrder": 19,
    "_isFastLaunch": false,
    "category": "General purpose",
    "gpuNum": 0,
    "hideHardwareSpecs": false,
    "memoryGiB": 384,
    "name": "ml.m5d.24xlarge",
    "vcpuNum": 96
   },
   {
    "_defaultOrder": 20,
    "_isFastLaunch": false,
    "category": "General purpose",
    "gpuNum": 0,
    "hideHardwareSpecs": true,
    "memoryGiB": 0,
    "name": "ml.geospatial.interactive",
    "supportedImageNames": [
     "sagemaker-geospatial-v1-0"
    ],
    "vcpuNum": 0
   },
   {
    "_defaultOrder": 21,
    "_isFastLaunch": true,
    "category": "Compute optimized",
    "gpuNum": 0,
    "hideHardwareSpecs": false,
    "memoryGiB": 4,
    "name": "ml.c5.large",
    "vcpuNum": 2
   },
   {
    "_defaultOrder": 22,
    "_isFastLaunch": false,
    "category": "Compute optimized",
    "gpuNum": 0,
    "hideHardwareSpecs": false,
    "memoryGiB": 8,
    "name": "ml.c5.xlarge",
    "vcpuNum": 4
   },
   {
    "_defaultOrder": 23,
    "_isFastLaunch": false,
    "category": "Compute optimized",
    "gpuNum": 0,
    "hideHardwareSpecs": false,
    "memoryGiB": 16,
    "name": "ml.c5.2xlarge",
    "vcpuNum": 8
   },
   {
    "_defaultOrder": 24,
    "_isFastLaunch": false,
    "category": "Compute optimized",
    "gpuNum": 0,
    "hideHardwareSpecs": false,
    "memoryGiB": 32,
    "name": "ml.c5.4xlarge",
    "vcpuNum": 16
   },
   {
    "_defaultOrder": 25,
    "_isFastLaunch": false,
    "category": "Compute optimized",
    "gpuNum": 0,
    "hideHardwareSpecs": false,
    "memoryGiB": 72,
    "name": "ml.c5.9xlarge",
    "vcpuNum": 36
   },
   {
    "_defaultOrder": 26,
    "_isFastLaunch": false,
    "category": "Compute optimized",
    "gpuNum": 0,
    "hideHardwareSpecs": false,
    "memoryGiB": 96,
    "name": "ml.c5.12xlarge",
    "vcpuNum": 48
   },
   {
    "_defaultOrder": 27,
    "_isFastLaunch": false,
    "category": "Compute optimized",
    "gpuNum": 0,
    "hideHardwareSpecs": false,
    "memoryGiB": 144,
    "name": "ml.c5.18xlarge",
    "vcpuNum": 72
   },
   {
    "_defaultOrder": 28,
    "_isFastLaunch": false,
    "category": "Compute optimized",
    "gpuNum": 0,
    "hideHardwareSpecs": false,
    "memoryGiB": 192,
    "name": "ml.c5.24xlarge",
    "vcpuNum": 96
   },
   {
    "_defaultOrder": 29,
    "_isFastLaunch": true,
    "category": "Accelerated computing",
    "gpuNum": 1,
    "hideHardwareSpecs": false,
    "memoryGiB": 16,
    "name": "ml.g4dn.xlarge",
    "vcpuNum": 4
   },
   {
    "_defaultOrder": 30,
    "_isFastLaunch": false,
    "category": "Accelerated computing",
    "gpuNum": 1,
    "hideHardwareSpecs": false,
    "memoryGiB": 32,
    "name": "ml.g4dn.2xlarge",
    "vcpuNum": 8
   },
   {
    "_defaultOrder": 31,
    "_isFastLaunch": false,
    "category": "Accelerated computing",
    "gpuNum": 1,
    "hideHardwareSpecs": false,
    "memoryGiB": 64,
    "name": "ml.g4dn.4xlarge",
    "vcpuNum": 16
   },
   {
    "_defaultOrder": 32,
    "_isFastLaunch": false,
    "category": "Accelerated computing",
    "gpuNum": 1,
    "hideHardwareSpecs": false,
    "memoryGiB": 128,
    "name": "ml.g4dn.8xlarge",
    "vcpuNum": 32
   },
   {
    "_defaultOrder": 33,
    "_isFastLaunch": false,
    "category": "Accelerated computing",
    "gpuNum": 4,
    "hideHardwareSpecs": false,
    "memoryGiB": 192,
    "name": "ml.g4dn.12xlarge",
    "vcpuNum": 48
   },
   {
    "_defaultOrder": 34,
    "_isFastLaunch": false,
    "category": "Accelerated computing",
    "gpuNum": 1,
    "hideHardwareSpecs": false,
    "memoryGiB": 256,
    "name": "ml.g4dn.16xlarge",
    "vcpuNum": 64
   },
   {
    "_defaultOrder": 35,
    "_isFastLaunch": false,
    "category": "Accelerated computing",
    "gpuNum": 1,
    "hideHardwareSpecs": false,
    "memoryGiB": 61,
    "name": "ml.p3.2xlarge",
    "vcpuNum": 8
   },
   {
    "_defaultOrder": 36,
    "_isFastLaunch": false,
    "category": "Accelerated computing",
    "gpuNum": 4,
    "hideHardwareSpecs": false,
    "memoryGiB": 244,
    "name": "ml.p3.8xlarge",
    "vcpuNum": 32
   },
   {
    "_defaultOrder": 37,
    "_isFastLaunch": false,
    "category": "Accelerated computing",
    "gpuNum": 8,
    "hideHardwareSpecs": false,
    "memoryGiB": 488,
    "name": "ml.p3.16xlarge",
    "vcpuNum": 64
   },
   {
    "_defaultOrder": 38,
    "_isFastLaunch": false,
    "category": "Accelerated computing",
    "gpuNum": 8,
    "hideHardwareSpecs": false,
    "memoryGiB": 768,
    "name": "ml.p3dn.24xlarge",
    "vcpuNum": 96
   },
   {
    "_defaultOrder": 39,
    "_isFastLaunch": false,
    "category": "Memory Optimized",
    "gpuNum": 0,
    "hideHardwareSpecs": false,
    "memoryGiB": 16,
    "name": "ml.r5.large",
    "vcpuNum": 2
   },
   {
    "_defaultOrder": 40,
    "_isFastLaunch": false,
    "category": "Memory Optimized",
    "gpuNum": 0,
    "hideHardwareSpecs": false,
    "memoryGiB": 32,
    "name": "ml.r5.xlarge",
    "vcpuNum": 4
   },
   {
    "_defaultOrder": 41,
    "_isFastLaunch": false,
    "category": "Memory Optimized",
    "gpuNum": 0,
    "hideHardwareSpecs": false,
    "memoryGiB": 64,
    "name": "ml.r5.2xlarge",
    "vcpuNum": 8
   },
   {
    "_defaultOrder": 42,
    "_isFastLaunch": false,
    "category": "Memory Optimized",
    "gpuNum": 0,
    "hideHardwareSpecs": false,
    "memoryGiB": 128,
    "name": "ml.r5.4xlarge",
    "vcpuNum": 16
   },
   {
    "_defaultOrder": 43,
    "_isFastLaunch": false,
    "category": "Memory Optimized",
    "gpuNum": 0,
    "hideHardwareSpecs": false,
    "memoryGiB": 256,
    "name": "ml.r5.8xlarge",
    "vcpuNum": 32
   },
   {
    "_defaultOrder": 44,
    "_isFastLaunch": false,
    "category": "Memory Optimized",
    "gpuNum": 0,
    "hideHardwareSpecs": false,
    "memoryGiB": 384,
    "name": "ml.r5.12xlarge",
    "vcpuNum": 48
   },
   {
    "_defaultOrder": 45,
    "_isFastLaunch": false,
    "category": "Memory Optimized",
    "gpuNum": 0,
    "hideHardwareSpecs": false,
    "memoryGiB": 512,
    "name": "ml.r5.16xlarge",
    "vcpuNum": 64
   },
   {
    "_defaultOrder": 46,
    "_isFastLaunch": false,
    "category": "Memory Optimized",
    "gpuNum": 0,
    "hideHardwareSpecs": false,
    "memoryGiB": 768,
    "name": "ml.r5.24xlarge",
    "vcpuNum": 96
   },
   {
    "_defaultOrder": 47,
    "_isFastLaunch": false,
    "category": "Accelerated computing",
    "gpuNum": 1,
    "hideHardwareSpecs": false,
    "memoryGiB": 16,
    "name": "ml.g5.xlarge",
    "vcpuNum": 4
   },
   {
    "_defaultOrder": 48,
    "_isFastLaunch": false,
    "category": "Accelerated computing",
    "gpuNum": 1,
    "hideHardwareSpecs": false,
    "memoryGiB": 32,
    "name": "ml.g5.2xlarge",
    "vcpuNum": 8
   },
   {
    "_defaultOrder": 49,
    "_isFastLaunch": false,
    "category": "Accelerated computing",
    "gpuNum": 1,
    "hideHardwareSpecs": false,
    "memoryGiB": 64,
    "name": "ml.g5.4xlarge",
    "vcpuNum": 16
   },
   {
    "_defaultOrder": 50,
    "_isFastLaunch": false,
    "category": "Accelerated computing",
    "gpuNum": 1,
    "hideHardwareSpecs": false,
    "memoryGiB": 128,
    "name": "ml.g5.8xlarge",
    "vcpuNum": 32
   },
   {
    "_defaultOrder": 51,
    "_isFastLaunch": false,
    "category": "Accelerated computing",
    "gpuNum": 1,
    "hideHardwareSpecs": false,
    "memoryGiB": 256,
    "name": "ml.g5.16xlarge",
    "vcpuNum": 64
   },
   {
    "_defaultOrder": 52,
    "_isFastLaunch": false,
    "category": "Accelerated computing",
    "gpuNum": 4,
    "hideHardwareSpecs": false,
    "memoryGiB": 192,
    "name": "ml.g5.12xlarge",
    "vcpuNum": 48
   },
   {
    "_defaultOrder": 53,
    "_isFastLaunch": false,
    "category": "Accelerated computing",
    "gpuNum": 4,
    "hideHardwareSpecs": false,
    "memoryGiB": 384,
    "name": "ml.g5.24xlarge",
    "vcpuNum": 96
   },
   {
    "_defaultOrder": 54,
    "_isFastLaunch": false,
    "category": "Accelerated computing",
    "gpuNum": 8,
    "hideHardwareSpecs": false,
    "memoryGiB": 768,
    "name": "ml.g5.48xlarge",
    "vcpuNum": 192
   },
   {
    "_defaultOrder": 55,
    "_isFastLaunch": false,
    "category": "Accelerated computing",
    "gpuNum": 8,
    "hideHardwareSpecs": false,
    "memoryGiB": 1152,
    "name": "ml.p4d.24xlarge",
    "vcpuNum": 96
   },
   {
    "_defaultOrder": 56,
    "_isFastLaunch": false,
    "category": "Accelerated computing",
    "gpuNum": 8,
    "hideHardwareSpecs": false,
    "memoryGiB": 1152,
    "name": "ml.p4de.24xlarge",
    "vcpuNum": 96
   }
  ],
  "instance_type": "ml.m5.4xlarge",
  "kernelspec": {
   "display_name": "Python 3 (PyTorch 1.13 Python 3.9 CPU Optimized)",
   "language": "python",
   "name": "python3__SAGEMAKER_INTERNAL__arn:aws:sagemaker:us-west-2:236514542706:image/pytorch-1.13-cpu-py39"
  },
  "language_info": {
   "codemirror_mode": {
    "name": "ipython",
    "version": 3
   },
   "file_extension": ".py",
   "mimetype": "text/x-python",
   "name": "python",
   "nbconvert_exporter": "python",
   "pygments_lexer": "ipython3",
   "version": "3.9.16"
  }
 },
 "nbformat": 4,
 "nbformat_minor": 5
}
